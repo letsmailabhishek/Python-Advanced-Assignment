{
 "cells": [
  {
   "cell_type": "markdown",
   "id": "2181f61d",
   "metadata": {},
   "source": [
    "Q1. What is the purpose of Python&#39;s OOP?"
   ]
  },
  {
   "cell_type": "markdown",
   "id": "0649bb90",
   "metadata": {},
   "source": [
    "* The Purpose behind the OOP programming is to make code reusability,code writting with in standard Format as well as anyone new person can also work with the code.\n",
    "* In the OOP all code break down into the modules so that we can use code in effecient manner with being an confusion.\n",
    "* It makes easier to write the longer program.\n",
    "* It is helping to write code for the production level."
   ]
  },
  {
   "cell_type": "markdown",
   "id": "d8e5ca04",
   "metadata": {},
   "source": [
    "Q2. Where does an inheritance search look for an attribute?"
   ]
  },
  {
   "cell_type": "markdown",
   "id": "e379584f",
   "metadata": {},
   "source": [
    "* It find the first occurrence of attribute by looking in object, then in all classes above it, from bottom to top and left to right.\n",
    "* In other words, attribute fetches are simply tree searches. The term inheritance is applied because objects lower in a tree inherit attributes attached to objects higher in that tree. As the search proceeds from the bottom up, in a sense, the objects linked into a tree are the union of all the attributes defined in all their tree parents, all the way up the tree."
   ]
  },
  {
   "cell_type": "markdown",
   "id": "d2e33637",
   "metadata": {},
   "source": [
    "Q3. How do you distinguish between a class object and an instance object?"
   ]
  },
  {
   "cell_type": "markdown",
   "id": "bc1215a0",
   "metadata": {},
   "source": [
    "* Everything in Python is an object such as integers, lists, dictionaries, functions and so on. Every object has a type and the object types are created using classes.\n",
    "* Instance is an object that belongs to a class. For instance, list is a class in Python. When we create a list, we have an instance of the list class.\n",
    "* Class variables are declared inside a class but outside of any function. Instance variables are declared inside the constructor which is the __init__method."
   ]
  },
  {
   "cell_type": "code",
   "execution_count": 3,
   "id": "855917e3",
   "metadata": {},
   "outputs": [],
   "source": [
    "class Book():\n",
    "    fontsize = 9  #whatever the variable outside the function or method then these are class variable.\n",
    "    page_width = 15\n",
    "    def __init__(self, name, writer, length):  #whatever the variable inside method called as instance variable\n",
    "        self.name = name\n",
    "        self.writer = writer\n",
    "        self.length = length"
   ]
  },
  {
   "cell_type": "markdown",
   "id": "a3cae362",
   "metadata": {},
   "source": [
    "* Assume the Book class is used by a publishing company. The fontsize and page_width are class variables. Every book instance created will have a fontsize of 9 and page_width of 15 cm.\n",
    "* The name, writer, and length variables are declared in the init method so they are instance variables. The values of these variables are determined when creating an instance."
   ]
  },
  {
   "cell_type": "markdown",
   "id": "945dcd6c",
   "metadata": {},
   "source": [
    "Q4. What makes the first argument in a class’s method function special?"
   ]
  },
  {
   "cell_type": "markdown",
   "id": "e9156fa5",
   "metadata": {},
   "source": [
    "* The first argument of every class method, including init, is always a reference to the current instance of the class. By convention, this argument is always named self. In the init method, self refers to the newly created object; in other class methods, it refers to the instance whose method was called."
   ]
  },
  {
   "cell_type": "markdown",
   "id": "306525ea",
   "metadata": {},
   "source": [
    "Q5. What is the purpose of the __init__ method?"
   ]
  },
  {
   "cell_type": "markdown",
   "id": "dcd37d24",
   "metadata": {},
   "source": [
    "* It is init method which is going to work contructor inside python.\n",
    "* It is going to help to allocate the spaces or memory to the variable.\n",
    "* The init function is called every time an object is created from a class.\n",
    "* The init method lets the class initialize the object’s attributes and serves no other purpose. It is only used within classes."
   ]
  },
  {
   "cell_type": "markdown",
   "id": "f3d37c94",
   "metadata": {},
   "source": [
    "Q6. What is the process for creating a class instance?"
   ]
  },
  {
   "cell_type": "markdown",
   "id": "136bbac6",
   "metadata": {},
   "source": [
    "For Creating the class instnce we need to define the class name and then implement the varible outside the its method like below way."
   ]
  },
  {
   "cell_type": "code",
   "execution_count": 5,
   "id": "3a0450d7",
   "metadata": {},
   "outputs": [],
   "source": [
    "class A:\n",
    "    School = \"Vivekananda\"  #In this we can create the class variable \n",
    "    def __init__(self, Animal):\n",
    "        print(Roshan, 'is an animal.');"
   ]
  },
  {
   "cell_type": "markdown",
   "id": "4a445e8e",
   "metadata": {},
   "source": [
    "Q7. What is the process for creating a class?"
   ]
  },
  {
   "cell_type": "markdown",
   "id": "ec54957a",
   "metadata": {},
   "source": [
    "* Class variable are the default variable for that particular class.\n",
    "* A class variable is an important part of object-oriented programming (OOP) that defines a specific attribute or property for a class and may be referred to as a member variable or static member variable.\n",
    "* The class is a blueprint that defines a nature of a future object.\n",
    "* Code encapsulation\n",
    "* Modularization\n",
    "* Reusability"
   ]
  },
  {
   "cell_type": "markdown",
   "id": "67076ad2",
   "metadata": {},
   "source": [
    "Q8. How would you define the superclasses of a class?"
   ]
  },
  {
   "cell_type": "markdown",
   "id": "714604a0",
   "metadata": {},
   "source": [
    "The super() function is used to give access to methods and properties of a parent or sibling class. The super() function returns an object that represents the parent class."
   ]
  },
  {
   "cell_type": "code",
   "execution_count": 9,
   "id": "b7ee9c01",
   "metadata": {},
   "outputs": [
    {
     "name": "stdout",
     "output_type": "stream",
     "text": [
      "Animal Type: Mammal\n",
      "Mammals give birth directly\n"
     ]
    }
   ],
   "source": [
    "class Animal(object):\n",
    "    def __init__(self, animal_type):\n",
    "        print('Animal Type:', animal_type)\n",
    "    \n",
    "class Mammal(Animal):\n",
    "    def __init__(self):\n",
    "\n",
    "    # call superclass\n",
    "        super().__init__('Mammal')\n",
    "        print('Mammals give birth directly')\n",
    "    \n",
    "dog = Mammal()\n",
    "\n",
    "# Output: Animal Type: Mammal\n",
    "#         Mammals give birth directly"
   ]
  },
  {
   "cell_type": "code",
   "execution_count": 10,
   "id": "9641e8df",
   "metadata": {},
   "outputs": [
    {
     "name": "stdout",
     "output_type": "stream",
     "text": [
      "Dog has 4 legs.\n",
      "Dog can't swim.\n",
      "Dog can't fly.\n",
      "Dog is a warm-blooded animal.\n",
      "Dog is an animal.\n",
      "\n",
      "Bat can't swim.\n",
      "Bat is a warm-blooded animal.\n",
      "Bat is an animal.\n"
     ]
    }
   ],
   "source": [
    "class Animal:\n",
    "      def __init__(self, Animal):\n",
    "        print(Animal, 'is an animal.');\n",
    "\n",
    "class Mammal(Animal):\n",
    "      def __init__(self, mammalName):\n",
    "        print(mammalName, 'is a warm-blooded animal.')\n",
    "        super().__init__(mammalName)\n",
    "    \n",
    "class NonWingedMammal(Mammal):\n",
    "      def __init__(self, NonWingedMammal):\n",
    "        print(NonWingedMammal, \"can't fly.\")\n",
    "        super().__init__(NonWingedMammal)\n",
    "\n",
    "class NonMarineMammal(Mammal):\n",
    "    def __init__(self, NonMarineMammal):\n",
    "        print(NonMarineMammal, \"can't swim.\")\n",
    "        super().__init__(NonMarineMammal)\n",
    "\n",
    "class Dog(NonMarineMammal, NonWingedMammal):\n",
    "      def __init__(self):\n",
    "        print('Dog has 4 legs.');\n",
    "        super().__init__('Dog')\n",
    "    \n",
    "d = Dog()\n",
    "print('')\n",
    "bat = NonMarineMammal('Bat')"
   ]
  }
 ],
 "metadata": {
  "kernelspec": {
   "display_name": "Python 3 (ipykernel)",
   "language": "python",
   "name": "python3"
  },
  "language_info": {
   "codemirror_mode": {
    "name": "ipython",
    "version": 3
   },
   "file_extension": ".py",
   "mimetype": "text/x-python",
   "name": "python",
   "nbconvert_exporter": "python",
   "pygments_lexer": "ipython3",
   "version": "3.9.12"
  }
 },
 "nbformat": 4,
 "nbformat_minor": 5
}
