{
 "cells": [
  {
   "attachments": {},
   "cell_type": "markdown",
   "metadata": {},
   "source": [
    "Q1. What is the concept of a metaclass?"
   ]
  },
  {
   "cell_type": "markdown",
   "metadata": {},
   "source": [
    "A metaclass in Python is a class of a class that defines how a class behaves. A class is itself an instance of a metaclass. A class in Python defines how the instance of the class will behave. In order to understand metaclasses well, one needs to have prior experience working with Python classes.\n",
    "\n"
   ]
  },
  {
   "attachments": {},
   "cell_type": "markdown",
   "metadata": {},
   "source": [
    "Q2. What is the best way to declare a class&#39;s metaclass?"
   ]
  },
  {
   "cell_type": "markdown",
   "metadata": {},
   "source": [
    "- New-style classes unify the concepts of class and type. If `obj` is an instance of a `new-style class`, `type(obj)` is the same as `obj.__class__:`"
   ]
  },
  {
   "cell_type": "code",
   "execution_count": 1,
   "metadata": {
    "execution": {
     "iopub.execute_input": "2022-01-15T15:35:16.734468Z",
     "iopub.status.busy": "2022-01-15T15:35:16.733604Z",
     "iopub.status.idle": "2022-01-15T15:35:16.761361Z",
     "shell.execute_reply": "2022-01-15T15:35:16.760790Z",
     "shell.execute_reply.started": "2022-01-15T15:35:16.734368Z"
    }
   },
   "outputs": [],
   "source": [
    "class Foo:\n",
    "    pass\n",
    "obj = Foo()\n",
    "\n",
    "obj.__class__ is type(obj)"
   ]
  },
  {
   "cell_type": "code",
   "execution_count": 2,
   "metadata": {
    "execution": {
     "iopub.execute_input": "2022-01-15T15:35:16.763104Z",
     "iopub.status.busy": "2022-01-15T15:35:16.762773Z",
     "iopub.status.idle": "2022-01-15T15:35:16.768350Z",
     "shell.execute_reply": "2022-01-15T15:35:16.767607Z",
     "shell.execute_reply.started": "2022-01-15T15:35:16.763075Z"
    }
   },
   "outputs": [],
   "source": [
    "obj.__class__"
   ]
  },
  {
   "cell_type": "code",
   "execution_count": 3,
   "metadata": {
    "execution": {
     "iopub.execute_input": "2022-01-15T15:35:16.769997Z",
     "iopub.status.busy": "2022-01-15T15:35:16.769573Z",
     "iopub.status.idle": "2022-01-15T15:35:16.780126Z",
     "shell.execute_reply": "2022-01-15T15:35:16.779502Z",
     "shell.execute_reply.started": "2022-01-15T15:35:16.769963Z"
    }
   },
   "outputs": [],
   "source": [
    "type(obj)"
   ]
  },
  {
   "cell_type": "markdown",
   "metadata": {},
   "source": [
    "- In Python 3, all classes are new-style classes. Thus, in Python 3 it is reasonable to refer to an object’s type and its class interchangeably.\n",
    "- Remember that, in Python, everything is an object. Classes are objects as well. As a result, a class must have a type. What is the type of a class?"
   ]
  },
  {
   "cell_type": "code",
   "execution_count": 4,
   "metadata": {
    "execution": {
     "iopub.execute_input": "2022-01-15T15:35:16.781943Z",
     "iopub.status.busy": "2022-01-15T15:35:16.781324Z",
     "iopub.status.idle": "2022-01-15T15:35:16.793838Z",
     "shell.execute_reply": "2022-01-15T15:35:16.792650Z",
     "shell.execute_reply.started": "2022-01-15T15:35:16.781911Z"
    }
   },
   "outputs": [],
   "source": [
    "class Foo:\n",
    "    pass\n",
    "    \n",
    "X = Foo()"
   ]
  },
  {
   "cell_type": "code",
   "execution_count": 5,
   "metadata": {
    "execution": {
     "iopub.execute_input": "2022-01-15T15:35:16.796622Z",
     "iopub.status.busy": "2022-01-15T15:35:16.796338Z",
     "iopub.status.idle": "2022-01-15T15:35:16.807424Z",
     "shell.execute_reply": "2022-01-15T15:35:16.806687Z",
     "shell.execute_reply.started": "2022-01-15T15:35:16.796589Z"
    }
   },
   "outputs": [],
   "source": [
    "type(X)"
   ]
  },
  {
   "cell_type": "code",
   "execution_count": 6,
   "metadata": {
    "execution": {
     "iopub.execute_input": "2022-01-15T15:35:16.809383Z",
     "iopub.status.busy": "2022-01-15T15:35:16.808659Z",
     "iopub.status.idle": "2022-01-15T15:35:16.823843Z",
     "shell.execute_reply": "2022-01-15T15:35:16.822861Z",
     "shell.execute_reply.started": "2022-01-15T15:35:16.809343Z"
    }
   },
   "outputs": [],
   "source": [
    "type(Foo)"
   ]
  },
  {
   "cell_type": "markdown",
   "metadata": {},
   "source": [
    "The type of x is class Foo, as you would expect. But the type of Foo, the class itself, is type. In general, the type of any new-style class is type."
   ]
  },
  {
   "cell_type": "code",
   "execution_count": 7,
   "metadata": {
    "execution": {
     "iopub.execute_input": "2022-01-15T15:35:16.825360Z",
     "iopub.status.busy": "2022-01-15T15:35:16.825130Z",
     "iopub.status.idle": "2022-01-15T15:35:16.835179Z",
     "shell.execute_reply": "2022-01-15T15:35:16.834572Z",
     "shell.execute_reply.started": "2022-01-15T15:35:16.825331Z"
    }
   },
   "outputs": [],
   "source": [
    "for t in int, float, dict, list, tuple:\n",
    "     print(type(t))"
   ]
  },
  {
   "cell_type": "code",
   "execution_count": 8,
   "metadata": {
    "execution": {
     "iopub.execute_input": "2022-01-15T15:35:16.837400Z",
     "iopub.status.busy": "2022-01-15T15:35:16.836558Z",
     "iopub.status.idle": "2022-01-15T15:35:16.849683Z",
     "shell.execute_reply": "2022-01-15T15:35:16.848919Z",
     "shell.execute_reply.started": "2022-01-15T15:35:16.837362Z"
    }
   },
   "outputs": [],
   "source": [
    "article = 'metaclasses'\n",
    "article.__class__"
   ]
  },
  {
   "cell_type": "markdown",
   "metadata": {},
   "source": [
    "In Python, we can customize the class creation process by passing the metaclass keyword in the class definition. This can also be done by inheriting a class that has already passed in this keyword."
   ]
  },
  {
   "cell_type": "code",
   "execution_count": 9,
   "metadata": {
    "execution": {
     "iopub.execute_input": "2022-01-15T15:35:16.851377Z",
     "iopub.status.busy": "2022-01-15T15:35:16.850958Z",
     "iopub.status.idle": "2022-01-15T15:35:16.861081Z",
     "shell.execute_reply": "2022-01-15T15:35:16.860144Z",
     "shell.execute_reply.started": "2022-01-15T15:35:16.851345Z"
    }
   },
   "outputs": [],
   "source": [
    "class MyMeta(type):\n",
    "    pass\n",
    "\n",
    "class MyClass(metaclass=MyMeta):\n",
    "    pass\n",
    "\n",
    "class MySubclass(MyClass):\n",
    "    pass"
   ]
  },
  {
   "cell_type": "code",
   "execution_count": 10,
   "metadata": {
    "execution": {
     "iopub.execute_input": "2022-01-15T15:35:16.862605Z",
     "iopub.status.busy": "2022-01-15T15:35:16.862358Z",
     "iopub.status.idle": "2022-01-15T15:35:16.875723Z",
     "shell.execute_reply": "2022-01-15T15:35:16.874585Z",
     "shell.execute_reply.started": "2022-01-15T15:35:16.862572Z"
    }
   },
   "outputs": [],
   "source": [
    "print(type(MyMeta))\n",
    "print(type(MyClass))\n",
    "print(type(MySubclass))"
   ]
  },
  {
   "cell_type": "markdown",
   "metadata": {},
   "source": [
    "Metaclasses can also be defined in one of the two ways shown below. We'll explain the difference between them below."
   ]
  },
  {
   "cell_type": "code",
   "execution_count": 11,
   "metadata": {
    "execution": {
     "iopub.execute_input": "2022-01-15T15:35:16.878651Z",
     "iopub.status.busy": "2022-01-15T15:35:16.877990Z",
     "iopub.status.idle": "2022-01-15T15:35:16.887054Z",
     "shell.execute_reply": "2022-01-15T15:35:16.886003Z",
     "shell.execute_reply.started": "2022-01-15T15:35:16.878606Z"
    }
   },
   "outputs": [],
   "source": [
    "class MetaOne(type):\n",
    "    def __new__(cls, name, bases, dict):\n",
    "        pass\n",
    "\n",
    "class MetaTwo(type):\n",
    "    def __init__(self, name, bases, dict):\n",
    "        pass"
   ]
  },
  {
   "cell_type": "markdown",
   "metadata": {},
   "source": [
    "`__new__` is used when one wants to define dict or bases tuples before the class is created. The return value of `__new__` is usually an instance of `cls. __new__` allows subclasses of immutable types to customize instance creation. It can be overridden in custom metaclasses to customize class creation. `__init__` is usually called after the object has been created so as to initialize it."
   ]
  },
  {
   "attachments": {},
   "cell_type": "markdown",
   "metadata": {},
   "source": [
    "Q3. How do class decorators overlap with metaclasses for handling classes?"
   ]
  },
  {
   "cell_type": "markdown",
   "metadata": {},
   "source": [
    "- Decorators are much, much simpler and more limited -- and therefore should be preferred whenever the desired effect can be achieved with either a metaclass or a class decorator.\n",
    "- Anything you can do with a class decorator, you can of course do with a custom metaclass (just apply the functionality of the \"decorator function\", i.e., the one that takes a class object and modifies it, in the course of the metaclass's `__new__` or `__init__` that make the class object!-).\n",
    "- One point is that the use of metaclass affects its children while the decorator affects only the current class."
   ]
  },
  {
   "cell_type": "code",
   "execution_count": 12,
   "metadata": {
    "execution": {
     "iopub.execute_input": "2022-01-15T15:35:16.889161Z",
     "iopub.status.busy": "2022-01-15T15:35:16.888810Z",
     "iopub.status.idle": "2022-01-15T15:35:16.900804Z",
     "shell.execute_reply": "2022-01-15T15:35:16.899381Z",
     "shell.execute_reply.started": "2022-01-15T15:35:16.889120Z"
    }
   },
   "outputs": [],
   "source": [
    "def deco4cls(cls):\n",
    "    cls.func1 = lambda self: 2\n",
    "    return cls\n",
    "\n",
    "\n",
    "@deco4cls\n",
    "class Cls1:\n",
    "    pass\n",
    "\n",
    "\n",
    "class Cls1_1(Cls1):\n",
    "    def func1(self):\n",
    "        return 3\n",
    "\n",
    "\n",
    "obj1_1 = Cls1_1()\n",
    "print(obj1_1.func1())  # 3"
   ]
  },
  {
   "attachments": {},
   "cell_type": "markdown",
   "metadata": {},
   "source": [
    "Q4. How do class decorators overlap with metaclasses for handling instances?"
   ]
  },
  {
   "cell_type": "code",
   "execution_count": 13,
   "metadata": {
    "execution": {
     "iopub.execute_input": "2022-01-15T15:35:16.903403Z",
     "iopub.status.busy": "2022-01-15T15:35:16.902600Z",
     "iopub.status.idle": "2022-01-15T15:35:16.914325Z",
     "shell.execute_reply": "2022-01-15T15:35:16.913261Z",
     "shell.execute_reply.started": "2022-01-15T15:35:16.903351Z"
    }
   },
   "outputs": [],
   "source": [
    "def deco4cls(cls):\n",
    "    cls.func1 = lambda self: 2\n",
    "    return cls\n",
    "\n",
    "\n",
    "@deco4cls\n",
    "class Cls1:\n",
    "    pass\n",
    "\n",
    "\n",
    "class Cls1_1(Cls1):\n",
    "    def func1(self):\n",
    "        return 3\n",
    "\n",
    "\n",
    "obj1_1 = Cls1_1()\n",
    "print(obj1_1.func1())  # 3"
   ]
  }
 ],
 "metadata": {
  "kernelspec": {
   "display_name": "Python 3 (ipykernel)",
   "language": "python",
   "name": "python3"
  },
  "language_info": {
   "codemirror_mode": {
    "name": "ipython",
    "version": 3
   },
   "file_extension": ".py",
   "mimetype": "text/x-python",
   "name": "python",
   "nbconvert_exporter": "python",
   "pygments_lexer": "ipython3",
   "version": "3.9.12"
  }
 },
 "nbformat": 4,
 "nbformat_minor": 4
}
