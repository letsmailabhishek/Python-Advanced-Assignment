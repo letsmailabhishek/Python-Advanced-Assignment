{
 "cells": [
  {
   "cell_type": "markdown",
   "id": "48d929d6",
   "metadata": {},
   "source": [
    "Q1. What are the two latest user-defined exception constraints in Python 3.X"
   ]
  },
  {
   "cell_type": "markdown",
   "id": "9b1f1cd3",
   "metadata": {},
   "source": [
    "Exceptions are derived from the exception classes. The names of the exception are like the name ends with the \"error\" but it is not mandatory.\n",
    " \n",
    "    Following is the example of the user defined exception.\n"
   ]
  },
  {
   "cell_type": "code",
   "execution_count": null,
   "id": "87ac23b9",
   "metadata": {},
   "outputs": [],
   "source": [
    "class MyError(Exception):\n",
    " \n",
    "    # Constructor or Initializer\n",
    "    def __init__(self, value):\n",
    "        self.value = value\n",
    " \n",
    "    # __str__ is to print() the value\n",
    "    def __str__(self):\n",
    "        return(repr(self.value))\n",
    " \n",
    " try:\n",
    "    raise(MyError(3*2))\n",
    " \n",
    "# Value of Exception is stored in error\n",
    "except MyError as error:\n",
    "    print('A New Exception occured: ',error.value)"
   ]
  },
  {
   "cell_type": "markdown",
   "id": "6d2838ac",
   "metadata": {},
   "source": [
    "Q2. How are class-based exceptions that have been raised matched to handlers?"
   ]
  },
  {
   "cell_type": "markdown",
   "id": "e2cb4711",
   "metadata": {},
   "source": [
    "class based exceptions are those whicha are raised in runtime and not at initiation of the code. They are checked at runtime.\n",
    "They are matched to handlers by creating a base class that is defined by the error's module."
   ]
  },
  {
   "cell_type": "markdown",
   "id": "4e82ceca",
   "metadata": {},
   "source": [
    "Q3. Describe two methods for attaching context information to exception artefacts."
   ]
  },
  {
   "cell_type": "markdown",
   "id": "fe97032f",
   "metadata": {},
   "source": [
    "A better strategy is to just append your message to the argument of the original exception if possible as in err. args += (\"message\",) and re-raise the exception message. The traceback might not take you to the line numbers where the exception was caught but it will take you to where the exception occurred for sure."
   ]
  },
  {
   "cell_type": "code",
   "execution_count": null,
   "id": "f0d32682",
   "metadata": {},
   "outputs": [],
   "source": [
    "try:\n",
    "    try:\n",
    "        raise ValueError\n",
    "    except ValueError as err:\n",
    "       err.extra_info = \"hello\"\n",
    "       raise \n",
    "except ValueError as e:\n",
    "    print(\" error was \"+ str(type(e))+str(e))\n",
    "    if 'extra_info' in dir(e):\n",
    "       print e.extra_info"
   ]
  },
  {
   "cell_type": "markdown",
   "id": "c6de0303",
   "metadata": {},
   "source": [
    "Q4. Describe two methods for specifying the text of an exception object&#39;s error message."
   ]
  },
  {
   "cell_type": "markdown",
   "id": "39c45677",
   "metadata": {},
   "source": [
    "An exception is an event that interrupts a running program. Examples of Python exceptions are ZeroDivisionError or IndexError. Catching and printing an exception prevents the program from being interrupted while displaying the error that was caught during execution.\n",
    "\n",
    "Place the code where the exception may occur in a try block. Immediately after the try block, make an except block with except Exception as e to handle any exceptions that occur where e is the exception object, which can be printed. To catch a specific exception, replace Exception with the name of the specific exception."
   ]
  },
  {
   "cell_type": "code",
   "execution_count": null,
   "id": "2eea2464",
   "metadata": {},
   "outputs": [],
   "source": [
    "try:\n",
    "    l = [1, 2, 3]\n",
    "    l[4]\n",
    "\n",
    "except IndexError as e:\n",
    "    print(e)"
   ]
  },
  {
   "cell_type": "code",
   "execution_count": null,
   "id": "16f44aa6",
   "metadata": {},
   "outputs": [],
   "source": [
    "try:\n",
    "    a = 1/0\n",
    "\n",
    "except Exception as e:\n",
    "    print(e)"
   ]
  },
  {
   "cell_type": "markdown",
   "id": "6736ff58",
   "metadata": {},
   "source": [
    "Q5. Why do you no longer use string-based exceptions?"
   ]
  },
  {
   "cell_type": "markdown",
   "id": "40b391b0",
   "metadata": {},
   "source": [
    "User-defined Python exceptions can be either strings or Python classes. Since classes have many nice properties when used as exceptions, it is desirable to migrate to a situation where classes are used exclusively. Prior to Python 1.5 alpha 4, Python's standard exceptions (IOError, TypeError, etc.) were defined as strings. Changing these to classes posed some particularly nasty backward compatibility problems.\n",
    "That is the main reason we dont use string based exceptions."
   ]
  },
  {
   "cell_type": "code",
   "execution_count": null,
   "id": "a6d581d2",
   "metadata": {},
   "outputs": [],
   "source": []
  }
 ],
 "metadata": {
  "kernelspec": {
   "display_name": "Python 3 (ipykernel)",
   "language": "python",
   "name": "python3"
  },
  "language_info": {
   "codemirror_mode": {
    "name": "ipython",
    "version": 3
   },
   "file_extension": ".py",
   "mimetype": "text/x-python",
   "name": "python",
   "nbconvert_exporter": "python",
   "pygments_lexer": "ipython3",
   "version": "3.9.12"
  }
 },
 "nbformat": 4,
 "nbformat_minor": 5
}
