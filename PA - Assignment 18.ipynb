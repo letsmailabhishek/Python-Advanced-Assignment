{
 "cells": [
  {
   "attachments": {},
   "cell_type": "markdown",
   "metadata": {},
   "source": [
    "Q1. Describe the differences between text and binary files in a single paragraph.\n"
   ]
  },
  {
   "cell_type": "markdown",
   "metadata": {},
   "source": [
    "### Text File\n",
    "\n",
    "- A text file stores data in the form of alphabets, digits and other special symbols by storing their ASCII values and are in a human readable format.\n",
    "\n",
    "### Binary File\n",
    "\n",
    "- Whereas, a binary file contains a sequence or a collection of bytes which are not in a human readable format. For example, files with .exe, . mp3, etc extension.\n",
    "\n"
   ]
  },
  {
   "attachments": {},
   "cell_type": "markdown",
   "metadata": {},
   "source": [
    "Q2. What are some scenarios where using text files will be the better option? When would you like to\n",
    "use binary files instead of text files?"
   ]
  },
  {
   "cell_type": "markdown",
   "metadata": {},
   "source": [
    "- When we want the data in tabular and with custom delimetered seperated file in such manner so that human can readable.\n",
    "- When we want to store the structural data inside the DB that timw we can use text file instead of binary file.\n",
    "\n",
    "- Whever we have data that is not able store in structure format and wanted compress that data into the certain file that time binary file will be the best option.\n",
    "- Whenever the unstructure want to store inside the nosql database that time the binary file will be the good option."
   ]
  },
  {
   "attachments": {},
   "cell_type": "markdown",
   "metadata": {},
   "source": [
    "Q3. What are some of the issues with using binary operations to read and write a Python integer\n",
    "directly to disc?"
   ]
  },
  {
   "cell_type": "markdown",
   "metadata": {},
   "source": [
    "- There are four basic modes in which a file can be opened― read, write, append, and exclusive creations. In addition, Python allows you to specify two modes in which a file can be handled― binary and text. Binary mode is used for handling all kinds of non-text data like image files and executable files.\n",
    "\n",
    "- Python stores files in the form of bytes on the disk. So, when a file is opened in text mode, these files are decoded from bytes to return string objects. While files opened in binary mode return contents as bytes objects (sequences of single bytes) without any decoding. Let us see how to write bytes to a file in Python.\n",
    "\n",
    "- First, open a file in binary write mode and then specify the contents to write in the form of bytes. Next, use the write function to write the byte contents to a binary file. "
   ]
  },
  {
   "cell_type": "code",
   "execution_count": null,
   "metadata": {
    "execution": {
     "iopub.execute_input": "2022-01-17T16:41:15.089749Z",
     "iopub.status.busy": "2022-01-17T16:41:15.089341Z",
     "iopub.status.idle": "2022-01-17T16:41:15.116151Z",
     "shell.execute_reply": "2022-01-17T16:41:15.115458Z",
     "shell.execute_reply.started": "2022-01-17T16:41:15.089648Z"
    }
   },
   "outputs": [],
   "source": [
    "some_bytes = b'\\xC3\\xA9'\n",
    "  \n",
    "# Open in \"wb\" mode to\n",
    "# write a new file, or \n",
    "# \"ab\" mode to append\n",
    "with open(\"my_file.txt\", \"wb\") as binary_file:\n",
    "    \n",
    "    # Write bytes to file\n",
    "    binary_file.write(some_bytes)"
   ]
  },
  {
   "cell_type": "markdown",
   "metadata": {},
   "source": [
    "- In the above example, we opened a file in binary write mode and then wrote some bytes contents as bytes in the binary file.\n",
    "\n",
    "- Alternatively, `open()` and `close()` can be called explicitly as shown below. However, this method requires you to perform error handling yourself, that is, ensure that the file is always closed, even if there is an error during writing. So, using the `“with”` statement is better in this regard as it will automatically close the file when the block ends."
   ]
  },
  {
   "cell_type": "code",
   "execution_count": null,
   "metadata": {
    "execution": {
     "iopub.execute_input": "2022-01-17T16:42:50.988253Z",
     "iopub.status.busy": "2022-01-17T16:42:50.987786Z",
     "iopub.status.idle": "2022-01-17T16:42:50.993233Z",
     "shell.execute_reply": "2022-01-17T16:42:50.992338Z",
     "shell.execute_reply.started": "2022-01-17T16:42:50.988207Z"
    }
   },
   "outputs": [],
   "source": [
    "some_bytes = b'\\x21'\n",
    "  \n",
    "# Open file in binary write mode\n",
    "binary_file = open(\"my_file.txt\", \"wb\")\n",
    "  \n",
    "# Write bytes to file\n",
    "binary_file.write(some_bytes)\n",
    "  \n",
    "# Close file\n",
    "binary_file.close()"
   ]
  },
  {
   "attachments": {},
   "cell_type": "markdown",
   "metadata": {},
   "source": [
    "Q4. Describe a benefit of using the with keyword instead of explicitly opening a file."
   ]
  },
  {
   "cell_type": "markdown",
   "metadata": {},
   "source": [
    "- Alternatively, open() and close() can be called explicitly as shown below. However, this method requires you to perform error handling yourself, that is, ensure that the file is always closed, even if there is an error during writing. So, using the “with” statement is better in this regard as it will automatically close the file when the block ends."
   ]
  },
  {
   "cell_type": "code",
   "execution_count": 7,
   "metadata": {
    "execution": {
     "iopub.execute_input": "2022-01-17T17:00:31.271839Z",
     "iopub.status.busy": "2022-01-17T17:00:31.271455Z",
     "iopub.status.idle": "2022-01-17T17:00:31.278695Z",
     "shell.execute_reply": "2022-01-17T17:00:31.277966Z",
     "shell.execute_reply.started": "2022-01-17T17:00:31.271800Z"
    }
   },
   "outputs": [],
   "source": [
    "\n",
    "some_bytes = b'\\x21'\n",
    "  \n",
    "# Open file in binary write mode\n",
    "binary_file = open(\"my_file.txt\", \"wb\")\n",
    "  \n",
    "# Write bytes to file\n",
    "binary_file.write(some_bytes)\n",
    "  \n",
    "# Close file\n",
    "binary_file.close()"
   ]
  },
  {
   "cell_type": "code",
   "execution_count": 8,
   "metadata": {
    "execution": {
     "iopub.execute_input": "2022-01-17T17:00:34.551939Z",
     "iopub.status.busy": "2022-01-17T17:00:34.551418Z",
     "iopub.status.idle": "2022-01-17T17:00:34.558541Z",
     "shell.execute_reply": "2022-01-17T17:00:34.557310Z",
     "shell.execute_reply.started": "2022-01-17T17:00:34.551898Z"
    }
   },
   "outputs": [],
   "source": [
    "\n",
    "# Create bytearray \n",
    "# (sequence of values in \n",
    "# the range 0-255 in binary form)\n",
    "  \n",
    "# ASCII for A,B,C,D\n",
    "byte_arr = [65,66,67,68] \n",
    "some_bytes = bytearray(byte_arr)\n",
    "  \n",
    "# Bytearray allows modification\n",
    "# ASCII for exclamation mark\n",
    "some_bytes.append(33)\n",
    "  \n",
    "# Bytearray can be cast to bytes\n",
    "immutable_bytes = bytes(some_bytes)\n",
    "  \n",
    "# Write bytes to file\n",
    "with open(\"my_file.txt\", \"wb\") as binary_file:\n",
    "    binary_file.write(immutable_bytes)"
   ]
  },
  {
   "attachments": {},
   "cell_type": "markdown",
   "metadata": {},
   "source": [
    "Q5. Does Python have the trailing newline while reading a line of text? Does Python append a\n",
    "newline when you write a line of text?"
   ]
  },
  {
   "cell_type": "code",
   "execution_count": 14,
   "metadata": {
    "execution": {
     "iopub.execute_input": "2022-01-17T17:07:28.917182Z",
     "iopub.status.busy": "2022-01-17T17:07:28.916306Z",
     "iopub.status.idle": "2022-01-17T17:07:28.925111Z",
     "shell.execute_reply": "2022-01-17T17:07:28.924149Z",
     "shell.execute_reply.started": "2022-01-17T17:07:28.917118Z"
    }
   },
   "outputs": [],
   "source": [
    "file = open('../input/textfilefor/file.txt','r')\n",
    "file.readlines()"
   ]
  },
  {
   "cell_type": "code",
   "execution_count": null,
   "metadata": {},
   "outputs": [],
   "source": [
    "file = open('../input/textfilefor/file.txt',mode='a')\n",
    "file.write('This is text file.')\n",
    "file.close()"
   ]
  },
  {
   "attachments": {},
   "cell_type": "markdown",
   "metadata": {},
   "source": [
    "Q6. What file operations enable for random-access operation?"
   ]
  },
  {
   "cell_type": "markdown",
   "metadata": {},
   "source": [
    "- seekable() :- Returns True if the file stream supports random access."
   ]
  },
  {
   "cell_type": "code",
   "execution_count": 6,
   "metadata": {
    "execution": {
     "iopub.execute_input": "2022-01-17T16:56:14.269188Z",
     "iopub.status.busy": "2022-01-17T16:56:14.268419Z",
     "iopub.status.idle": "2022-01-17T16:56:14.275455Z",
     "shell.execute_reply": "2022-01-17T16:56:14.274661Z",
     "shell.execute_reply.started": "2022-01-17T16:56:14.269152Z"
    }
   },
   "outputs": [],
   "source": [
    "try:\n",
    "    file = open('simple.txt','r')\n",
    "    try:\n",
    "        file.seek(3)\n",
    "        str=file.read()\n",
    "        print(str)\n",
    "    except:\n",
    "        print('Problem reading from the file.')\n",
    "    finally:\n",
    "        print('File Close')\n",
    "except:\n",
    "    print('Problem Opening The File')"
   ]
  },
  {
   "attachments": {},
   "cell_type": "markdown",
   "metadata": {},
   "source": [
    "Q7. When do you think you&#39;ll use the struct package the most?"
   ]
  },
  {
   "cell_type": "markdown",
   "metadata": {},
   "source": [
    "- This module performs conversions between Python values and C structs represented as Python bytes objects. Format strings are the mechanism used to specify the expected layout when packing and unpacking data. Module struct is available in Python 3.x and not on 2.x, thus these codes will run on Python3 interpreter."
   ]
  },
  {
   "cell_type": "markdown",
   "metadata": {},
   "source": [
    "- **struct.pack()**\n",
    "- Syntax: \n",
    "- **struct.pack(format, v1, v2, ...)**"
   ]
  },
  {
   "cell_type": "markdown",
   "metadata": {},
   "source": [
    "- Return a string containing the values v1, v2, … , that are packed according to the given format (Format strings are the mechanism used to specify the expected layout when packing and unpacking data).The values followed by the format must be as per the format only, else struct.error is raised."
   ]
  },
  {
   "cell_type": "code",
   "execution_count": 1,
   "metadata": {
    "execution": {
     "iopub.execute_input": "2022-01-17T17:32:42.271074Z",
     "iopub.status.busy": "2022-01-17T17:32:42.270607Z",
     "iopub.status.idle": "2022-01-17T17:32:42.306747Z",
     "shell.execute_reply": "2022-01-17T17:32:42.304882Z",
     "shell.execute_reply.started": "2022-01-17T17:32:42.270948Z"
    }
   },
   "outputs": [],
   "source": [
    "import struct\n",
    "  \n",
    "# Format: h is short in C type\n",
    "# Format: l is long in C type\n",
    "# Format 'hhl' stands for 'short short long'\n",
    "var = struct.pack('hhl',1,2,3)\n",
    "print(var)\n",
    "  \n",
    "# Format: i is int in C type\n",
    "# Format 'iii' stands for 'int int int'\n",
    "var = struct.pack('iii',1,2,3)\n",
    "print(var)"
   ]
  },
  {
   "cell_type": "markdown",
   "metadata": {},
   "source": [
    "- https://www.geeksforgeeks.org/struct-module-python/"
   ]
  },
  {
   "attachments": {},
   "cell_type": "markdown",
   "metadata": {},
   "source": [
    "Q8. When is pickling the best option?"
   ]
  },
  {
   "cell_type": "markdown",
   "metadata": {},
   "source": [
    "- The advantage of using pickle is that it can serialize pretty much any Python object, without having to add any extra code. Its also smart in that in will only write out any single object once, making it effective to store recursive structures like graphs."
   ]
  },
  {
   "cell_type": "code",
   "execution_count": 3,
   "metadata": {
    "execution": {
     "iopub.execute_input": "2022-01-17T17:37:46.233844Z",
     "iopub.status.busy": "2022-01-17T17:37:46.233556Z",
     "iopub.status.idle": "2022-01-17T17:37:46.241635Z",
     "shell.execute_reply": "2022-01-17T17:37:46.240601Z",
     "shell.execute_reply.started": "2022-01-17T17:37:46.233813Z"
    }
   },
   "outputs": [],
   "source": [
    "# pickling.py\n",
    "import pickle\n",
    "\n",
    "class example_class:\n",
    "    a_number = 35\n",
    "    a_string = \"hey\"\n",
    "    a_list = [1, 2, 3]\n",
    "    a_dict = {\"first\": \"a\", \"second\": 2, \"third\": [1, 2, 3]}\n",
    "    a_tuple = (22, 23)\n",
    "\n",
    "my_object = example_class()\n",
    "\n",
    "my_pickled_object = pickle.dumps(my_object)  # Pickling the object\n",
    "print(f\"This is my pickled object:\\n{my_pickled_object}\\n\")\n",
    "\n",
    "my_object.a_dict = None\n",
    "\n",
    "my_unpickled_object = pickle.loads(my_pickled_object)  # Unpickling the object\n",
    "print(\n",
    "    f\"This is a_dict of the unpickled object:\\n{my_unpickled_object.a_dict}\\n\")"
   ]
  },
  {
   "attachments": {},
   "cell_type": "markdown",
   "metadata": {},
   "source": [
    "Q9. When will it be best to use the shelve package?"
   ]
  },
  {
   "cell_type": "markdown",
   "metadata": {},
   "source": [
    "- The shelve module implements persistent storage for arbitrary Python objects which can be pickled, using a dictionary-like API. The shelve module can be used as a simple persistent storage option for Python objects when a relational database is overkill. The shelf is accessed by keys, just as with a dictionary."
   ]
  },
  {
   "cell_type": "code",
   "execution_count": 4,
   "metadata": {
    "execution": {
     "iopub.execute_input": "2022-01-17T17:40:03.690071Z",
     "iopub.status.busy": "2022-01-17T17:40:03.689779Z",
     "iopub.status.idle": "2022-01-17T17:40:03.704258Z",
     "shell.execute_reply": "2022-01-17T17:40:03.703566Z",
     "shell.execute_reply.started": "2022-01-17T17:40:03.690025Z"
    }
   },
   "outputs": [],
   "source": [
    "import shelve\n",
    "\n",
    "s = shelve.open('test_shelf.db')\n",
    "try:\n",
    "    s['key1'] = { 'int': 10, 'float':9.5, 'string':'Sample data' }\n",
    "finally:\n",
    "    s.close()"
   ]
  },
  {
   "cell_type": "code",
   "execution_count": 6,
   "metadata": {
    "execution": {
     "iopub.execute_input": "2022-01-17T17:41:18.035409Z",
     "iopub.status.busy": "2022-01-17T17:41:18.034287Z",
     "iopub.status.idle": "2022-01-17T17:41:18.046994Z",
     "shell.execute_reply": "2022-01-17T17:41:18.045689Z",
     "shell.execute_reply.started": "2022-01-17T17:41:18.035348Z"
    }
   },
   "outputs": [],
   "source": [
    "import shelve\n",
    "\n",
    "s = shelve.open('test_shelf.db')\n",
    "try:\n",
    "    existing = s['key1']\n",
    "finally:\n",
    "    s.close()\n",
    "\n",
    "print(existing)"
   ]
  },
  {
   "attachments": {},
   "cell_type": "markdown",
   "metadata": {},
   "source": [
    "Q10. What is a special restriction when using the shelve package, as opposed to using other data\n",
    "dictionaries?"
   ]
  },
  {
   "cell_type": "markdown",
   "metadata": {},
   "source": [
    "- One limitation of shelve objects is that the keys to the objects must be strings, but the values stored in a shelve object can be any Python object, as long as it can be written with the pickle module.\n",
    "- The shelve module creates a persistent, file-based version of an object very similar to a Python dictionary, but data is only read from or written to the file when necessary, for example when you need to access a value stored in the file, or add a value to the file. "
   ]
  },
  {
   "cell_type": "markdown",
   "metadata": {},
   "source": [
    "[](http://)"
   ]
  }
 ],
 "metadata": {
  "kernelspec": {
   "display_name": "Python 3 (ipykernel)",
   "language": "python",
   "name": "python3"
  },
  "language_info": {
   "codemirror_mode": {
    "name": "ipython",
    "version": 3
   },
   "file_extension": ".py",
   "mimetype": "text/x-python",
   "name": "python",
   "nbconvert_exporter": "python",
   "pygments_lexer": "ipython3",
   "version": "3.9.12"
  }
 },
 "nbformat": 4,
 "nbformat_minor": 4
}
