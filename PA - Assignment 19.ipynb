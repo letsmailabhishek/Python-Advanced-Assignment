{
 "cells": [
  {
   "attachments": {},
   "cell_type": "markdown",
   "metadata": {},
   "source": [
    "Define the relationship between a class and its instances. Is it a one-to-one or a one-to-many\n",
    "partnership, for example?"
   ]
  },
  {
   "cell_type": "markdown",
   "metadata": {},
   "source": [
    "- A class is a set of entities, which are called the instances of the class. \n",
    "- An entity can be an instance of many classes, which are called its types, and a class can be a type of many classes.\n",
    "- So there will be one to many partnership."
   ]
  },
  {
   "cell_type": "markdown",
   "metadata": {},
   "source": [
    "The class are two here and each class are calling class instances in their methods from that we can say there class is one but class instances are getting used multiple times so from that we can say there is one to many relationship is avalible.\n"
   ]
  },
  {
   "cell_type": "code",
   "execution_count": null,
   "metadata": {
    "execution": {
     "iopub.execute_input": "2022-01-18T07:26:28.049987Z",
     "iopub.status.busy": "2022-01-18T07:26:28.049088Z",
     "iopub.status.idle": "2022-01-18T07:26:28.057323Z",
     "shell.execute_reply": "2022-01-18T07:26:28.05643Z",
     "shell.execute_reply.started": "2022-01-18T07:26:28.049946Z"
    }
   },
   "outputs": [],
   "source": [
    "class A: #class\n",
    "    school ='Nabira Highschool'\n",
    "    num = 20                                  #class instances\n",
    "    def number_of_student(self):\n",
    "        return self.num\n",
    "class B(A):\n",
    "    def school_name(self):\n",
    "        return self.school\n",
    "    \n",
    "obj = A()\n",
    "print(obj.number_of_student())\n",
    "obj2 = B()\n",
    "print(obj2.school_name())"
   ]
  },
  {
   "attachments": {},
   "cell_type": "markdown",
   "metadata": {},
   "source": [
    "Q2. What kind of data is held only in an instance?"
   ]
  },
  {
   "cell_type": "markdown",
   "metadata": {},
   "source": [
    "Data types are the classification or categorization of data items. It represents the kind of value that tells what operations can be performed on a particular data. Since everything is an object in Python programming, data types are actually classes and variables are instance (object) of these classes.\n",
    "\n",
    "Following are the standard or built-in data type of Python:\n",
    "\n",
    "- Numeric\n",
    "- Sequence Type\n",
    "- Boolean\n",
    "- Set\n",
    "- Dictionary"
   ]
  },
  {
   "attachments": {},
   "cell_type": "markdown",
   "metadata": {},
   "source": [
    "Q3. What kind of knowledge is stored in a class?"
   ]
  },
  {
   "cell_type": "markdown",
   "metadata": {},
   "source": [
    "- Classes provide a means of bundling data and functionality together. \n",
    "- Creating a new class creates a new type of object, allowing new instances of that type to be made.\n",
    "- Each class instance can have attributes attached to it for maintaining its state.\n",
    "- Class instances can also have methods (defined by its class) for modifying its state."
   ]
  },
  {
   "attachments": {},
   "cell_type": "markdown",
   "metadata": {},
   "source": [
    "Q4. What exactly is a method, and how is it different from a regular function?"
   ]
  },
  {
   "cell_type": "markdown",
   "metadata": {},
   "source": [
    " - A method is a function that “belongs to” an object. (In Python, the term method is not unique to class instances: \n",
    " - other object types can have methods as well. \n",
    " - For example, list objects have methods called append, insert, remove, sort, and so on. However, in the following discussion, we’ll use the term method exclusively to mean methods of class instance objects, unless explicitly stated otherwise.)\n",
    "\n",
    "- Valid method names of an instance object depend on its class. By definition, all attributes of a class that are function objects define corresponding methods of its instances."
   ]
  },
  {
   "cell_type": "markdown",
   "metadata": {},
   "source": [
    "- Methods may call other methods by using method attributes of the self argument:\n",
    "- Methods are going to show case the behaviour of the method inside the particular class."
   ]
  },
  {
   "cell_type": "code",
   "execution_count": null,
   "metadata": {
    "execution": {
     "iopub.execute_input": "2022-01-18T07:47:48.350972Z",
     "iopub.status.busy": "2022-01-18T07:47:48.350682Z",
     "iopub.status.idle": "2022-01-18T07:47:48.356826Z",
     "shell.execute_reply": "2022-01-18T07:47:48.355961Z",
     "shell.execute_reply.started": "2022-01-18T07:47:48.350945Z"
    }
   },
   "outputs": [],
   "source": [
    "class Bag:\n",
    "    def __init__(self):\n",
    "        self.data = []\n",
    "\n",
    "    def add(self, x):\n",
    "        self.data.append(x)\n",
    "\n",
    "    def addtwice(self, x):\n",
    "        self.add(x)\n",
    "        self.add(x)"
   ]
  },
  {
   "attachments": {},
   "cell_type": "markdown",
   "metadata": {},
   "source": [
    "Q5. Is inheritance supported in Python, and if so, what is the syntax?"
   ]
  },
  {
   "cell_type": "markdown",
   "metadata": {},
   "source": [
    "- Yes,The inheritance supported in python.\n",
    "- **Syntax**"
   ]
  },
  {
   "cell_type": "code",
   "execution_count": null,
   "metadata": {
    "execution": {
     "iopub.execute_input": "2022-01-18T08:07:08.315727Z",
     "iopub.status.busy": "2022-01-18T08:07:08.315163Z",
     "iopub.status.idle": "2022-01-18T08:07:08.323124Z",
     "shell.execute_reply": "2022-01-18T08:07:08.322179Z",
     "shell.execute_reply.started": "2022-01-18T08:07:08.315691Z"
    }
   },
   "outputs": [],
   "source": [
    "class A: #class\n",
    "    school ='Nabira Highschool'\n",
    "    num = 20                                  #class instances\n",
    "    def number_of_student(self):\n",
    "        return self.num\n",
    "class B(A):\n",
    "    def school_name(self):\n",
    "        return self.school\n",
    "    \n",
    "obj = A()\n",
    "print(obj.number_of_student())\n",
    "obj2 = B()\n",
    "print(obj2.school_name())"
   ]
  },
  {
   "attachments": {},
   "cell_type": "markdown",
   "metadata": {},
   "source": [
    "Q6. How much encapsulation (making instance or class variables private) does Python support?"
   ]
  },
  {
   "cell_type": "markdown",
   "metadata": {},
   "source": [
    "- Encapsulation is one of the fundamental concepts in object-oriented programming (OOP). It describes the idea of wrapping data and the methods that work on data within one unit. This puts restrictions on accessing variables and methods directly and can prevent the accidental modification of data. To prevent accidental change, an object’s variable can only be changed by an object’s method. Those types of variables are known as private.\n",
    "- To accomplish this in Python, just follow the convention by prefixing the name of the member by a single underscore `“_”`\n",
    "- Although the protected variable can be accessed out of the class as well as in the derived class(modified too in derived class), it is customary(convention not a rule) to not access the protected out the class body.."
   ]
  },
  {
   "cell_type": "code",
   "execution_count": 1,
   "metadata": {
    "execution": {
     "iopub.execute_input": "2022-01-18T08:34:43.448037Z",
     "iopub.status.busy": "2022-01-18T08:34:43.447681Z",
     "iopub.status.idle": "2022-01-18T08:34:43.475024Z",
     "shell.execute_reply": "2022-01-18T08:34:43.474247Z",
     "shell.execute_reply.started": "2022-01-18T08:34:43.447919Z"
    }
   },
   "outputs": [],
   "source": [
    "# Python program to\n",
    "# demonstrate protected members\n",
    " \n",
    "# Creating a base class\n",
    "class Base:\n",
    "    def __init__(self):\n",
    " \n",
    "        # Protected member\n",
    "        self._a = 2\n",
    " \n",
    "# Creating a derived class\n",
    "class Derived(Base):\n",
    "    def __init__(self):\n",
    " \n",
    "        # Calling constructor of\n",
    "        # Base class\n",
    "        Base.__init__(self)\n",
    "        print(\"Calling protected member of base class: \",\n",
    "              self._a)\n",
    " \n",
    "        # Modify the protected variable:\n",
    "        self._a = 3\n",
    "        print(\"Calling modified protected member outside class: \",\n",
    "              self._a)\n",
    " \n",
    " \n",
    "obj1 = Derived()\n",
    " \n",
    "obj2 = Base()\n",
    " \n",
    "# Calling protected member\n",
    "# Can be accessed but should not be done due to convention\n",
    "print(\"Accessing protedted member of obj1: \", obj1._a)\n",
    " \n",
    "# Accessing the protected variable outside\n",
    "print(\"Accessing protedted member of obj2: \", obj2._a)"
   ]
  },
  {
   "attachments": {},
   "cell_type": "markdown",
   "metadata": {},
   "source": [
    "Q7. How do you distinguish between a class variable and an instance variable?"
   ]
  },
  {
   "cell_type": "markdown",
   "metadata": {},
   "source": [
    "Class variables share the same value among all instances of the class. The value of instance variables can differ across each instance of a class. Class variables can only be assigned when a class has been defined. Instance variables, on the other hand, can be assigned or changed at any time."
   ]
  },
  {
   "cell_type": "markdown",
   "metadata": {},
   "source": [
    "Class variables also known as static variables are declared with the static keyword in a class, but outside a method, constructor or a block. Instance variables are created when an object is created with the use of the keyword 'new' and destroyed when the object is destroyed.\n",
    "\n",
    "Instance variables can be accessed directly by calling the variable name inside the class. However, within static methods (when instance variables are given accessibility), they should be called using the fully qualified name. `ObjectReference.VariableName.`\n",
    "\n",
    "Static variables can be accessed by calling with the class name `ClassName.VariableName.`\n",
    "\n",
    "Instance variables hold values that must be referenced by more than one method, constructor or block, or essential parts of an object's state that must be present throughout the class.\n",
    "\n",
    "There would only be one copy of each class variable per class, regardless of how many objects are created from it."
   ]
  },
  {
   "cell_type": "code",
   "execution_count": 3,
   "metadata": {
    "execution": {
     "iopub.execute_input": "2022-01-18T08:41:52.508405Z",
     "iopub.status.busy": "2022-01-18T08:41:52.507405Z",
     "iopub.status.idle": "2022-01-18T08:41:52.514471Z",
     "shell.execute_reply": "2022-01-18T08:41:52.513903Z",
     "shell.execute_reply.started": "2022-01-18T08:41:52.508365Z"
    }
   },
   "outputs": [],
   "source": [
    "class Car:\n",
    "    wheels = 4    # <- Class variable\n",
    "    def __init__(self, name):\n",
    "        self.name = name    # <- Instance variable\n",
    "jag = Car('jaguar')\n",
    "fer = Car('ferrari')\n",
    "print(jag.name, fer.name)\n",
    "print(jag.wheels, fer.wheels)"
   ]
  },
  {
   "attachments": {},
   "cell_type": "markdown",
   "metadata": {},
   "source": [
    "Q8. When, if ever, can self be included in a class&#39;s method definitions?"
   ]
  },
  {
   "cell_type": "markdown",
   "metadata": {},
   "source": [
    "self represents the instance of the class. By using the “self” keyword we can access the attributes and methods of the class in python. It binds the attributes with the given arguments.\n",
    "The reason you need to use self. is because Python does not use the @ syntax to refer to instance attributes. Python decided to do methods in a way that makes the instance to which the method belongs be passed automatically, but not received automatically: the first parameter of methods is the instance the method is called on."
   ]
  },
  {
   "cell_type": "code",
   "execution_count": 5,
   "metadata": {
    "execution": {
     "iopub.execute_input": "2022-01-18T08:47:49.485436Z",
     "iopub.status.busy": "2022-01-18T08:47:49.484691Z",
     "iopub.status.idle": "2022-01-18T08:47:49.491195Z",
     "shell.execute_reply": "2022-01-18T08:47:49.490355Z",
     "shell.execute_reply.started": "2022-01-18T08:47:49.485402Z"
    }
   },
   "outputs": [],
   "source": [
    "class check:\n",
    "    def __init__(self):\n",
    "        print(\"Address of self = \",id(self))\n",
    " \n",
    "obj = check()\n",
    "print(\"Address of class object = \",id(obj))"
   ]
  },
  {
   "attachments": {},
   "cell_type": "markdown",
   "metadata": {},
   "source": [
    "Q9. What is the difference between the _ _add_ _ and the _ _radd_ _ methods?"
   ]
  },
  {
   "cell_type": "markdown",
   "metadata": {},
   "source": [
    "- `__add__` magic method is used to add the attributes of the class instance. For example, let's say object1 is an instance of a class A and object2 is an instance of class B and both of these classes have an attribute called 'a', that holds an integer.\n",
    "- radd() function performs the addition of the dataframe and other object element-wise"
   ]
  },
  {
   "cell_type": "markdown",
   "metadata": {},
   "source": [
    "`__radd__`\n",
    "\n",
    "- These methods are called to implement the binary arithmetic operations `(+, -, *, /, //, %, divmod(), pow(), **, <<, >>, &, , |)` with reflected (swapped) operands. These functions are only called if the left operand does not support the corresponding operation and the operands are of different types.\n",
    "\n",
    "- For instance, to evaluate the expression `x - y, where y is an instance of a class that has an rsub() method, y.rsub(x) is called if x.sub(y) returns NotImplemented.`"
   ]
  },
  {
   "cell_type": "code",
   "execution_count": 6,
   "metadata": {
    "execution": {
     "iopub.execute_input": "2022-01-18T08:55:20.857021Z",
     "iopub.status.busy": "2022-01-18T08:55:20.856702Z",
     "iopub.status.idle": "2022-01-18T08:55:20.864554Z",
     "shell.execute_reply": "2022-01-18T08:55:20.863285Z",
     "shell.execute_reply.started": "2022-01-18T08:55:20.856972Z"
    }
   },
   "outputs": [],
   "source": [
    "class Commuter1:\n",
    "    def __init__(self, val):\n",
    "        self.val = val\n",
    "    def __add__(self, other):\n",
    "        print('add', self.val, other)\n",
    "        return self.val + other\n",
    "\n",
    "\n",
    "    def __radd__(self, other):\n",
    "        print('radd', self.val, other)\n",
    "        return other + self.val\n",
    "\n",
    "\n",
    "x = Commuter1(88)\n",
    "y = Commuter1(99)\n",
    "\n",
    "print(x + y)"
   ]
  },
  {
   "attachments": {},
   "cell_type": "markdown",
   "metadata": {},
   "source": [
    "Q10. When is it necessary to use a reflection method? When do you not need it, even though you\n",
    "support the operation in question?"
   ]
  },
  {
   "cell_type": "markdown",
   "metadata": {},
   "source": [
    "- Using reflection, we can write one recursive reverse function that will work for strings, lists, and any other sequence that supports slicing and concatenation. If an obj is a reference to a string, then Python will return the str type object. Further, if we write str() we get a string which is the empty string.\n",
    "- "
   ]
  },
  {
   "cell_type": "code",
   "execution_count": 7,
   "metadata": {
    "execution": {
     "iopub.execute_input": "2022-01-18T09:02:43.701238Z",
     "iopub.status.busy": "2022-01-18T09:02:43.700947Z",
     "iopub.status.idle": "2022-01-18T09:02:43.706917Z",
     "shell.execute_reply": "2022-01-18T09:02:43.706206Z",
     "shell.execute_reply.started": "2022-01-18T09:02:43.701212Z"
    }
   },
   "outputs": [],
   "source": [
    "# Python program to illustrate reflection \n",
    "def reverse(sequence): \n",
    "    sequence_type = type(sequence) \n",
    "    empty_sequence = sequence_type() \n",
    "      \n",
    "    if sequence == empty_sequence: \n",
    "        return empty_sequence \n",
    "      \n",
    "    rest = reverse(sequence[1:]) \n",
    "    first_sequence = sequence[0:1] \n",
    "      \n",
    "    # Combine the result \n",
    "    final_result = rest + first_sequence\n",
    "      \n",
    "    return final_result \n",
    "  \n",
    "# Driver code \n",
    "print(reverse([10, 20, 30, 40])) \n",
    "print(reverse(\"GeeksForGeeks\")) "
   ]
  },
  {
   "cell_type": "markdown",
   "metadata": {},
   "source": [
    "Reflecting helps you to develop your skills and review their effectiveness, rather than just carry on doing things as you have always done them. It is about questioning, in a positive way, what you do and why you do it and then deciding whether there is a better, or more efficient, way of doing it in the future."
   ]
  },
  {
   "attachments": {},
   "cell_type": "markdown",
   "metadata": {},
   "source": [
    "Q11. What is the _ _iadd_ _ method called?"
   ]
  },
  {
   "cell_type": "markdown",
   "metadata": {},
   "source": [
    "- To get called on addition with assignment `e.g. a +=b.`"
   ]
  },
  {
   "cell_type": "code",
   "execution_count": 8,
   "metadata": {
    "execution": {
     "iopub.execute_input": "2022-01-18T09:10:09.055748Z",
     "iopub.status.busy": "2022-01-18T09:10:09.055465Z",
     "iopub.status.idle": "2022-01-18T09:10:09.061580Z",
     "shell.execute_reply": "2022-01-18T09:10:09.060812Z",
     "shell.execute_reply.started": "2022-01-18T09:10:09.055715Z"
    }
   },
   "outputs": [],
   "source": [
    "class NumString:\n",
    "\n",
    "    def __init__(self, value):\n",
    "        self.value = str(value)\n",
    "\n",
    "    def __int__(self):\n",
    "        return int(self.value)\n",
    "\n",
    "    def __str__(self):\n",
    "        return self.value\n",
    "\n",
    "    def __add__(self, other):\n",
    "        \n",
    "        return int(self) + other\n",
    "\n",
    "    def __iadd__(self, other):\n",
    "        self.value = self + other\n",
    "        return self.value"
   ]
  },
  {
   "cell_type": "code",
   "execution_count": 9,
   "metadata": {
    "execution": {
     "iopub.execute_input": "2022-01-18T09:10:18.806136Z",
     "iopub.status.busy": "2022-01-18T09:10:18.805873Z",
     "iopub.status.idle": "2022-01-18T09:10:18.812382Z",
     "shell.execute_reply": "2022-01-18T09:10:18.811594Z",
     "shell.execute_reply.started": "2022-01-18T09:10:18.806108Z"
    }
   },
   "outputs": [],
   "source": [
    "some_num1 = NumString(0) # Create an instance of NumString with 0 as value.\n",
    "str(some_num1) # Check what is contained within self.value in this instance.\n",
    "# Output: '0'\n",
    "\n",
    "some_num1 + 1 # We add some_num1 to 1, this returns back the calculation using the __add__ method\n",
    "str(some_num1) # check what some_num1 is holding for a self.value\n",
    "# Output: '0'\n",
    "\n",
    "some_num1 += 2 # We in-place add some_num1 to 2, this stores and returns the new stored value using __iadd__ method.\n",
    "str(some_num1) # check what some_num1 is holding now?\n",
    "# Output: '2'"
   ]
  },
  {
   "attachments": {},
   "cell_type": "markdown",
   "metadata": {},
   "source": [
    "Q11. What is the _ _iadd_ _ method called?"
   ]
  },
  {
   "cell_type": "markdown",
   "metadata": {},
   "source": [
    "A subclass inherits all the members (fields, methods, and nested classes) from its superclass. Constructors are not members, so they are not inherited by subclasses, but the constructor of the superclass can be invoked from the subclass."
   ]
  }
 ],
 "metadata": {
  "kernelspec": {
   "display_name": "Python 3 (ipykernel)",
   "language": "python",
   "name": "python3"
  },
  "language_info": {
   "codemirror_mode": {
    "name": "ipython",
    "version": 3
   },
   "file_extension": ".py",
   "mimetype": "text/x-python",
   "name": "python",
   "nbconvert_exporter": "python",
   "pygments_lexer": "ipython3",
   "version": "3.9.12"
  }
 },
 "nbformat": 4,
 "nbformat_minor": 4
}
