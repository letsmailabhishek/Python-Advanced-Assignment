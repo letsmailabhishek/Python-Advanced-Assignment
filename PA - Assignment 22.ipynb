{
 "cells": [
  {
   "attachments": {},
   "cell_type": "markdown",
   "metadata": {},
   "source": [
    "Q1. What are the benefits of the built-in array package, if any?"
   ]
  },
  {
   "cell_type": "markdown",
   "metadata": {},
   "source": [
    "- This module defines an object type which can compactly represent an array of basic values: characters, integers, floating point numbers. Arrays are sequence types and behave very much like lists, except that the type of objects stored in them is constrained. The type is specified at object creation time by using a type code, which is a single character.\n",
    "- Array in Python can be created by importing array module. array(data_type, value_list) is used to create an array with data type and value list specified in its arguments."
   ]
  },
  {
   "attachments": {},
   "cell_type": "markdown",
   "metadata": {},
   "source": [
    "Q2. What are some of the array package&#39;s limitations?"
   ]
  },
  {
   "cell_type": "markdown",
   "metadata": {},
   "source": [
    "- Inside the built in package of array we can not use the multi-dimensional array.\n",
    "- Need to define the data "
   ]
  },
  {
   "attachments": {},
   "cell_type": "markdown",
   "metadata": {},
   "source": [
    "Q3. Describe the main differences between the array and numpy packages."
   ]
  },
  {
   "cell_type": "markdown",
   "metadata": {},
   "source": [
    "- Inside the array we can store the data in the one dimensional array as well as we have to provide the type code inside the array.\n",
    "- In numpy package array,if we want to store the multi-dimensional array with various type of data type that time we will use the numpy package."
   ]
  },
  {
   "attachments": {},
   "cell_type": "markdown",
   "metadata": {},
   "source": [
    "Q4. Explain the distinctions between the empty, ones, and zeros functions."
   ]
  },
  {
   "cell_type": "markdown",
   "metadata": {},
   "source": [
    "- empty, unlike zeros, does not set the array values to zero, and may therefore be marginally faster. On the other hand, it requires the user to manually set all the values in the array, and should be used with caution.\n",
    "- empty_like : Return an empty array with shape and type of input.\n",
    "- ones : Return a new array setting values to one.\n",
    "- zeros : Return a new array setting values to zero."
   ]
  },
  {
   "cell_type": "code",
   "execution_count": 1,
   "metadata": {
    "execution": {
     "iopub.execute_input": "2022-01-26T16:28:20.476923Z",
     "iopub.status.busy": "2022-01-26T16:28:20.476218Z",
     "iopub.status.idle": "2022-01-26T16:28:20.516313Z",
     "shell.execute_reply": "2022-01-26T16:28:20.515327Z",
     "shell.execute_reply.started": "2022-01-26T16:28:20.476817Z"
    }
   },
   "outputs": [],
   "source": [
    "import numpy\n",
    "numpy.empty((3,3),'int')"
   ]
  },
  {
   "cell_type": "code",
   "execution_count": 2,
   "metadata": {
    "execution": {
     "iopub.execute_input": "2022-01-26T16:28:20.519219Z",
     "iopub.status.busy": "2022-01-26T16:28:20.518574Z",
     "iopub.status.idle": "2022-01-26T16:28:20.529182Z",
     "shell.execute_reply": "2022-01-26T16:28:20.528090Z",
     "shell.execute_reply.started": "2022-01-26T16:28:20.519176Z"
    }
   },
   "outputs": [],
   "source": [
    "numpy.ones((2,2))"
   ]
  },
  {
   "cell_type": "code",
   "execution_count": 3,
   "metadata": {
    "execution": {
     "iopub.execute_input": "2022-01-26T16:28:20.531462Z",
     "iopub.status.busy": "2022-01-26T16:28:20.530831Z",
     "iopub.status.idle": "2022-01-26T16:28:20.541608Z",
     "shell.execute_reply": "2022-01-26T16:28:20.540316Z",
     "shell.execute_reply.started": "2022-01-26T16:28:20.531419Z"
    }
   },
   "outputs": [],
   "source": [
    "numpy.zeros((2,2))"
   ]
  },
  {
   "attachments": {},
   "cell_type": "markdown",
   "metadata": {},
   "source": [
    "Q5. In the fromfunction function, which is used to construct new arrays, what is the role of the callable\n",
    "argument?"
   ]
  },
  {
   "cell_type": "markdown",
   "metadata": {},
   "source": [
    "- The function is called with `N` parameters, where `N` is the rank of shape. Each parameter represents the coordinates of the array varying along a specific axis. For example, if shape were `(2, 2)`, then the parameters would be `array([[0, 0], [1, 1]])` and `array([[0, 1], [0, 1]])`\n"
   ]
  },
  {
   "cell_type": "code",
   "execution_count": 4,
   "metadata": {
    "execution": {
     "iopub.execute_input": "2022-01-26T16:28:20.544141Z",
     "iopub.status.busy": "2022-01-26T16:28:20.543510Z",
     "iopub.status.idle": "2022-01-26T16:28:20.556187Z",
     "shell.execute_reply": "2022-01-26T16:28:20.555020Z",
     "shell.execute_reply.started": "2022-01-26T16:28:20.543977Z"
    }
   },
   "outputs": [],
   "source": [
    "import numpy as np\n",
    "x=np.fromfunction(lambda i, j: i + j, (3, 3), dtype=int)\n",
    "x"
   ]
  },
  {
   "attachments": {},
   "cell_type": "markdown",
   "metadata": {},
   "source": [
    "Q6. What happens when a numpy array is combined with a single-value operand (a scalar, such as\n",
    "an int or a floating-point value) through addition, as in the expression A + n?"
   ]
  },
  {
   "cell_type": "code",
   "execution_count": 5,
   "metadata": {
    "execution": {
     "iopub.execute_input": "2022-01-26T16:28:20.561403Z",
     "iopub.status.busy": "2022-01-26T16:28:20.558432Z",
     "iopub.status.idle": "2022-01-26T16:28:20.568781Z",
     "shell.execute_reply": "2022-01-26T16:28:20.567658Z",
     "shell.execute_reply.started": "2022-01-26T16:28:20.561360Z"
    }
   },
   "outputs": [],
   "source": [
    "x+3 #in that case it will get add 3 for each attribute of an array."
   ]
  },
  {
   "attachments": {},
   "cell_type": "markdown",
   "metadata": {},
   "source": [
    "Q7. Can array-to-scalar operations use combined operation-assign operators (such as += or *=)?\n",
    "What is the outcome?"
   ]
  },
  {
   "cell_type": "code",
   "execution_count": 6,
   "metadata": {
    "execution": {
     "iopub.execute_input": "2022-01-26T16:28:20.572926Z",
     "iopub.status.busy": "2022-01-26T16:28:20.572222Z",
     "iopub.status.idle": "2022-01-26T16:28:20.579082Z",
     "shell.execute_reply": "2022-01-26T16:28:20.577997Z",
     "shell.execute_reply.started": "2022-01-26T16:28:20.572898Z"
    }
   },
   "outputs": [],
   "source": [
    "x+=x\n",
    "print(x)"
   ]
  },
  {
   "attachments": {},
   "cell_type": "markdown",
   "metadata": {},
   "source": [
    "Q8. Does a numpy array contain fixed-length strings? What happens if you allocate a longer string to\n",
    "one of these arrays?"
   ]
  },
  {
   "cell_type": "code",
   "execution_count": 7,
   "metadata": {
    "execution": {
     "iopub.execute_input": "2022-01-26T16:28:20.581439Z",
     "iopub.status.busy": "2022-01-26T16:28:20.580749Z",
     "iopub.status.idle": "2022-01-26T16:28:20.591277Z",
     "shell.execute_reply": "2022-01-26T16:28:20.590098Z",
     "shell.execute_reply.started": "2022-01-26T16:28:20.581363Z"
    }
   },
   "outputs": [],
   "source": [
    "x*=x\n",
    "print(x)"
   ]
  },
  {
   "cell_type": "code",
   "execution_count": 8,
   "metadata": {
    "execution": {
     "iopub.execute_input": "2022-01-26T16:28:20.593781Z",
     "iopub.status.busy": "2022-01-26T16:28:20.593055Z",
     "iopub.status.idle": "2022-01-26T16:28:20.603279Z",
     "shell.execute_reply": "2022-01-26T16:28:20.602127Z",
     "shell.execute_reply.started": "2022-01-26T16:28:20.593738Z"
    }
   },
   "outputs": [],
   "source": [
    "import numpy as np\n",
    "arr = np.array(['abcdef', 'ghijkl', 'manopq'])\n",
    "\n",
    "print(arr)\n",
    "arr[0]='sdkdkddjhdjdkdl'\n",
    "print(arr)  #it is taking only that number of string values from left to right"
   ]
  },
  {
   "attachments": {},
   "cell_type": "markdown",
   "metadata": {},
   "source": [
    "Q9. What happens when you combine two numpy arrays using an operation like addition (+) or\n",
    "multiplication (*)? What are the conditions for combining two numpy arrays?"
   ]
  },
  {
   "cell_type": "code",
   "execution_count": 9,
   "metadata": {
    "execution": {
     "iopub.execute_input": "2022-01-26T16:28:20.605752Z",
     "iopub.status.busy": "2022-01-26T16:28:20.604930Z",
     "iopub.status.idle": "2022-01-26T16:28:20.617396Z",
     "shell.execute_reply": "2022-01-26T16:28:20.616447Z",
     "shell.execute_reply.started": "2022-01-26T16:28:20.605712Z"
    }
   },
   "outputs": [],
   "source": [
    "x"
   ]
  },
  {
   "cell_type": "code",
   "execution_count": 10,
   "metadata": {
    "execution": {
     "iopub.execute_input": "2022-01-26T16:28:20.620379Z",
     "iopub.status.busy": "2022-01-26T16:28:20.618967Z",
     "iopub.status.idle": "2022-01-26T16:28:20.628008Z",
     "shell.execute_reply": "2022-01-26T16:28:20.626860Z",
     "shell.execute_reply.started": "2022-01-26T16:28:20.620333Z"
    }
   },
   "outputs": [],
   "source": [
    "x+x"
   ]
  },
  {
   "cell_type": "code",
   "execution_count": 11,
   "metadata": {
    "execution": {
     "iopub.execute_input": "2022-01-26T16:28:20.631114Z",
     "iopub.status.busy": "2022-01-26T16:28:20.629935Z",
     "iopub.status.idle": "2022-01-26T16:28:20.639051Z",
     "shell.execute_reply": "2022-01-26T16:28:20.637889Z",
     "shell.execute_reply.started": "2022-01-26T16:28:20.631056Z"
    }
   },
   "outputs": [],
   "source": [
    "x*x"
   ]
  },
  {
   "cell_type": "markdown",
   "metadata": {},
   "source": [
    "- np.concatenate()\n",
    "- np.add()\n",
    "- np.multiply()\n",
    "- np.append()\n"
   ]
  },
  {
   "attachments": {},
   "cell_type": "markdown",
   "metadata": {},
   "source": [
    "Q10. What is the best way to use a Boolean array to mask another array?"
   ]
  },
  {
   "cell_type": "code",
   "execution_count": 12,
   "metadata": {
    "execution": {
     "iopub.execute_input": "2022-01-26T16:28:20.644183Z",
     "iopub.status.busy": "2022-01-26T16:28:20.642865Z",
     "iopub.status.idle": "2022-01-26T16:28:20.651753Z",
     "shell.execute_reply": "2022-01-26T16:28:20.650588Z",
     "shell.execute_reply.started": "2022-01-26T16:28:20.644128Z"
    }
   },
   "outputs": [],
   "source": [
    "y=x*2\n",
    "y"
   ]
  },
  {
   "cell_type": "code",
   "execution_count": 13,
   "metadata": {
    "execution": {
     "iopub.execute_input": "2022-01-26T16:28:20.654084Z",
     "iopub.status.busy": "2022-01-26T16:28:20.653425Z",
     "iopub.status.idle": "2022-01-26T16:28:20.666918Z",
     "shell.execute_reply": "2022-01-26T16:28:20.664982Z",
     "shell.execute_reply.started": "2022-01-26T16:28:20.653950Z"
    }
   },
   "outputs": [],
   "source": [
    "y = np.array([2,1,5,2])                         # y axis\n",
    "x = np.array([1,2,3,4])                         # x axis\n",
    "m = np.ma.masked_where(y>5, y)                  # filter out values larger than 5\n",
    "new_x = np.ma.masked_where(np.ma.getmask(m), x)\n",
    "new_x  # applies the mask of m on x"
   ]
  },
  {
   "cell_type": "code",
   "execution_count": 14,
   "metadata": {
    "execution": {
     "iopub.execute_input": "2022-01-26T16:28:20.668620Z",
     "iopub.status.busy": "2022-01-26T16:28:20.668196Z",
     "iopub.status.idle": "2022-01-26T16:28:20.678254Z",
     "shell.execute_reply": "2022-01-26T16:28:20.677069Z",
     "shell.execute_reply.started": "2022-01-26T16:28:20.668563Z"
    }
   },
   "outputs": [],
   "source": [
    "import numpy as np\n",
    "x = np.array([1,2,3,4])\n",
    "y = np.array([2,1,5,2])\n",
    "m = np.ma.masked_where(y>2, y)\n",
    "new_x = np.ma.masked_array(x, m.mask)\n",
    "print(np.ma.compressed(new_x))"
   ]
  },
  {
   "attachments": {},
   "cell_type": "markdown",
   "metadata": {},
   "source": [
    "Q11. What are three different ways to get the standard deviation of a wide collection of data using\n",
    "both standard Python and its packages? Sort the three of them by how quickly they execute."
   ]
  },
  {
   "cell_type": "code",
   "execution_count": 15,
   "metadata": {
    "execution": {
     "iopub.execute_input": "2022-01-26T16:28:20.682433Z",
     "iopub.status.busy": "2022-01-26T16:28:20.681980Z",
     "iopub.status.idle": "2022-01-26T16:28:20.692126Z",
     "shell.execute_reply": "2022-01-26T16:28:20.690721Z",
     "shell.execute_reply.started": "2022-01-26T16:28:20.682402Z"
    }
   },
   "outputs": [],
   "source": [
    "import numpy as np\n",
    "np.std(x)"
   ]
  },
  {
   "cell_type": "code",
   "execution_count": 17,
   "metadata": {
    "execution": {
     "iopub.execute_input": "2022-01-26T16:32:22.179342Z",
     "iopub.status.busy": "2022-01-26T16:32:22.178792Z",
     "iopub.status.idle": "2022-01-26T16:32:22.195857Z",
     "shell.execute_reply": "2022-01-26T16:32:22.194916Z",
     "shell.execute_reply.started": "2022-01-26T16:32:22.179294Z"
    }
   },
   "outputs": [],
   "source": [
    "import statistics\n",
    "print(statistics.stdev(x))"
   ]
  },
  {
   "cell_type": "code",
   "execution_count": 19,
   "metadata": {
    "execution": {
     "iopub.execute_input": "2022-01-26T16:37:18.659952Z",
     "iopub.status.busy": "2022-01-26T16:37:18.659375Z",
     "iopub.status.idle": "2022-01-26T16:37:18.670065Z",
     "shell.execute_reply": "2022-01-26T16:37:18.668913Z",
     "shell.execute_reply.started": "2022-01-26T16:37:18.659914Z"
    }
   },
   "outputs": [],
   "source": [
    "from scipy import stats\n",
    "stats.tstd(x)"
   ]
  },
  {
   "cell_type": "code",
   "execution_count": 21,
   "metadata": {
    "execution": {
     "iopub.execute_input": "2022-01-26T16:38:51.997344Z",
     "iopub.status.busy": "2022-01-26T16:38:51.997045Z",
     "iopub.status.idle": "2022-01-26T16:38:52.007350Z",
     "shell.execute_reply": "2022-01-26T16:38:52.006092Z",
     "shell.execute_reply.started": "2022-01-26T16:38:51.997294Z"
    }
   },
   "outputs": [],
   "source": [
    "import pandas as pd\n",
    "s = pd.Series(x)\n",
    "s.std()"
   ]
  },
  {
   "attachments": {},
   "cell_type": "markdown",
   "metadata": {},
   "source": [
    "12. What is the dimensionality of a Boolean mask-generated array?"
   ]
  },
  {
   "cell_type": "code",
   "execution_count": 23,
   "metadata": {
    "execution": {
     "iopub.execute_input": "2022-01-26T16:42:01.786699Z",
     "iopub.status.busy": "2022-01-26T16:42:01.786378Z",
     "iopub.status.idle": "2022-01-26T16:42:01.793435Z",
     "shell.execute_reply": "2022-01-26T16:42:01.792146Z",
     "shell.execute_reply.started": "2022-01-26T16:42:01.786671Z"
    }
   },
   "outputs": [],
   "source": [
    "new_x.ndim"
   ]
  }
 ],
 "metadata": {
  "kernelspec": {
   "display_name": "Python 3 (ipykernel)",
   "language": "python",
   "name": "python3"
  },
  "language_info": {
   "codemirror_mode": {
    "name": "ipython",
    "version": 3
   },
   "file_extension": ".py",
   "mimetype": "text/x-python",
   "name": "python",
   "nbconvert_exporter": "python",
   "pygments_lexer": "ipython3",
   "version": "3.9.12"
  }
 },
 "nbformat": 4,
 "nbformat_minor": 4
}
