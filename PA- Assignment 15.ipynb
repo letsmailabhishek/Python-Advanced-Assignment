{
 "cells": [
  {
   "attachments": {},
   "cell_type": "markdown",
   "metadata": {},
   "source": [
    "1. What are the new features added in Python 3.8 version?"
   ]
  },
  {
   "cell_type": "markdown",
   "metadata": {},
   "source": [
    "- walrus operator :- Assignment expressions have come to Python with the \"walrus\" operator `:=.` This will enable you to assign values to a variable as part of an expression. The major benefit of this is it saves you some lines of code when you want to use, say, the value of an expression in a subsequent condition.\n",
    "\n",
    "- Positional-only Argument :- A special marker, `/`, can now be used when defining a method's arguments to specify that the functional only accepts positional arguments on the left of the marker. Keyword-only arguments have been available in Python with the * marker in functions, and addition of / marker for positional-only arguments improves the language's consistency and allows for a robust API design.\n",
    "\n",
    "- f-strings now support \"=\":- "
   ]
  },
  {
   "cell_type": "code",
   "execution_count": 3,
   "metadata": {
    "execution": {
     "iopub.execute_input": "2022-01-16T11:46:31.269573Z",
     "iopub.status.busy": "2022-01-16T11:46:31.268825Z",
     "iopub.status.idle": "2022-01-16T11:46:31.274134Z",
     "shell.execute_reply": "2022-01-16T11:46:31.273476Z",
     "shell.execute_reply.started": "2022-01-16T11:46:31.269529Z"
    }
   },
   "outputs": [],
   "source": [
    "foo=12\n",
    "bar=20\n",
    "print(f\"foo={foo} bar={bar}\")"
   ]
  },
  {
   "cell_type": "markdown",
   "metadata": {},
   "source": [
    "1. `reversed()` now works with dict:-dictionaries preserve the order of insertion of keys. The reversed() built-in can now be used to access the dictionary in the reverse order of insertion — just like OrderedDict."
   ]
  },
  {
   "cell_type": "code",
   "execution_count": 5,
   "metadata": {
    "execution": {
     "iopub.execute_input": "2022-01-16T11:48:13.819080Z",
     "iopub.status.busy": "2022-01-16T11:48:13.818766Z",
     "iopub.status.idle": "2022-01-16T11:48:13.823156Z",
     "shell.execute_reply": "2022-01-16T11:48:13.822293Z",
     "shell.execute_reply.started": "2022-01-16T11:48:13.819048Z"
    }
   },
   "outputs": [],
   "source": [
    "my_dict = dict(a=1, b=2)"
   ]
  },
  {
   "cell_type": "code",
   "execution_count": null,
   "metadata": {},
   "outputs": [],
   "source": [
    "list(reversed(my_dict))"
   ]
  },
  {
   "cell_type": "code",
   "execution_count": null,
   "metadata": {},
   "outputs": [],
   "source": [
    "list(reversed(my_dict.items()))"
   ]
  },
  {
   "cell_type": "markdown",
   "metadata": {},
   "source": [
    "- Simplified iterable unpacking for return and yield\n",
    "- This unintentional behavior has existed since Python 3.2 which disallowed unpacking iterables without parentheses in return and yield statements."
   ]
  },
  {
   "cell_type": "code",
   "execution_count": 8,
   "metadata": {
    "execution": {
     "iopub.execute_input": "2022-01-16T11:52:17.848995Z",
     "iopub.status.busy": "2022-01-16T11:52:17.848737Z",
     "iopub.status.idle": "2022-01-16T11:52:17.853283Z",
     "shell.execute_reply": "2022-01-16T11:52:17.852321Z",
     "shell.execute_reply.started": "2022-01-16T11:52:17.848966Z"
    }
   },
   "outputs": [],
   "source": [
    "def foo():\n",
    "    rest = (4, 5, 6)\n",
    "    t = 1, 2, 3, *rest\n",
    "    return t"
   ]
  },
  {
   "cell_type": "markdown",
   "metadata": {},
   "source": [
    "New syntax warnings:- The Python interpreter now throws a SyntaxWarning in some cases when a comma is missed before tuple or list. So when you accidentally do this:"
   ]
  },
  {
   "cell_type": "code",
   "execution_count": 10,
   "metadata": {
    "execution": {
     "iopub.execute_input": "2022-01-16T11:53:34.444622Z",
     "iopub.status.busy": "2022-01-16T11:53:34.443878Z",
     "iopub.status.idle": "2022-01-16T11:53:34.449133Z",
     "shell.execute_reply": "2022-01-16T11:53:34.447934Z",
     "shell.execute_reply.started": "2022-01-16T11:53:34.444576Z"
    }
   },
   "outputs": [],
   "source": [
    "data = [\n",
    "    (1, 2, 3),  # oops, missing comma!\n",
    "    (4, 5, 6)\n",
    "]"
   ]
  },
  {
   "cell_type": "markdown",
   "metadata": {},
   "source": [
    "Performance improvements :- \n",
    "\n",
    "- operator.itemgetter() is now 33% faster. This was made possible by optimizing argument handling and adding a fast path for the common case of a single non-negative integer index into a tuple (which is the typical use case in the standard library).\n",
    "\n",
    "- Field lookups in collections.namedtuple() are now more than two times faster, making them the fastest form of instance variable lookup in Python.\n",
    "\n",
    "- The list constructor does not over-allocate the internal item buffer if the input iterable has a known length (the input implements len). This makes the created list 12% smaller on average.\n",
    "\n",
    "- Class variable writes are now twice as fast: when a non-dunder attribute was updated, there was an unnecessary call to update slots, which is optimized.\n",
    "\n",
    "- Invocation of some simple built-ins and methods are now 20-50% faster. The overhead of converting arguments to these methods is reduced."
   ]
  },
  {
   "attachments": {},
   "cell_type": "markdown",
   "metadata": {},
   "source": [
    "2. What is monkey patching in Python?"
   ]
  },
  {
   "cell_type": "markdown",
   "metadata": {},
   "source": [
    "In Python, the term monkey patch refers to dynamic (or run-time) modifications of a class or module. In Python, we can actually change the behavior of code at run-time. We use above module (monk) in below code and change behavior of func() at run-time by assigning different value"
   ]
  },
  {
   "cell_type": "code",
   "execution_count": 12,
   "metadata": {
    "execution": {
     "iopub.execute_input": "2022-01-16T11:58:11.400727Z",
     "iopub.status.busy": "2022-01-16T11:58:11.400307Z",
     "iopub.status.idle": "2022-01-16T11:58:11.404899Z",
     "shell.execute_reply": "2022-01-16T11:58:11.404299Z",
     "shell.execute_reply.started": "2022-01-16T11:58:11.400684Z"
    }
   },
   "outputs": [],
   "source": [
    "# monk.py\n",
    "class A:\n",
    "     def func(self):\n",
    "          print (\"func() is being called\")"
   ]
  },
  {
   "cell_type": "code",
   "execution_count": null,
   "metadata": {},
   "outputs": [],
   "source": [
    "import monk #lets suppose we have monk module then we are dynamically changing the value.\n",
    "def monkey_f(self):\n",
    "     print (\"monkey_f() is being called\")\n",
    "   \n",
    "# replacing address of \"func\" with \"monkey_f\"\n",
    "monk.A.func = monkey_f\n",
    "obj = monk.A()\n",
    "  \n",
    "# calling function \"func\" whose address got replaced\n",
    "# with function \"monkey_f()\"\n",
    "obj.func()"
   ]
  },
  {
   "cell_type": "markdown",
   "metadata": {},
   "source": [
    "A monkey patch is a way to change, extend, or modify a library, plugin, or supporting system software locally. This means applying a monkey patch to a 3rd party library will not change the library itself but only the local copy of the library you have on your machine"
   ]
  },
  {
   "attachments": {},
   "cell_type": "markdown",
   "metadata": {},
   "source": [
    "3. What is the difference between a shallow copy and deep copy?"
   ]
  },
  {
   "cell_type": "markdown",
   "metadata": {},
   "source": [
    "- Shallow Copy :- It is going to copy the object with value with reference.It is means it is going to affect when other copy of the same oject is chaange.It is not going to create any external memory to store the infomation.\n",
    "- Deep Copy :- It is example call by reference.It means is going to create the another objet with new address inside heap memory."
   ]
  },
  {
   "cell_type": "code",
   "execution_count": 14,
   "metadata": {
    "execution": {
     "iopub.execute_input": "2022-01-16T12:04:57.323143Z",
     "iopub.status.busy": "2022-01-16T12:04:57.322827Z",
     "iopub.status.idle": "2022-01-16T12:04:57.327740Z",
     "shell.execute_reply": "2022-01-16T12:04:57.326783Z",
     "shell.execute_reply.started": "2022-01-16T12:04:57.323106Z"
    }
   },
   "outputs": [],
   "source": [
    "lst = [223,67,98,70,44]\n",
    "lt = lst #shallow copy"
   ]
  },
  {
   "cell_type": "code",
   "execution_count": 15,
   "metadata": {
    "execution": {
     "iopub.execute_input": "2022-01-16T12:05:23.052313Z",
     "iopub.status.busy": "2022-01-16T12:05:23.052022Z",
     "iopub.status.idle": "2022-01-16T12:05:23.060745Z",
     "shell.execute_reply": "2022-01-16T12:05:23.060192Z",
     "shell.execute_reply.started": "2022-01-16T12:05:23.052283Z"
    }
   },
   "outputs": [],
   "source": [
    "id(lst),id(lt) #both are identical"
   ]
  },
  {
   "cell_type": "code",
   "execution_count": 19,
   "metadata": {
    "execution": {
     "iopub.execute_input": "2022-01-16T12:07:00.263591Z",
     "iopub.status.busy": "2022-01-16T12:07:00.262809Z",
     "iopub.status.idle": "2022-01-16T12:07:00.268098Z",
     "shell.execute_reply": "2022-01-16T12:07:00.267254Z",
     "shell.execute_reply.started": "2022-01-16T12:07:00.263555Z"
    }
   },
   "outputs": [],
   "source": [
    "#if lt value changes the it will affect lst as well.\n",
    "lt[0]=90\n",
    "print(lst[0])\n",
    "print(lt[0])"
   ]
  },
  {
   "cell_type": "code",
   "execution_count": 21,
   "metadata": {
    "execution": {
     "iopub.execute_input": "2022-01-16T12:09:55.258833Z",
     "iopub.status.busy": "2022-01-16T12:09:55.258411Z",
     "iopub.status.idle": "2022-01-16T12:09:55.263770Z",
     "shell.execute_reply": "2022-01-16T12:09:55.263224Z",
     "shell.execute_reply.started": "2022-01-16T12:09:55.258802Z"
    }
   },
   "outputs": [],
   "source": [
    "#in the deep copy the one object changes the value but other will not get affected like below way\n",
    "ls=lst.copy()\n",
    "print(id(lst))\n",
    "print(id(ls))\n",
    "ls[0]=10000\n",
    "print(ls[0])\n",
    "print(lst[0]) #here we can say address are also varied."
   ]
  },
  {
   "attachments": {},
   "cell_type": "markdown",
   "metadata": {},
   "source": [
    "4. What is the maximum possible length of an identifier?"
   ]
  },
  {
   "cell_type": "markdown",
   "metadata": {},
   "source": [
    "In Python, the highest possible length of an identifier is 79 characters."
   ]
  },
  {
   "attachments": {},
   "cell_type": "markdown",
   "metadata": {},
   "source": [
    "5. What is generator comprehension?"
   ]
  },
  {
   "cell_type": "markdown",
   "metadata": {},
   "source": [
    "A generator comprehension is a single-line specification for defining a generator in Python. It is absolutely essential to learn this syntax in order to write simple and readable code. Note: Generator comprehensions are not the only method for defining generators in Python."
   ]
  },
  {
   "cell_type": "markdown",
   "metadata": {},
   "source": [
    "The `range` generator, defining a generator using a comprehension does not perform any computations or consume any memory beyond defining the rules for producing the sequence of data. See what happens when we try to print this generator:"
   ]
  },
  {
   "cell_type": "code",
   "execution_count": 22,
   "metadata": {
    "execution": {
     "iopub.execute_input": "2022-01-16T12:15:40.298842Z",
     "iopub.status.busy": "2022-01-16T12:15:40.298560Z",
     "iopub.status.idle": "2022-01-16T12:15:40.304098Z",
     "shell.execute_reply": "2022-01-16T12:15:40.303515Z",
     "shell.execute_reply.started": "2022-01-16T12:15:40.298810Z"
    }
   },
   "outputs": [],
   "source": [
    "gen = (i**2 for i in range(100))\n",
    "print(gen)"
   ]
  },
  {
   "cell_type": "code",
   "execution_count": 23,
   "metadata": {
    "execution": {
     "iopub.execute_input": "2022-01-16T12:16:53.838877Z",
     "iopub.status.busy": "2022-01-16T12:16:53.838621Z",
     "iopub.status.idle": "2022-01-16T12:16:53.846340Z",
     "shell.execute_reply": "2022-01-16T12:16:53.845523Z",
     "shell.execute_reply.started": "2022-01-16T12:16:53.838850Z"
    }
   },
   "outputs": [],
   "source": [
    "gen_1 = (i**2 for i in [-20, -10, 0, 10, 20])\n",
    "gen_2 = (j for j in gen_1 if abs(j) <= 150)\n",
    "sum(gen_2)"
   ]
  },
  {
   "cell_type": "code",
   "execution_count": 24,
   "metadata": {
    "execution": {
     "iopub.execute_input": "2022-01-16T12:17:55.328552Z",
     "iopub.status.busy": "2022-01-16T12:17:55.327694Z",
     "iopub.status.idle": "2022-01-16T12:17:55.334938Z",
     "shell.execute_reply": "2022-01-16T12:17:55.334384Z",
     "shell.execute_reply.started": "2022-01-16T12:17:55.328499Z"
    }
   },
   "outputs": [],
   "source": [
    "g = ((n, n+2) for n in range(6) if n != 3)\n",
    "list(g)"
   ]
  }
 ],
 "metadata": {
  "kernelspec": {
   "display_name": "Python 3 (ipykernel)",
   "language": "python",
   "name": "python3"
  },
  "language_info": {
   "codemirror_mode": {
    "name": "ipython",
    "version": 3
   },
   "file_extension": ".py",
   "mimetype": "text/x-python",
   "name": "python",
   "nbconvert_exporter": "python",
   "pygments_lexer": "ipython3",
   "version": "3.9.12"
  }
 },
 "nbformat": 4,
 "nbformat_minor": 4
}
