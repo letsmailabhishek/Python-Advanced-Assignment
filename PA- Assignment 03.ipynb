{
 "cells": [
  {
   "cell_type": "markdown",
   "id": "e1ebad69",
   "metadata": {},
   "source": [
    "1. What is the concept of an abstract superclass?"
   ]
  },
  {
   "cell_type": "markdown",
   "id": "ea996870",
   "metadata": {},
   "source": [
    "* An abstract class can be considered as a blueprint for other classes. It allows you to create a set of methods that must be created within any child classes built from the abstract class. A class which contains one or more abstract methods is called an abstract class. An abstract method is a method that has a declaration but does not have an implementation. While we are designing large functional units we use an abstract class. When we want to provide a common interface for different implementations of a component, we use an abstract class.\n",
    "\n",
    "* By defining an abstract base class, you can define a common Application Program Interface(API) for a set of subclasses. This capability is especially useful in situations where a third-party is going to provide implementations, such as with plugins, but can also help you when working in a large team or with a large code-base where keeping all classes in your mind is difficult or not possible.\n",
    "\n",
    "* An abstract class has the additional benefit that it does not have to provide a complete implementation (that would make sense to instantiate on its own), some parts can be left specified, but unimplemented (the abstract methods)."
   ]
  },
  {
   "cell_type": "code",
   "execution_count": 9,
   "id": "9201df5d",
   "metadata": {},
   "outputs": [
    {
     "ename": "IndentationError",
     "evalue": "unindent does not match any outer indentation level (<tokenize>, line 18)",
     "output_type": "error",
     "traceback": [
      "\u001b[1;36m  File \u001b[1;32m<tokenize>:18\u001b[1;36m\u001b[0m\n\u001b[1;33m    class Pentagon(Polygon):\u001b[0m\n\u001b[1;37m    ^\u001b[0m\n\u001b[1;31mIndentationError\u001b[0m\u001b[1;31m:\u001b[0m unindent does not match any outer indentation level\n"
     ]
    }
   ],
   "source": [
    "# Python program showing\n",
    "# abstract base class work\n",
    " \n",
    "from abc import ABC, abstractmethod\n",
    " \n",
    "class Polygon(ABC):\n",
    " \n",
    "    @abstractmethod\n",
    "    def noofsides(self):\n",
    "        pass\n",
    "\n",
    "class Triangle(Polygon):\n",
    " \n",
    "    # overriding abstract method\n",
    "    def noofsides(self):\n",
    "        print(\"I have 3 sides\")\n",
    " \n",
    "class Pentagon(Polygon):\n",
    " \n",
    "    # overriding abstract method\n",
    "    def noofsides(self):\n",
    "        print(\"I have 5 sides\")\n",
    " \n",
    "class Hexagon(Polygon):\n",
    " \n",
    "    # overriding abstract method\n",
    "    def noofsides(self):\n",
    "        print(\"I have 6 sides\")\n",
    " \n",
    "class Quadrilateral(Polygon):\n",
    " \n",
    "    # overriding abstract method\n",
    "    def noofsides(self):\n",
    "        print(\"I have 4 sides\")\n",
    "       \n",
    "    # Driver code\n",
    "R = Triangle()\n",
    "R.noofsides()\n",
    " \n",
    "K = Quadrilateral()\n",
    "K.noofsides()\n",
    " \n",
    "R = Pentagon()\n",
    "R.noofsides()\n",
    " \n",
    "K = Hexagon()\n",
    "K.noofsides()"
   ]
  },
  {
   "cell_type": "code",
   "execution_count": 10,
   "id": "87825ab6",
   "metadata": {},
   "outputs": [
    {
     "name": "stdout",
     "output_type": "stream",
     "text": [
      "I can walk and run\n",
      "I can crawl\n",
      "I can bark\n",
      "I can roar\n"
     ]
    }
   ],
   "source": [
    "# Python program showing\n",
    "# abstract base class work\n",
    " \n",
    "from abc import ABC, abstractmethod\n",
    "class Animal(ABC):\n",
    " \n",
    "    def move(self):\n",
    "        pass\n",
    " \n",
    "class Human(Animal):\n",
    " \n",
    "    def move(self):\n",
    "        print(\"I can walk and run\")\n",
    " \n",
    "class Snake(Animal):\n",
    " \n",
    "    def move(self):\n",
    "        print(\"I can crawl\")\n",
    " \n",
    "class Dog(Animal):\n",
    " \n",
    "    def move(self):\n",
    "        print(\"I can bark\")\n",
    " \n",
    "class Lion(Animal):\n",
    " \n",
    "    def move(self):\n",
    "        print(\"I can roar\")\n",
    "         \n",
    "# Driver code\n",
    "R = Human()\n",
    "R.move()\n",
    "K = Snake()\n",
    "K.move()\n",
    " \n",
    "R = Dog()\n",
    "R.move()\n",
    " \n",
    "K = Lion()\n",
    "K.move()\n"
   ]
  },
  {
   "cell_type": "markdown",
   "id": "d30207a2",
   "metadata": {},
   "source": [
    "2. What happens when a class statement&#39;s top level contains a basic assignment statement?"
   ]
  },
  {
   "cell_type": "markdown",
   "id": "5710573f",
   "metadata": {},
   "source": [
    "* Assignment statements are used to (re)bind names to values and to modify attributes or items of mutable objects.\n",
    "* Another way of understanding an assignment statement is, it stores a value in the memory location which is denoted by a variable name.\n",
    "* While using the Assignment operation in OOP we have to create the method for that like get and set methods.\n",
    "* Then Execute that mmethod whenever we want to change the values or call that to assignment different value."
   ]
  },
  {
   "cell_type": "markdown",
   "id": "6e82b519",
   "metadata": {},
   "source": [
    "3. Why does a class need to manually call a superclass&#39;s __init__ method?"
   ]
  },
  {
   "cell_type": "markdown",
   "id": "61b4401a",
   "metadata": {},
   "source": [
    "The reason we use super is so that child classes that may be using cooperative multiple inheritance will call the correct next parent class function in the Method Resolution Order (MRO).\n",
    "\n",
    "The “__init__” is a reserved method in python classes. It is known as a constructor in Object-Oriented terminology. This method when called, allows the class to initialize the attributes of the class. The super() function allows us to avoid using the base class name explicitly."
   ]
  },
  {
   "cell_type": "markdown",
   "id": "9c79d5a5",
   "metadata": {},
   "source": [
    "4. How can you augment, instead of completely replacing, an inherited method?"
   ]
  },
  {
   "cell_type": "markdown",
   "id": "1dd7cfc3",
   "metadata": {},
   "source": [
    "What we really want to do here is somehow augment the original raiseamount, instead of replacing it altogether. The good way to do that in Python is by calling to the original version directly, with augmented arguments, like this:"
   ]
  },
  {
   "cell_type": "code",
   "execution_count": 11,
   "id": "ff4bc60c",
   "metadata": {},
   "outputs": [
    {
     "name": "stdout",
     "output_type": "stream",
     "text": [
      "40000\n",
      "44000\n"
     ]
    }
   ],
   "source": [
    "class Employee: \n",
    "    raise_amount=1.04\n",
    "    def __init__(self,first,last,pay):\n",
    "        self.first = first\n",
    "        self.last  = last\n",
    "        self.email = first + '.' + last + \"@gmail.com\"\n",
    "        self.pay   = pay\n",
    "    \n",
    "    def fullname(self):\n",
    "        return \"{ } { }\".format(self.first,self.last)\n",
    "    def apply_raised(self):\n",
    "        self.pay = int(self.pay*self.raise_amount)\n",
    "    \n",
    "class Devloper(Employee):\n",
    "    raise_amount = 1.10\n",
    "    def __init__(self,first,last,pay,prog_lang):\n",
    "        super().__init__(first,last,pay)\n",
    "        self.prog_lang = prog_lang\n",
    "        \n",
    "dev1 = Devloper('abhishek','yadav',40000,'Python')\n",
    "dev2 = Devloper('rohan','Singh',33000,\"Java\")\n",
    "\n",
    "print(dev1.pay)\n",
    "dev1.apply_raised()\n",
    "print(dev1.pay)"
   ]
  },
  {
   "cell_type": "markdown",
   "id": "ddfa087a",
   "metadata": {},
   "source": [
    "* This code leverages the fact that a class method can always be called either through an instance (the usual way, where Python sends the instance to the self argument automatically) or through the class (the less common scheme, where you must pass the instance manually). In more symbolic terms, recall that a normal method call of this form:\n",
    "\n",
    "* For calls through the class name, you need to send an instance to self yourself; for code inside a method like raise_amount, self already is the subject of the call, and hence the instance to pass along."
   ]
  },
  {
   "cell_type": "markdown",
   "id": "603e07e9",
   "metadata": {},
   "source": [
    "5. How is the local scope of a class different from that of a function?"
   ]
  },
  {
   "cell_type": "markdown",
   "id": "7ea8e420",
   "metadata": {},
   "source": [
    "* Class scope Names of class members have class scope, which extends throughout the class definition regardless of the point of declaration. Class member accessibility is further controlled by the public , private , and protected keywords.\n",
    "\n",
    "* Local variables have Function Scope: They can only be accessed from within the function. Since local variables are only recognized inside their functions, variables with the same name can be used in different functions. Local variables are created when a function starts, and deleted when the function is completed.\n",
    "\n",
    "* Variables are classified into Global variables or Class variable and Local variables based on their scope. The main difference between Global and local variables is that global variables can be accessed globally in the entire program, whereas local variables can be accessed only within the function or block in which they are defined."
   ]
  },
  {
   "cell_type": "code",
   "execution_count": 12,
   "id": "d41169e8",
   "metadata": {},
   "outputs": [],
   "source": [
    "class Test:\n",
    "    a = None\n",
    "    b = None\n",
    "\n",
    "    def __init__(self, a):\n",
    "        print(self.a)\n",
    "        self.a = a\n",
    "        self._x = 123\n",
    "        self.__y = 123\n",
    "        b = 'meow'"
   ]
  },
  {
   "cell_type": "markdown",
   "id": "976bd15a",
   "metadata": {},
   "source": [
    "* At the beginning, a and b are only variables defined for the class itself - accessible via Test.a and Test.b and not specific to any instance.\n",
    "\n",
    "* When creating an instance of that class (which results in __init__ being executed):\n",
    "\n",
    "print(self.a) doesn't find an instance variable and thus returns the class variable\n",
    "self.a = a: a new instance variable a is created. This shadows the class variable so self.a will now reference the instance variable; to access the class variable you now have to use Test.a\n",
    "* The assignment to self._x creates a new instance variable. It's considered \"not part of the public API\" (aka protected) but technically it has no different behaviour.\n",
    "* The assignment to self.__y creates a new instance variable named _Test__y, i.e. its name is mangled so unless you use the mangled name it cannot be accessed from outside the class. This could be used for \"private\" variables.\n",
    "* The assignment to b creates a local variable. It is not available from anywhere but the __init__ function as it's not saved in the instance, class or global scope."
   ]
  }
 ],
 "metadata": {
  "kernelspec": {
   "display_name": "Python 3 (ipykernel)",
   "language": "python",
   "name": "python3"
  },
  "language_info": {
   "codemirror_mode": {
    "name": "ipython",
    "version": 3
   },
   "file_extension": ".py",
   "mimetype": "text/x-python",
   "name": "python",
   "nbconvert_exporter": "python",
   "pygments_lexer": "ipython3",
   "version": "3.9.12"
  }
 },
 "nbformat": 4,
 "nbformat_minor": 5
}
