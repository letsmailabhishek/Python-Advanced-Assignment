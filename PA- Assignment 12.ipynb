{
 "cells": [
  {
   "attachments": {},
   "cell_type": "markdown",
   "metadata": {},
   "source": [
    "Q1. Does assigning a value to a string&#39;s indexed character violate Python&#39;s string immutability?"
   ]
  },
  {
   "cell_type": "code",
   "execution_count": 4,
   "metadata": {
    "execution": {
     "iopub.execute_input": "2022-01-15T15:42:32.239015Z",
     "iopub.status.busy": "2022-01-15T15:42:32.238623Z",
     "iopub.status.idle": "2022-01-15T15:42:32.254349Z",
     "shell.execute_reply": "2022-01-15T15:42:32.253017Z",
     "shell.execute_reply.started": "2022-01-15T15:42:32.238980Z"
    }
   },
   "outputs": [],
   "source": [
    "string = \"This is my assignment\"\n",
    "string[:1]='I'"
   ]
  },
  {
   "cell_type": "markdown",
   "metadata": {},
   "source": [
    "By above we can say it will not violate Python's string Immutatbility."
   ]
  },
  {
   "attachments": {},
   "cell_type": "markdown",
   "metadata": {},
   "source": [
    "Q2. Does using the += operator to concatenate strings violate Python&#39;s string immutability? Why or\n",
    "why not?"
   ]
  },
  {
   "cell_type": "code",
   "execution_count": 6,
   "metadata": {
    "execution": {
     "iopub.execute_input": "2022-01-15T15:42:48.039665Z",
     "iopub.status.busy": "2022-01-15T15:42:48.039356Z",
     "iopub.status.idle": "2022-01-15T15:42:48.043837Z",
     "shell.execute_reply": "2022-01-15T15:42:48.043225Z",
     "shell.execute_reply.started": "2022-01-15T15:42:48.039631Z"
    }
   },
   "outputs": [],
   "source": [
    "string +=string"
   ]
  },
  {
   "cell_type": "code",
   "execution_count": 7,
   "metadata": {
    "execution": {
     "iopub.execute_input": "2022-01-15T15:42:50.419195Z",
     "iopub.status.busy": "2022-01-15T15:42:50.418904Z",
     "iopub.status.idle": "2022-01-15T15:42:50.423847Z",
     "shell.execute_reply": "2022-01-15T15:42:50.422815Z",
     "shell.execute_reply.started": "2022-01-15T15:42:50.419168Z"
    }
   },
   "outputs": [],
   "source": [
    "print(string)"
   ]
  },
  {
   "cell_type": "markdown",
   "metadata": {},
   "source": [
    "- Another string is getting added with the help concatenation operation but does not means that they have got the index postion of privious string.It has created the new space with new index position.\n",
    "- Here,in this case privious string consisting the same position for each alpahbate.\n",
    "- So,from that we can say string is still immutable."
   ]
  },
  {
   "attachments": {},
   "cell_type": "markdown",
   "metadata": {},
   "source": [
    "Q3. In Python, how many different ways are there to index a character?"
   ]
  },
  {
   "cell_type": "markdown",
   "metadata": {},
   "source": [
    "Indexing means referring to an element of an iterable by its position within the iterable. Each of a string’s characters corresponds to an index number and each character can be accessed using their index number.\n",
    "\n",
    "We can access characters in a String in Two ways :\n",
    "\n",
    "- Accessing Characters by Positive Index Number\n",
    "- Accessing Characters by Negative Index Number"
   ]
  },
  {
   "attachments": {},
   "cell_type": "markdown",
   "metadata": {},
   "source": [
    "Q4. What is the relationship between indexing and slicing?"
   ]
  },
  {
   "cell_type": "markdown",
   "metadata": {},
   "source": [
    "- In the indexing we have provided the reference number from left to right from 0 to till then end number in positive number for each attribute inside iterable object.\n",
    "- Similarly for right to left is going to index from -1 to to final number in negetive index."
   ]
  },
  {
   "cell_type": "markdown",
   "metadata": {},
   "source": [
    "- With the help of the indexing we can easily retrieve the data from that iterable object and these process called as Slicing."
   ]
  },
  {
   "attachments": {},
   "cell_type": "markdown",
   "metadata": {},
   "source": [
    "Q5. What is an indexed character&#39;s exact data type? What is the data form of a slicing-generated\n",
    "substring?"
   ]
  },
  {
   "cell_type": "code",
   "execution_count": 2,
   "metadata": {
    "execution": {
     "iopub.execute_input": "2022-01-15T15:55:33.021581Z",
     "iopub.status.busy": "2022-01-15T15:55:33.021272Z",
     "iopub.status.idle": "2022-01-15T15:55:33.029370Z",
     "shell.execute_reply": "2022-01-15T15:55:33.028499Z",
     "shell.execute_reply.started": "2022-01-15T15:55:33.021525Z"
    }
   },
   "outputs": [
    {
     "data": {
      "text/plain": [
       "str"
      ]
     },
     "execution_count": 2,
     "metadata": {},
     "output_type": "execute_result"
    }
   ],
   "source": [
    "string1 = 'Abhishek'\n",
    "type(string1[0])"
   ]
  },
  {
   "cell_type": "code",
   "execution_count": 1,
   "metadata": {
    "execution": {
     "iopub.execute_input": "2022-01-15T15:55:56.057325Z",
     "iopub.status.busy": "2022-01-15T15:55:56.056810Z",
     "iopub.status.idle": "2022-01-15T15:55:56.062709Z",
     "shell.execute_reply": "2022-01-15T15:55:56.062150Z",
     "shell.execute_reply.started": "2022-01-15T15:55:56.057291Z"
    }
   },
   "outputs": [
    {
     "data": {
      "text/plain": [
       "str"
      ]
     },
     "execution_count": 1,
     "metadata": {},
     "output_type": "execute_result"
    }
   ],
   "source": [
    "string1 = 'Abhishek'\n",
    "type(string1[0:3])"
   ]
  },
  {
   "attachments": {},
   "cell_type": "markdown",
   "metadata": {},
   "source": [
    "Q6. What is the relationship between string and character &quot;types&quot; in Python?"
   ]
  },
  {
   "cell_type": "markdown",
   "metadata": {},
   "source": [
    "- With the help number of charecter we can make the string."
   ]
  },
  {
   "cell_type": "code",
   "execution_count": 13,
   "metadata": {
    "execution": {
     "iopub.execute_input": "2022-01-15T15:59:46.509960Z",
     "iopub.status.busy": "2022-01-15T15:59:46.509354Z",
     "iopub.status.idle": "2022-01-15T15:59:46.516175Z",
     "shell.execute_reply": "2022-01-15T15:59:46.515395Z",
     "shell.execute_reply.started": "2022-01-15T15:59:46.509911Z"
    }
   },
   "outputs": [],
   "source": [
    "type(chr) #it does have facility as like as we have in string It is a method"
   ]
  },
  {
   "cell_type": "code",
   "execution_count": 14,
   "metadata": {
    "execution": {
     "iopub.execute_input": "2022-01-15T15:59:56.370669Z",
     "iopub.status.busy": "2022-01-15T15:59:56.370340Z",
     "iopub.status.idle": "2022-01-15T15:59:56.376158Z",
     "shell.execute_reply": "2022-01-15T15:59:56.375605Z",
     "shell.execute_reply.started": "2022-01-15T15:59:56.370631Z"
    }
   },
   "outputs": [],
   "source": [
    "type(str) #class"
   ]
  },
  {
   "attachments": {},
   "cell_type": "markdown",
   "metadata": {},
   "source": [
    "Q7. Identify at least two operators and one method that allow you to combine one or more smaller\n",
    "strings to create a larger string."
   ]
  },
  {
   "cell_type": "code",
   "execution_count": 17,
   "metadata": {
    "execution": {
     "iopub.execute_input": "2022-01-15T16:05:40.582119Z",
     "iopub.status.busy": "2022-01-15T16:05:40.581377Z",
     "iopub.status.idle": "2022-01-15T16:05:40.587713Z",
     "shell.execute_reply": "2022-01-15T16:05:40.586922Z",
     "shell.execute_reply.started": "2022-01-15T16:05:40.582084Z"
    }
   },
   "outputs": [],
   "source": [
    "string + string #one operator"
   ]
  },
  {
   "cell_type": "code",
   "execution_count": 19,
   "metadata": {
    "execution": {
     "iopub.execute_input": "2022-01-15T16:06:14.962743Z",
     "iopub.status.busy": "2022-01-15T16:06:14.961941Z",
     "iopub.status.idle": "2022-01-15T16:06:14.967955Z",
     "shell.execute_reply": "2022-01-15T16:06:14.967207Z",
     "shell.execute_reply.started": "2022-01-15T16:06:14.962702Z"
    }
   },
   "outputs": [],
   "source": [
    "string*2"
   ]
  },
  {
   "cell_type": "code",
   "execution_count": 20,
   "metadata": {
    "execution": {
     "iopub.execute_input": "2022-01-15T16:11:12.880687Z",
     "iopub.status.busy": "2022-01-15T16:11:12.880430Z",
     "iopub.status.idle": "2022-01-15T16:11:12.887000Z",
     "shell.execute_reply": "2022-01-15T16:11:12.886249Z",
     "shell.execute_reply.started": "2022-01-15T16:11:12.880661Z"
    }
   },
   "outputs": [],
   "source": [
    " strings = ['do', 're', 'mi']\n",
    "','.join(strings)"
   ]
  },
  {
   "attachments": {},
   "cell_type": "markdown",
   "metadata": {},
   "source": [
    "Q8. What is the benefit of first checking the target string with in or not in before using the index\n",
    "method to find a substring?"
   ]
  },
  {
   "cell_type": "markdown",
   "metadata": {},
   "source": [
    "- It help to reduce our time.\n",
    "- Makes productive work.\n",
    "- Got Prevention before taking an unnessary action."
   ]
  },
  {
   "attachments": {},
   "cell_type": "markdown",
   "metadata": {},
   "source": [
    "Q9. Which operators and built-in string methods produce simple Boolean (true/false) results?"
   ]
  },
  {
   "cell_type": "markdown",
   "metadata": {},
   "source": [
    "There are some operations like below wayt"
   ]
  },
  {
   "cell_type": "code",
   "execution_count": 21,
   "metadata": {
    "execution": {
     "iopub.execute_input": "2022-01-15T16:15:46.820823Z",
     "iopub.status.busy": "2022-01-15T16:15:46.820499Z",
     "iopub.status.idle": "2022-01-15T16:15:46.827074Z",
     "shell.execute_reply": "2022-01-15T16:15:46.826486Z",
     "shell.execute_reply.started": "2022-01-15T16:15:46.820795Z"
    }
   },
   "outputs": [],
   "source": [
    "a =10\n",
    "b =90\n",
    "\n",
    "a>b"
   ]
  },
  {
   "cell_type": "code",
   "execution_count": 23,
   "metadata": {
    "execution": {
     "iopub.execute_input": "2022-01-15T16:16:02.828990Z",
     "iopub.status.busy": "2022-01-15T16:16:02.828727Z",
     "iopub.status.idle": "2022-01-15T16:16:02.834158Z",
     "shell.execute_reply": "2022-01-15T16:16:02.833287Z",
     "shell.execute_reply.started": "2022-01-15T16:16:02.828963Z"
    }
   },
   "outputs": [],
   "source": [
    "a<b"
   ]
  },
  {
   "cell_type": "markdown",
   "metadata": {},
   "source": [
    "- Whichever the comparision operator we have been using can gives us True and False statement.\n",
    "- If and else statement also provide True and False result."
   ]
  },
  {
   "cell_type": "code",
   "execution_count": 25,
   "metadata": {
    "execution": {
     "iopub.execute_input": "2022-01-15T16:17:47.372324Z",
     "iopub.status.busy": "2022-01-15T16:17:47.371485Z",
     "iopub.status.idle": "2022-01-15T16:17:47.377434Z",
     "shell.execute_reply": "2022-01-15T16:17:47.376905Z",
     "shell.execute_reply.started": "2022-01-15T16:17:47.372282Z"
    }
   },
   "outputs": [],
   "source": [
    "'i' in \"Abhishek\""
   ]
  },
  {
   "cell_type": "code",
   "execution_count": 26,
   "metadata": {
    "execution": {
     "iopub.execute_input": "2022-01-15T16:17:57.380955Z",
     "iopub.status.busy": "2022-01-15T16:17:57.380528Z",
     "iopub.status.idle": "2022-01-15T16:17:57.385713Z",
     "shell.execute_reply": "2022-01-15T16:17:57.385158Z",
     "shell.execute_reply.started": "2022-01-15T16:17:57.380924Z"
    }
   },
   "outputs": [],
   "source": [
    "'k' in \"abhishek\""
   ]
  },
  {
   "cell_type": "code",
   "execution_count": 29,
   "metadata": {
    "execution": {
     "iopub.execute_input": "2022-01-15T16:19:08.342829Z",
     "iopub.status.busy": "2022-01-15T16:19:08.342513Z",
     "iopub.status.idle": "2022-01-15T16:19:08.348479Z",
     "shell.execute_reply": "2022-01-15T16:19:08.347607Z",
     "shell.execute_reply.started": "2022-01-15T16:19:08.342795Z"
    }
   },
   "outputs": [],
   "source": [
    "type(20) is int "
   ]
  },
  {
   "cell_type": "code",
   "execution_count": 32,
   "metadata": {
    "execution": {
     "iopub.execute_input": "2022-01-15T16:19:51.220825Z",
     "iopub.status.busy": "2022-01-15T16:19:51.220531Z",
     "iopub.status.idle": "2022-01-15T16:19:51.226153Z",
     "shell.execute_reply": "2022-01-15T16:19:51.225215Z",
     "shell.execute_reply.started": "2022-01-15T16:19:51.220795Z"
    }
   },
   "outputs": [],
   "source": [
    "type(20) is float"
   ]
  }
 ],
 "metadata": {
  "kernelspec": {
   "display_name": "Python 3 (ipykernel)",
   "language": "python",
   "name": "python3"
  },
  "language_info": {
   "codemirror_mode": {
    "name": "ipython",
    "version": 3
   },
   "file_extension": ".py",
   "mimetype": "text/x-python",
   "name": "python",
   "nbconvert_exporter": "python",
   "pygments_lexer": "ipython3",
   "version": "3.9.12"
  }
 },
 "nbformat": 4,
 "nbformat_minor": 4
}
