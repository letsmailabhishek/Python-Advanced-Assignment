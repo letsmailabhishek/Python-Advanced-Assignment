{
 "cells": [
  {
   "attachments": {},
   "cell_type": "markdown",
   "metadata": {},
   "source": [
    "Q1. Is an assignment operator like += only for show? Is it possible that it would lead to faster results\n",
    "at the runtime?"
   ]
  },
  {
   "cell_type": "markdown",
   "metadata": {},
   "source": [
    "This is a contrived example, and I'm not sure if actual compilers implement this. x += y actually uses one argument and one operator and modifies x in place. x = x + y could have an intermediate representation of x = z where z is x + y. The latter uses two operators, addition and assignment, and a temporary variable. The single operator makes it super clear that the value side can't be anything other than y and doesn't need to be interpreted. And there could theoretically be some fancy CPU that has a plus-equals operator that runs faster than a plus operator and an assignment operator in series."
   ]
  },
  {
   "attachments": {},
   "cell_type": "markdown",
   "metadata": {},
   "source": [
    "Q1. Is an assignment operator like += only for show? Is it possible that it would lead to faster results\n",
    "at the runtime?"
   ]
  },
  {
   "cell_type": "code",
   "execution_count": 1,
   "metadata": {
    "execution": {
     "iopub.execute_input": "2022-01-16T10:12:46.460458Z",
     "iopub.status.busy": "2022-01-16T10:12:46.459901Z",
     "iopub.status.idle": "2022-01-16T10:12:46.487026Z",
     "shell.execute_reply": "2022-01-16T10:12:46.486370Z",
     "shell.execute_reply.started": "2022-01-16T10:12:46.460338Z"
    }
   },
   "outputs": [],
   "source": [
    "a=10\n",
    "b =20\n",
    "a,b=b,a"
   ]
  },
  {
   "cell_type": "code",
   "execution_count": 2,
   "metadata": {
    "execution": {
     "iopub.execute_input": "2022-01-16T10:13:21.528025Z",
     "iopub.status.busy": "2022-01-16T10:13:21.527743Z",
     "iopub.status.idle": "2022-01-16T10:13:21.535840Z",
     "shell.execute_reply": "2022-01-16T10:13:21.535261Z",
     "shell.execute_reply.started": "2022-01-16T10:13:21.527994Z"
    }
   },
   "outputs": [],
   "source": [
    "lambda a,b:b,a"
   ]
  },
  {
   "attachments": {},
   "cell_type": "markdown",
   "metadata": {},
   "source": [
    "Q3. In Python, what is the most effective way to set a list of 100 integers to 0?"
   ]
  },
  {
   "cell_type": "code",
   "execution_count": 7,
   "metadata": {
    "execution": {
     "iopub.execute_input": "2022-01-16T10:16:54.498027Z",
     "iopub.status.busy": "2022-01-16T10:16:54.497736Z",
     "iopub.status.idle": "2022-01-16T10:16:54.506047Z",
     "shell.execute_reply": "2022-01-16T10:16:54.505499Z",
     "shell.execute_reply.started": "2022-01-16T10:16:54.497981Z"
    }
   },
   "outputs": [],
   "source": [
    "[i for i in range(100,-1,-1)]"
   ]
  },
  {
   "attachments": {},
   "cell_type": "markdown",
   "metadata": {},
   "source": [
    "Q4. What is the most effective way to initialise a list of 99 integers that repeats the sequence 1, 2, 3?\n",
    "S If necessary, show step-by-step instructions on how to accomplish this."
   ]
  },
  {
   "cell_type": "code",
   "execution_count": 18,
   "metadata": {
    "execution": {
     "iopub.execute_input": "2022-01-16T10:23:54.468307Z",
     "iopub.status.busy": "2022-01-16T10:23:54.467754Z",
     "iopub.status.idle": "2022-01-16T10:23:54.476320Z",
     "shell.execute_reply": "2022-01-16T10:23:54.475471Z",
     "shell.execute_reply.started": "2022-01-16T10:23:54.468274Z"
    }
   },
   "outputs": [],
   "source": [
    "[1,2,3]*33"
   ]
  },
  {
   "attachments": {},
   "cell_type": "markdown",
   "metadata": {},
   "source": [
    "Q5. If you&#39;re using IDLE to run a Python application, explain how to print a multidimensional list as\n",
    "efficiently?"
   ]
  },
  {
   "cell_type": "code",
   "execution_count": 22,
   "metadata": {
    "execution": {
     "iopub.execute_input": "2022-01-16T10:26:08.137402Z",
     "iopub.status.busy": "2022-01-16T10:26:08.136624Z",
     "iopub.status.idle": "2022-01-16T10:26:08.141636Z",
     "shell.execute_reply": "2022-01-16T10:26:08.140990Z",
     "shell.execute_reply.started": "2022-01-16T10:26:08.137367Z"
    }
   },
   "outputs": [],
   "source": [
    "mul_list = [[[12,23,434,90],[70,34,56,66],[773,23,45,65]]]"
   ]
  },
  {
   "cell_type": "code",
   "execution_count": 24,
   "metadata": {
    "execution": {
     "iopub.execute_input": "2022-01-16T10:26:23.798794Z",
     "iopub.status.busy": "2022-01-16T10:26:23.796708Z",
     "iopub.status.idle": "2022-01-16T10:26:23.804072Z",
     "shell.execute_reply": "2022-01-16T10:26:23.803404Z",
     "shell.execute_reply.started": "2022-01-16T10:26:23.798750Z"
    }
   },
   "outputs": [],
   "source": [
    "print(mul_list[0])"
   ]
  },
  {
   "cell_type": "code",
   "execution_count": 25,
   "metadata": {
    "execution": {
     "iopub.execute_input": "2022-01-16T10:26:30.886872Z",
     "iopub.status.busy": "2022-01-16T10:26:30.886465Z",
     "iopub.status.idle": "2022-01-16T10:26:30.892385Z",
     "shell.execute_reply": "2022-01-16T10:26:30.891466Z",
     "shell.execute_reply.started": "2022-01-16T10:26:30.886843Z"
    }
   },
   "outputs": [],
   "source": [
    "print(mul_list[0][0])"
   ]
  },
  {
   "cell_type": "code",
   "execution_count": 26,
   "metadata": {
    "execution": {
     "iopub.execute_input": "2022-01-16T10:26:39.336148Z",
     "iopub.status.busy": "2022-01-16T10:26:39.335867Z",
     "iopub.status.idle": "2022-01-16T10:26:39.340799Z",
     "shell.execute_reply": "2022-01-16T10:26:39.339991Z",
     "shell.execute_reply.started": "2022-01-16T10:26:39.336110Z"
    }
   },
   "outputs": [],
   "source": [
    "print(mul_list[0][0][0])"
   ]
  },
  {
   "attachments": {},
   "cell_type": "markdown",
   "metadata": {},
   "source": [
    "Q7. From the command line, how do you get support with a user-written Python programme? Is this\n",
    "possible from inside IDLE?"
   ]
  },
  {
   "cell_type": "markdown",
   "metadata": {},
   "source": [
    "- By using the import statement we can import the module inside the  main file.\n",
    "- After that we can use that code\n",
    "- Other if someone uploaded the python package inside the Pipy then installing that we can use that user-written code."
   ]
  },
  {
   "attachments": {},
   "cell_type": "markdown",
   "metadata": {},
   "source": [
    "Q8. Functions are said to be “first-class objects” in Python but not in most other languages, such as\n",
    "C++ or Java. What can you do in Python with a function (callable object) that you can&#39;t do in C or\n",
    "C++?"
   ]
  },
  {
   "cell_type": "markdown",
   "metadata": {},
   "source": [
    "- C and C++ Does not garbage collection whereas the python does.\n",
    "- Scope of variable in C and C++,Limited within the loops or blocks wherease in python Accessible outside the loops or blocks.\n",
    "- Rapid Prototyping not possible in C and C++ whereas in python it is possible.\n",
    "- Inside C and C++,Restrictions on the type of parameters or return value whereas in python No restrictions on the type of parameters or return value.\n",
    "- C and C++ use for low level application whereae,In python we can do high level of application."
   ]
  },
  {
   "attachments": {},
   "cell_type": "markdown",
   "metadata": {},
   "source": [
    "Q9. How do you distinguish between a wrapper, a wrapped feature, and a decorator?"
   ]
  },
  {
   "cell_type": "markdown",
   "metadata": {},
   "source": [
    "- The two are not necessarily different things. Decorators are a kind of wrapper. The other kind are adapters.\n",
    "- Decorators allow us to wrap another function in order to extend the behavior of the wrapped function, without permanently modifying it. In Decorators, functions are taken as the argument into another function and then called inside the wrapper function.\n",
    "- Wrappers around the functions are also knows as decorators which are a very powerful and useful tool in Python since it allows programmers to modify the behavior of function or class. Decorators allow us to wrap another function in order to extend the behavior of the wrapped function, without permanently modifying it. In Decorators, functions are taken as the argument into another function and then called inside the wrapper function."
   ]
  },
  {
   "cell_type": "code",
   "execution_count": 29,
   "metadata": {
    "execution": {
     "iopub.execute_input": "2022-01-16T10:46:46.297948Z",
     "iopub.status.busy": "2022-01-16T10:46:46.297127Z",
     "iopub.status.idle": "2022-01-16T10:46:46.302172Z",
     "shell.execute_reply": "2022-01-16T10:46:46.301443Z",
     "shell.execute_reply.started": "2022-01-16T10:46:46.297906Z"
    }
   },
   "outputs": [],
   "source": [
    "def wrapper(s):\n",
    "    pass\n",
    "    \n",
    "@wrapper\n",
    "def function(n):\n",
    "    statements(s)"
   ]
  },
  {
   "cell_type": "code",
   "execution_count": 30,
   "metadata": {
    "execution": {
     "iopub.execute_input": "2022-01-16T10:46:58.701063Z",
     "iopub.status.busy": "2022-01-16T10:46:58.700761Z",
     "iopub.status.idle": "2022-01-16T10:46:58.705890Z",
     "shell.execute_reply": "2022-01-16T10:46:58.705012Z",
     "shell.execute_reply.started": "2022-01-16T10:46:58.701029Z"
    }
   },
   "outputs": [],
   "source": [
    "def function(n):\n",
    "    statement(s)\n",
    "\n",
    "function = wrapper(function)"
   ]
  },
  {
   "cell_type": "markdown",
   "metadata": {},
   "source": [
    "Above both are similar to each other."
   ]
  },
  {
   "cell_type": "code",
   "execution_count": 31,
   "metadata": {
    "execution": {
     "iopub.execute_input": "2022-01-16T10:48:21.172922Z",
     "iopub.status.busy": "2022-01-16T10:48:21.172103Z",
     "iopub.status.idle": "2022-01-16T10:48:21.180884Z",
     "shell.execute_reply": "2022-01-16T10:48:21.180031Z",
     "shell.execute_reply.started": "2022-01-16T10:48:21.172867Z"
    }
   },
   "outputs": [],
   "source": [
    "# defining a decorator\n",
    "def hello_decorator(func):\n",
    "\n",
    "# inner1 is a Wrapper function in\n",
    "# which the argument is called\n",
    "\n",
    "# inner function can access the outer local\n",
    "# functions like in this case \"func\"\n",
    "\tdef inner1():\n",
    "\t\tprint(\"Hello, this is before function execution\")\n",
    "\t\n",
    "\t\t# calling the actual function now\n",
    "\t\t# inside the wrapper function.\n",
    "\t\tfunc()\n",
    "\t\n",
    "\t\tprint(\"This is after function execution\")\n",
    "\t\t\t\n",
    "\treturn inner1\n",
    "\t\n",
    "\t\n",
    "# defining a function, to be called inside wrapper\n",
    "def function_to_be_used():\n",
    "\tprint(\"This is inside the function !!\")\n",
    "\t\n",
    "\t\n",
    "# passing 'function_to_be_used' inside the\n",
    "# decorator to control its behavior\n",
    "function_to_be_used = hello_decorator(function_to_be_used)\n",
    "\t\n",
    "\t\n",
    "# calling the function\n",
    "function_to_be_used()\n"
   ]
  },
  {
   "attachments": {},
   "cell_type": "markdown",
   "metadata": {},
   "source": [
    "Q10. If a function is a generator function, what does it return?"
   ]
  },
  {
   "cell_type": "code",
   "execution_count": 33,
   "metadata": {
    "execution": {
     "iopub.execute_input": "2022-01-16T10:53:14.181309Z",
     "iopub.status.busy": "2022-01-16T10:53:14.181015Z",
     "iopub.status.idle": "2022-01-16T10:53:14.186246Z",
     "shell.execute_reply": "2022-01-16T10:53:14.185217Z",
     "shell.execute_reply.started": "2022-01-16T10:53:14.181275Z"
    }
   },
   "outputs": [],
   "source": [
    "def generator(seq):\n",
    "    for i in range(seq):\n",
    "        if i%2==0:\n",
    "            yield i"
   ]
  },
  {
   "cell_type": "code",
   "execution_count": 36,
   "metadata": {
    "execution": {
     "iopub.execute_input": "2022-01-16T10:53:50.768077Z",
     "iopub.status.busy": "2022-01-16T10:53:50.767495Z",
     "iopub.status.idle": "2022-01-16T10:53:50.774642Z",
     "shell.execute_reply": "2022-01-16T10:53:50.773844Z",
     "shell.execute_reply.started": "2022-01-16T10:53:50.768041Z"
    }
   },
   "outputs": [],
   "source": [
    "generator([1,2,3,8]) #it is going to save itself as an object."
   ]
  },
  {
   "cell_type": "code",
   "execution_count": 37,
   "metadata": {
    "execution": {
     "iopub.execute_input": "2022-01-16T10:54:56.136319Z",
     "iopub.status.busy": "2022-01-16T10:54:56.136038Z",
     "iopub.status.idle": "2022-01-16T10:54:56.141579Z",
     "shell.execute_reply": "2022-01-16T10:54:56.141035Z",
     "shell.execute_reply.started": "2022-01-16T10:54:56.136291Z"
    }
   },
   "outputs": [],
   "source": [
    "for i in generator(10):\n",
    "    print(i)"
   ]
  },
  {
   "attachments": {},
   "cell_type": "markdown",
   "metadata": {},
   "source": [
    "Q11. What is the one improvement that must be made to a function in order for it to become a\n",
    "generator function in the Python language?"
   ]
  },
  {
   "cell_type": "markdown",
   "metadata": {},
   "source": [
    "- In order to make the function to generator in python we have to use the keyword called as `yeild keyword`.\n",
    "- This is going to store the information for the temporary base."
   ]
  },
  {
   "attachments": {},
   "cell_type": "markdown",
   "metadata": {},
   "source": [
    "Q12. Identify at least one benefit of generators."
   ]
  },
  {
   "cell_type": "markdown",
   "metadata": {},
   "source": [
    "- In the generator we can store operation inside the object of python.\n",
    "- That is going to run highly computational program in efficient manner.\n",
    "- It takes low run time as we can reuse the code for our next some similar operation. "
   ]
  }
 ],
 "metadata": {
  "kernelspec": {
   "display_name": "Python 3 (ipykernel)",
   "language": "python",
   "name": "python3"
  },
  "language_info": {
   "codemirror_mode": {
    "name": "ipython",
    "version": 3
   },
   "file_extension": ".py",
   "mimetype": "text/x-python",
   "name": "python",
   "nbconvert_exporter": "python",
   "pygments_lexer": "ipython3",
   "version": "3.9.12"
  }
 },
 "nbformat": 4,
 "nbformat_minor": 4
}
