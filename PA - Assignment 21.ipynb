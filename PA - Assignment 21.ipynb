{
 "cells": [
  {
   "attachments": {},
   "cell_type": "markdown",
   "metadata": {},
   "source": [
    "Q1. What is a probability distribution, exactly? If the values are meant to be random, how can you\n",
    "predict them at all?"
   ]
  },
  {
   "cell_type": "markdown",
   "metadata": {},
   "source": [
    "- A probability distribution is a statistical function that describes all the possible values and likelihoods that a random variable can take within a given range. This range will be bounded between the minimum and maximum possible values, but precisely where the possible value is likely to be plotted on the probability distribution depends on a number of factors. These factors include the distribution's mean (average), standard deviation, skewness, and kurtosis."
   ]
  },
  {
   "cell_type": "markdown",
   "metadata": {},
   "source": [
    "- There could be the random variable in the two format \n",
    " - Descrete Random Variable :- This can predicted by classification algorithm beased on the use case\n",
    " - Countinous Random Variable :- This can be predicted by Regression algorithm."
   ]
  },
  {
   "attachments": {},
   "cell_type": "markdown",
   "metadata": {},
   "source": [
    "Q2. Is there a distinction between true random numbers and pseudo-random numbers, if there is\n",
    "one? Why are the latter considered “good enough”?"
   ]
  },
  {
   "cell_type": "markdown",
   "metadata": {},
   "source": [
    "- The difference between `true random number generators(TRNGs)` and `pseudo-random number generators(PRNGs)` is that TRNGs use an unpredictable physical means to generate numbers (like atmospheric noise), and PRNGs use mathematical algorithms (completely computer-generated)."
   ]
  },
  {
   "attachments": {},
   "cell_type": "markdown",
   "metadata": {},
   "source": [
    "Q3. What are the two main factors that influence the behaviour of a &quot;normal&quot; probability distribution?"
   ]
  },
  {
   "cell_type": "markdown",
   "metadata": {},
   "source": [
    "-  Normal distribution, also known as the Gaussian distribution, is the most important probability distribution in statistics for independent, random variables.\n",
    "- The parameters for the normal distribution define its shape and probabilities entirely. The normal distribution has two parameters, the mean and standard deviation."
   ]
  },
  {
   "attachments": {},
   "cell_type": "markdown",
   "metadata": {},
   "source": [
    "Q4. Provide a real-life example of a normal distribution."
   ]
  },
  {
   "cell_type": "markdown",
   "metadata": {},
   "source": [
    "- Age Distribution\n",
    "- Stock Market Distribution\n",
    "- Central Limit Theorem."
   ]
  },
  {
   "attachments": {},
   "cell_type": "markdown",
   "metadata": {},
   "source": [
    "Q5. In the short term, how can you expect a probability distribution to behave? What do you think will\n",
    "happen as the number of trials grows?"
   ]
  },
  {
   "cell_type": "markdown",
   "metadata": {},
   "source": [
    "- The probablity distribution is kind of distribution of probablity of every event occurance.\n",
    "- These event probablity creates the curve that curve know as probablity distribution curve.\n",
    "- It how well our data is getting distributed and help us to know about skewness and Kurltosis."
   ]
  },
  {
   "attachments": {},
   "cell_type": "markdown",
   "metadata": {},
   "source": [
    "Q6. What kind of object can be shuffled by using random.shuffle?"
   ]
  },
  {
   "cell_type": "code",
   "execution_count": 7,
   "metadata": {
    "execution": {
     "iopub.execute_input": "2022-01-26T13:07:08.499995Z",
     "iopub.status.busy": "2022-01-26T13:07:08.499706Z",
     "iopub.status.idle": "2022-01-26T13:07:08.504544Z",
     "shell.execute_reply": "2022-01-26T13:07:08.503672Z",
     "shell.execute_reply.started": "2022-01-26T13:07:08.499960Z"
    }
   },
   "outputs": [],
   "source": [
    "import random\n",
    "random.seed(0)\n",
    "l = list(range(5))\n",
    "x=random.shuffle(l)\n",
    "print(l)"
   ]
  },
  {
   "cell_type": "markdown",
   "metadata": {},
   "source": [
    "- set,string and tuple can not be shuffle."
   ]
  },
  {
   "attachments": {},
   "cell_type": "markdown",
   "metadata": {},
   "source": [
    "Q7. Describe the math package&#39;s general categories of functions."
   ]
  },
  {
   "cell_type": "code",
   "execution_count": 13,
   "metadata": {
    "execution": {
     "iopub.execute_input": "2022-01-26T13:19:37.917134Z",
     "iopub.status.busy": "2022-01-26T13:19:37.916825Z",
     "iopub.status.idle": "2022-01-26T13:19:37.939834Z",
     "shell.execute_reply": "2022-01-26T13:19:37.939190Z",
     "shell.execute_reply.started": "2022-01-26T13:19:37.917101Z"
    }
   },
   "outputs": [],
   "source": [
    "import math\n",
    "help(math)"
   ]
  },
  {
   "attachments": {},
   "cell_type": "markdown",
   "metadata": {},
   "source": [
    "Q8. What is the relationship between exponentiation and logarithms?"
   ]
  },
  {
   "cell_type": "markdown",
   "metadata": {},
   "source": [
    "- exponentiation and logarithms are inversely proportional to each other."
   ]
  },
  {
   "attachments": {},
   "cell_type": "markdown",
   "metadata": {},
   "source": [
    "Q9. What are the three logarithmic functions that Python supports?"
   ]
  },
  {
   "cell_type": "markdown",
   "metadata": {},
   "source": [
    "- log(...)\n",
    "        log(x, [base=math.e])\n",
    "        Return the logarithm of x to the given base.\n",
    "        \n",
    "        If the base not specified, returns the natural logarithm (base e) of x.\n",
    "    \n",
    "    \n",
    " - log10(x, /)\n",
    "        Return the base 10 logarithm of x.\n",
    "    \n",
    " - log1p(x, /)\n",
    "        Return the natural logarithm of 1+x (base e).\n",
    "        \n",
    "        The result is computed in a way which is accurate for x near zero.\n",
    "    \n",
    " - log2(x, /)\n",
    "        Return the base 2 logarithm of x."
   ]
  }
 ],
 "metadata": {
  "kernelspec": {
   "display_name": "Python 3 (ipykernel)",
   "language": "python",
   "name": "python3"
  },
  "language_info": {
   "codemirror_mode": {
    "name": "ipython",
    "version": 3
   },
   "file_extension": ".py",
   "mimetype": "text/x-python",
   "name": "python",
   "nbconvert_exporter": "python",
   "pygments_lexer": "ipython3",
   "version": "3.9.12"
  }
 },
 "nbformat": 4,
 "nbformat_minor": 4
}
