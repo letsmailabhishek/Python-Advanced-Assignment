{
 "cells": [
  {
   "attachments": {},
   "cell_type": "markdown",
   "metadata": {},
   "source": [
    "Q1. Describe three applications for exception processing."
   ]
  },
  {
   "cell_type": "markdown",
   "metadata": {},
   "source": [
    "Python has many built-in exceptions that are raised when your program encounters an error (something in the program goes wrong).\n",
    "\n",
    "When these exceptions occur, the Python interpreter stops the current process and passes it to the calling process until it is handled. If not handled, the program will crash.\n",
    "\n",
    "There are some applications are avaliable there we can use an exception in ur code.\n",
    "\n",
    "- 1.User input exception like if any user enter wrong password there will exception handling will there to imform user that he has enter the wrong password.\n",
    "- 2.Any value will getting divide with 0.\n",
    "- 3.To avoid the wrong date format."
   ]
  },
  {
   "attachments": {},
   "cell_type": "markdown",
   "metadata": {},
   "source": [
    "Q2. What happens if you don&#39;t do something extra to treat an exception?"
   ]
  },
  {
   "cell_type": "markdown",
   "metadata": {},
   "source": [
    "- If you don not use the exception of the code then code will get crash.\n",
    "- It will stop executing the further code and throw the error.\n",
    "- That may effect on particular system and may cause the damages inside the working mechanism of an instrument or machine.\n",
    "- Python has many built-in exceptions that are raised when your program encounters an error (something in the program goes wrong).\n"
   ]
  },
  {
   "attachments": {},
   "cell_type": "markdown",
   "metadata": {},
   "source": [
    "Q3. What are your options for recovering from an exception in your script?"
   ]
  },
  {
   "cell_type": "markdown",
   "metadata": {},
   "source": [
    "- For not getting any exception I will some basic operation like using the if and else condition.\n",
    "- If I will get the OOps code then I will be use the Try and Except keywords in order to get rid from the exception."
   ]
  },
  {
   "attachments": {},
   "cell_type": "markdown",
   "metadata": {},
   "source": [
    "Q4. Describe two methods for triggering exceptions in your script."
   ]
  },
  {
   "cell_type": "markdown",
   "metadata": {},
   "source": [
    "- Try – This method catches the exceptions raised by the program.\n",
    "- Raise – Triggers an exception manually using custom exceptions."
   ]
  },
  {
   "cell_type": "code",
   "execution_count": 1,
   "metadata": {
    "execution": {
     "iopub.execute_input": "2022-01-14T17:00:35.416054Z",
     "iopub.status.busy": "2022-01-14T17:00:35.415518Z",
     "iopub.status.idle": "2022-01-14T17:00:35.449179Z",
     "shell.execute_reply": "2022-01-14T17:00:35.448452Z",
     "shell.execute_reply.started": "2022-01-14T17:00:35.415951Z"
    }
   },
   "outputs": [],
   "source": [
    "# import module sys to get the type of exception\n",
    "import sys\n",
    "\n",
    "randomList = ['a', 0, 2]\n",
    "\n",
    "for entry in randomList:\n",
    "    try:\n",
    "        print(\"The entry is\", entry)\n",
    "        r = 1/int(entry)\n",
    "        break\n",
    "    except:\n",
    "        print(\"Oops!\", sys.exc_info()[0], \"occurred.\")\n",
    "        print(\"Next entry.\")\n",
    "        print()\n",
    "print(\"The reciprocal of\", entry, \"is\", r)"
   ]
  },
  {
   "cell_type": "code",
   "execution_count": 3,
   "metadata": {
    "execution": {
     "iopub.execute_input": "2022-01-14T17:03:15.069748Z",
     "iopub.status.busy": "2022-01-14T17:03:15.069363Z",
     "iopub.status.idle": "2022-01-14T17:03:15.087545Z",
     "shell.execute_reply": "2022-01-14T17:03:15.086364Z",
     "shell.execute_reply.started": "2022-01-14T17:03:15.069711Z"
    }
   },
   "outputs": [],
   "source": [
    "x = -1\n",
    "\n",
    "if x < 0:\n",
    "    raise Exception(\"Sorry, no numbers below zero\")"
   ]
  },
  {
   "cell_type": "code",
   "execution_count": 4,
   "metadata": {
    "execution": {
     "iopub.execute_input": "2022-01-14T17:03:47.659179Z",
     "iopub.status.busy": "2022-01-14T17:03:47.658859Z",
     "iopub.status.idle": "2022-01-14T17:03:47.674422Z",
     "shell.execute_reply": "2022-01-14T17:03:47.673595Z",
     "shell.execute_reply.started": "2022-01-14T17:03:47.659136Z"
    }
   },
   "outputs": [],
   "source": [
    "x = \"hello\"\n",
    "\n",
    "if not type(x) is int:\n",
    "    raise TypeError(\"Only integers are allowed\")"
   ]
  },
  {
   "attachments": {},
   "cell_type": "markdown",
   "metadata": {},
   "source": [
    "Q5. Identify two methods for specifying actions to be executed at termination time, regardless of\n",
    "whether or not an exception exists."
   ]
  },
  {
   "cell_type": "markdown",
   "metadata": {},
   "source": [
    "Try statement had always been paired with except clauses. But there is another way to use it as well. The try statement can be followed by a finally clause. Finally clauses are called clean-up or termination clauses, because they must be executed under all circumstances, i.e. a \"finally\" clause is always executed regardless if an exception occurred in a try block or not. A simple example to demonstrate the finally clause."
   ]
  },
  {
   "cell_type": "code",
   "execution_count": 5,
   "metadata": {
    "execution": {
     "iopub.execute_input": "2022-01-14T17:08:58.562725Z",
     "iopub.status.busy": "2022-01-14T17:08:58.562400Z",
     "iopub.status.idle": "2022-01-14T17:09:02.265664Z",
     "shell.execute_reply": "2022-01-14T17:09:02.264671Z",
     "shell.execute_reply.started": "2022-01-14T17:08:58.562689Z"
    }
   },
   "outputs": [],
   "source": [
    "try:\n",
    "    x = float(input(\"Your number: \"))\n",
    "    inverse = 1.0 / x\n",
    "finally:\n",
    "    print(\"There may or may not have been an exception.\")\n",
    "print(\"The inverse: \", inverse)"
   ]
  },
  {
   "cell_type": "markdown",
   "metadata": {},
   "source": [
    "The try ... except statement has an optional else clause. An else block has to be positioned after all the except clauses. An else clause will be executed if the try clause doesn't raise an exception."
   ]
  },
  {
   "cell_type": "code",
   "execution_count": 6,
   "metadata": {
    "execution": {
     "iopub.execute_input": "2022-01-14T17:10:45.715811Z",
     "iopub.status.busy": "2022-01-14T17:10:45.714893Z",
     "iopub.status.idle": "2022-01-14T17:10:45.722518Z",
     "shell.execute_reply": "2022-01-14T17:10:45.721632Z",
     "shell.execute_reply.started": "2022-01-14T17:10:45.715645Z"
    }
   },
   "outputs": [],
   "source": [
    "import sys\n",
    "file_name = sys.argv[1]\n",
    "text = []\n",
    "try:\n",
    "    fh = open(file_name, 'r')\n",
    "except IOError:\n",
    "    print('cannot open', file_name)\n",
    "else:\n",
    "    text = fh.readlines()\n",
    "    fh.close()\n",
    "\n",
    "if text:\n",
    "    print(text[100])"
   ]
  },
  {
   "cell_type": "code",
   "execution_count": 7,
   "metadata": {
    "execution": {
     "iopub.execute_input": "2022-01-14T17:12:58.953676Z",
     "iopub.status.busy": "2022-01-14T17:12:58.953396Z",
     "iopub.status.idle": "2022-01-14T17:13:02.395299Z",
     "shell.execute_reply": "2022-01-14T17:13:02.394677Z",
     "shell.execute_reply.started": "2022-01-14T17:12:58.953648Z"
    }
   },
   "outputs": [],
   "source": [
    "try:\n",
    "    x = float(input(\"Your number: \"))\n",
    "    inverse = 1.0 / x\n",
    "except ValueError:\n",
    "    print(\"You should have given either an int or a float\")\n",
    "except ZeroDivisionError:\n",
    "    print(\"Infinity\")\n",
    "finally:\n",
    "    print(\"There may or may not have been an exception.\")"
   ]
  }
 ],
 "metadata": {
  "kernelspec": {
   "display_name": "Python 3 (ipykernel)",
   "language": "python",
   "name": "python3"
  },
  "language_info": {
   "codemirror_mode": {
    "name": "ipython",
    "version": 3
   },
   "file_extension": ".py",
   "mimetype": "text/x-python",
   "name": "python",
   "nbconvert_exporter": "python",
   "pygments_lexer": "ipython3",
   "version": "3.9.12"
  }
 },
 "nbformat": 4,
 "nbformat_minor": 4
}
