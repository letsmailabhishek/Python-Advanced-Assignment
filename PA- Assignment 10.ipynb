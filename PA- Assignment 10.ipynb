{
 "cells": [
  {
   "attachments": {},
   "cell_type": "markdown",
   "metadata": {},
   "source": [
    "Q1. What is the difference between __getattr__ and __getattribute__?"
   ]
  },
  {
   "cell_type": "markdown",
   "metadata": {},
   "source": [
    "- A key difference between `__getattr__` and `__getattribute__` is that `__getattr__` is only invoked if the attribute wasn't found the usual ways. It's good for implementing a fallback for missing attributes, and is probably the one of two you want.\n",
    "- `__getattribute__` is invoked before looking at the actual attributes on the object, and so can be tricky to implement correctly. You can end up in infinite recursions very easily."
   ]
  },
  {
   "cell_type": "markdown",
   "metadata": {},
   "source": [
    "- Python will call `__getattr__` method whenever you request an attribute that hasn't already been defined. \n",
    "- In the following example my class Count has no `__getattr__` method. \n",
    "- Now in main when I try to access both `obj1.mymin` and `obj1.mymax` attributes everything works fine. \n",
    "- But when I try to access `obj1.mycurrent attribute -- Python gives me AttributeError: 'Count' object has no attribute 'mycurrent'`"
   ]
  },
  {
   "cell_type": "code",
   "execution_count": 2,
   "metadata": {
    "execution": {
     "iopub.execute_input": "2022-01-15T13:32:37.641844Z",
     "iopub.status.busy": "2022-01-15T13:32:37.641577Z",
     "iopub.status.idle": "2022-01-15T13:32:37.706867Z",
     "shell.execute_reply": "2022-01-15T13:32:37.705316Z",
     "shell.execute_reply.started": "2022-01-15T13:32:37.641815Z"
    }
   },
   "outputs": [],
   "source": [
    "class Count():\n",
    "    def __init__(self,mymin,mymax):\n",
    "        self.mymin=mymin\n",
    "        self.mymax=mymax\n",
    "\n",
    "obj1 = Count(1,10)\n",
    "print(obj1.mymin)\n",
    "print(obj1.mymax)\n",
    "print(obj1.mycurrent)"
   ]
  },
  {
   "cell_type": "markdown",
   "metadata": {},
   "source": [
    "Now my class Count has `__getattr__` method. Now when I try to access `obj1.mycurrent attribute` -- python returns me whatever I have implemented in my `__getattr__` method. In my example whenever I try to call an attribute which doesn't exist, python creates that attribute and sets it to integer value 0.\n",
    "\n"
   ]
  },
  {
   "cell_type": "code",
   "execution_count": 4,
   "metadata": {
    "execution": {
     "iopub.execute_input": "2022-01-15T13:33:21.070736Z",
     "iopub.status.busy": "2022-01-15T13:33:21.070026Z",
     "iopub.status.idle": "2022-01-15T13:33:21.077384Z",
     "shell.execute_reply": "2022-01-15T13:33:21.076292Z",
     "shell.execute_reply.started": "2022-01-15T13:33:21.070689Z"
    }
   },
   "outputs": [],
   "source": [
    "class Count:\n",
    "    def __init__(self,mymin,mymax):\n",
    "        self.mymin=mymin\n",
    "        self.mymax=mymax    \n",
    "\n",
    "    def __getattr__(self, item):\n",
    "        self.__dict__[item]=0\n",
    "        return 0\n",
    "\n",
    "obj1 = Count(1,10)\n",
    "print(obj1.mymin)\n",
    "print(obj1.mymax)\n",
    "print(obj1.mycurrent1)"
   ]
  },
  {
   "cell_type": "markdown",
   "metadata": {},
   "source": [
    "Now lets see the `__getattribute__` method. If you have `__getattribute__` method in your class, python invokes this method for every attribute regardless whether it exists or not. So why do we need `__getattribute__` method? One good reason is that you can prevent access to attributes and make them more secure as shown in the following example.\n",
    "\n",
    "Whenever someone try to access my attributes that starts with substring 'cur' python raises AttributeError exception. Otherwise it returns that attribute"
   ]
  },
  {
   "cell_type": "code",
   "execution_count": 5,
   "metadata": {
    "execution": {
     "iopub.execute_input": "2022-01-15T13:33:26.503139Z",
     "iopub.status.busy": "2022-01-15T13:33:26.502460Z",
     "iopub.status.idle": "2022-01-15T13:33:26.528664Z",
     "shell.execute_reply": "2022-01-15T13:33:26.527633Z",
     "shell.execute_reply.started": "2022-01-15T13:33:26.503098Z"
    }
   },
   "outputs": [],
   "source": [
    "class Count:\n",
    "\n",
    "    def __init__(self,mymin,mymax):\n",
    "        self.mymin=mymin\n",
    "        self.mymax=mymax\n",
    "        self.current=None\n",
    "   \n",
    "    def __getattribute__(self, item):\n",
    "        if item.startswith('cur'):\n",
    "            raise AttributeError\n",
    "        return object.__getattribute__(self,item) \n",
    "        # or you can use ---return super().__getattribute__(item)\n",
    "\n",
    "obj1 = Count(1,10)\n",
    "print(obj1.mymin)\n",
    "print(obj1.mymax)\n",
    "print(obj1.current)"
   ]
  },
  {
   "cell_type": "markdown",
   "metadata": {},
   "source": [
    "Important: In order to avoid infinite recursion in `__getattribute__` method, its implementation should always call the base class method with the same name to access any attributes it needs. For example: `object.__getattribute__(self, name)` or `super().__getattribute__(item)` and not `self.__dict__[item]`"
   ]
  },
  {
   "cell_type": "markdown",
   "metadata": {},
   "source": [
    "If your class contain both getattr and getattribute magic methods then `__getattribute__` is called first. But if `__getattribute__` raises AttributeError exception then the exception will be ignored and `__getattr__` method will be invoked. See the following example:"
   ]
  },
  {
   "cell_type": "code",
   "execution_count": 6,
   "metadata": {
    "execution": {
     "iopub.execute_input": "2022-01-15T13:33:43.923094Z",
     "iopub.status.busy": "2022-01-15T13:33:43.922806Z",
     "iopub.status.idle": "2022-01-15T13:33:43.930350Z",
     "shell.execute_reply": "2022-01-15T13:33:43.929331Z",
     "shell.execute_reply.started": "2022-01-15T13:33:43.923062Z"
    }
   },
   "outputs": [],
   "source": [
    "class Count(object):\n",
    "\n",
    "    def __init__(self,mymin,mymax):\n",
    "        self.mymin=mymin\n",
    "        self.mymax=mymax\n",
    "        self.current=None\n",
    "\n",
    "    def __getattr__(self, item):\n",
    "            self.__dict__[item]=0\n",
    "            return 0\n",
    "\n",
    "    def __getattribute__(self, item):\n",
    "        if item.startswith('cur'):\n",
    "            raise AttributeError\n",
    "        return object.__getattribute__(self,item)\n",
    "        # or you can use ---return super().__getattribute__(item)\n",
    "        # note this class subclass object\n",
    "\n",
    "obj1 = Count(1,10)\n",
    "print(obj1.mymin)\n",
    "print(obj1.mymax)\n",
    "print(obj1.current)"
   ]
  },
  {
   "attachments": {},
   "cell_type": "markdown",
   "metadata": {},
   "source": [
    "Q2. What is the difference between properties and descriptors?"
   ]
  },
  {
   "cell_type": "markdown",
   "metadata": {},
   "source": [
    "### Descriptors\n",
    "\n",
    "- Python descriptors are created to manage the attributes of different classes which use the object as reference. In descriptors we used three different methods that are `__getters__()`, `__setters__()`, and `__delete__()`.\n",
    "\n",
    "- If any of those methods are defined for an object, it can be termed as a descriptor. Normally, Python uses methods like getters and setters to adjust the values on attributes without any special processing. It’s just a basic storage system. Sometimes, You might need to validate the values that are being assigned to a value."
   ]
  },
  {
   "cell_type": "markdown",
   "metadata": {},
   "source": [
    "- `gfg.__get__(self, obj, type=None) :` This attribute is called when you want to retrieve the information `(value = obj.attr)`, and whatever it returns is what will be given to the code that requested the attribute’s value.\n",
    "\n",
    "- `gfg.__set__(self, obj, value) :` This method is called to set the values of an attribute `(obj.attr = 'value')`, and it will not return anything to you.\n",
    "\n",
    "- `gfg.__delete__(self, obj) :` This method is called when the attribute is deleted from an object `(del obj.attr)`\n",
    " "
   ]
  },
  {
   "cell_type": "markdown",
   "metadata": {},
   "source": [
    "### Property\n",
    "\n",
    "- The `property()` construct returns the property attribute.\n",
    "\n",
    "###  property() Parameters\n",
    "The property() takes four optional parameters:\n",
    "\n",
    "- fget (optional) - Function for getting the attribute value. Defaults to None.\n",
    "- fset (optional) - Function for setting the attribute value. Defaults to None.\n",
    "- fdel (optional) - Function for deleting the attribute value. Defaults to None.\n",
    "- doc (optional) - A string that contains the documentation (docstring) for the attribute. Defaults to None.\n"
   ]
  },
  {
   "cell_type": "markdown",
   "metadata": {},
   "source": [
    "- Return value from property()\n",
    "\n",
    "- property() returns the property attribute from the given getter, setter, and deleter.\n",
    "\n",
    "- If no arguments are given, property() returns a base property attribute that doesn't contain any getter, setter or deleter.\n",
    "\n",
    "- If doc isn't provided, property() takes the docstring of the getter function."
   ]
  },
  {
   "cell_type": "code",
   "execution_count": 3,
   "metadata": {
    "execution": {
     "iopub.execute_input": "2022-01-15T13:32:37.741586Z",
     "iopub.status.busy": "2022-01-15T13:32:37.740923Z",
     "iopub.status.idle": "2022-01-15T13:32:37.748922Z",
     "shell.execute_reply": "2022-01-15T13:32:37.748219Z",
     "shell.execute_reply.started": "2022-01-15T13:32:37.741535Z"
    }
   },
   "outputs": [],
   "source": [
    "# Python program to explain property() function \n",
    "    \n",
    "# Alphabet class \n",
    "class Alphabet: \n",
    "    def __init__(self, value): \n",
    "        self._value = value \n",
    "            \n",
    "    # getting the values \n",
    "    def getValue(self): \n",
    "        print('Getting value') \n",
    "        return self._value \n",
    "            \n",
    "    # setting the values \n",
    "    def setValue(self, value): \n",
    "        print('Setting value to ' + value) \n",
    "        self._value = value \n",
    "            \n",
    "    # deleting the values \n",
    "    def delValue(self): \n",
    "        print('Deleting value') \n",
    "        del self._value \n",
    "        \n",
    "    value = property(getValue, setValue, delValue, ) \n",
    "    \n",
    "# passing the value \n",
    "x = Alphabet('GeeksforGeeks') \n",
    "print(x.value) \n",
    "    \n",
    "x.value = 'GfG'\n",
    "    \n",
    "del x.value "
   ]
  },
  {
   "attachments": {},
   "cell_type": "markdown",
   "metadata": {},
   "source": [
    "Q3. What are the key differences in functionality between __getattr__ and __getattribute__, as well as\n",
    "properties and descriptors?"
   ]
  },
  {
   "cell_type": "markdown",
   "metadata": {},
   "source": [
    "### Difference between `__getattr__` and `__getattribute__`"
   ]
  },
  {
   "cell_type": "markdown",
   "metadata": {},
   "source": [
    "- - A key difference between `__getattr__` and `__getattribute__` is that `__getattr__` is only invoked if the attribute wasn't found the usual ways. It's good for implementing a fallback for missing attributes, and is probably the one of two you want.\n",
    "- `__getattribute__` is invoked before looking at the actual attributes on the object, and so can be tricky to implement correctly. You can end up in infinite recursions very easily."
   ]
  },
  {
   "cell_type": "markdown",
   "metadata": {},
   "source": [
    "### Difference between `Descriptors` and `Property`"
   ]
  },
  {
   "cell_type": "markdown",
   "metadata": {},
   "source": [
    "### Descriptor"
   ]
  },
  {
   "cell_type": "markdown",
   "metadata": {},
   "source": [
    "- Python descriptors are created to manage the attributes of different classes which use the object as reference. In descriptors we used three different methods that are `__getters__()`, `__setters__()`, and `__delete__()`.\n",
    "\n",
    "- If any of those methods are defined for an object, it can be termed as a descriptor. Normally, Python uses methods like getters and setters to adjust the values on attributes without any special processing. It’s just a basic storage system. Sometimes, You might need to validate the values that are being assigned to a value."
   ]
  },
  {
   "cell_type": "markdown",
   "metadata": {},
   "source": [
    "### Property"
   ]
  },
  {
   "cell_type": "markdown",
   "metadata": {},
   "source": [
    "- The `property()` construct returns the property attribute.\n",
    "\n",
    "###  property() Parameters\n",
    "The property() takes four optional parameters:\n",
    "\n",
    "- fget (optional) - Function for getting the attribute value. Defaults to None.\n",
    "- fset (optional) - Function for setting the attribute value. Defaults to None.\n",
    "- fdel (optional) - Function for deleting the attribute value. Defaults to None.\n",
    "- doc (optional) - A string that contains the documentation (docstring) for the attribute. Defaults to None.\n"
   ]
  },
  {
   "cell_type": "code",
   "execution_count": null,
   "metadata": {},
   "outputs": [],
   "source": []
  },
  {
   "cell_type": "code",
   "execution_count": null,
   "metadata": {},
   "outputs": [],
   "source": []
  }
 ],
 "metadata": {
  "kernelspec": {
   "display_name": "Python 3 (ipykernel)",
   "language": "python",
   "name": "python3"
  },
  "language_info": {
   "codemirror_mode": {
    "name": "ipython",
    "version": 3
   },
   "file_extension": ".py",
   "mimetype": "text/x-python",
   "name": "python",
   "nbconvert_exporter": "python",
   "pygments_lexer": "ipython3",
   "version": "3.9.12"
  }
 },
 "nbformat": 4,
 "nbformat_minor": 4
}
