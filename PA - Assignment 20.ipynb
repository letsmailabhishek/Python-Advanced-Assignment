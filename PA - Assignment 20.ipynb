{
 "cells": [
  {
   "attachments": {},
   "cell_type": "markdown",
   "metadata": {},
   "source": [
    "Q1. Compare and contrast the float and Decimal classes&#39; benefits and drawbacks."
   ]
  },
  {
   "cell_type": "markdown",
   "metadata": {},
   "source": [
    "- Decimals can suffer from their own precision issues, but generally, decimals are more precise than floats. The performance difference between float and decimal, with Python 3, is not outlandish, and in my experience, the precision benefits of a decimal outweight the performance benefits of a float."
   ]
  },
  {
   "cell_type": "markdown",
   "metadata": {},
   "source": [
    "Use floats when convenience and speed matter. A float gives you an approximation of the number you declare. For example, if I print 0.1 with 18 decimals places, I don’t actually get 0.1 but instead an approximation."
   ]
  },
  {
   "cell_type": "code",
   "execution_count": 1,
   "metadata": {
    "execution": {
     "iopub.execute_input": "2022-01-26T12:23:44.997171Z",
     "iopub.status.busy": "2022-01-26T12:23:44.996931Z",
     "iopub.status.idle": "2022-01-26T12:23:45.021349Z",
     "shell.execute_reply": "2022-01-26T12:23:45.020609Z",
     "shell.execute_reply.started": "2022-01-26T12:23:44.997099Z"
    }
   },
   "outputs": [],
   "source": [
    "print(f\"{0.1:.18f}\")"
   ]
  },
  {
   "cell_type": "code",
   "execution_count": 2,
   "metadata": {
    "execution": {
     "iopub.execute_input": "2022-01-26T12:23:45.023351Z",
     "iopub.status.busy": "2022-01-26T12:23:45.022897Z",
     "iopub.status.idle": "2022-01-26T12:23:45.027894Z",
     "shell.execute_reply": "2022-01-26T12:23:45.027155Z",
     "shell.execute_reply.started": "2022-01-26T12:23:45.023316Z"
    }
   },
   "outputs": [],
   "source": [
    "from decimal import Decimal\n",
    "print(f\"{Decimal('0.1'):.18f}\")"
   ]
  },
  {
   "attachments": {},
   "cell_type": "markdown",
   "metadata": {},
   "source": [
    "Q2. Decimal(&#39;1.200&#39;) and Decimal(&#39;1.2&#39;) are two objects to consider. In what sense are these the same\n",
    "object? Are these just two ways of representing the exact same value, or do they correspond to\n",
    "different internal states?"
   ]
  },
  {
   "cell_type": "code",
   "execution_count": 3,
   "metadata": {
    "execution": {
     "iopub.execute_input": "2022-01-26T12:23:45.029988Z",
     "iopub.status.busy": "2022-01-26T12:23:45.029366Z",
     "iopub.status.idle": "2022-01-26T12:23:45.039604Z",
     "shell.execute_reply": "2022-01-26T12:23:45.038830Z",
     "shell.execute_reply.started": "2022-01-26T12:23:45.029951Z"
    }
   },
   "outputs": [],
   "source": [
    "from decimal import Decimal\n",
    "Decimal(\"1.200\")"
   ]
  },
  {
   "cell_type": "code",
   "execution_count": 4,
   "metadata": {
    "execution": {
     "iopub.execute_input": "2022-01-26T12:23:45.041210Z",
     "iopub.status.busy": "2022-01-26T12:23:45.040837Z",
     "iopub.status.idle": "2022-01-26T12:23:45.049615Z",
     "shell.execute_reply": "2022-01-26T12:23:45.048686Z",
     "shell.execute_reply.started": "2022-01-26T12:23:45.041103Z"
    }
   },
   "outputs": [],
   "source": [
    "Decimal(\"1.2\")"
   ]
  },
  {
   "cell_type": "code",
   "execution_count": 5,
   "metadata": {
    "execution": {
     "iopub.execute_input": "2022-01-26T12:23:45.052602Z",
     "iopub.status.busy": "2022-01-26T12:23:45.052332Z",
     "iopub.status.idle": "2022-01-26T12:23:45.059904Z",
     "shell.execute_reply": "2022-01-26T12:23:45.059092Z",
     "shell.execute_reply.started": "2022-01-26T12:23:45.052569Z"
    }
   },
   "outputs": [],
   "source": [
    "type(Decimal(\"1.200\")),type(Decimal(\"1.2\")) #they both have same datartype."
   ]
  },
  {
   "cell_type": "code",
   "execution_count": 6,
   "metadata": {
    "execution": {
     "iopub.execute_input": "2022-01-26T12:23:45.062304Z",
     "iopub.status.busy": "2022-01-26T12:23:45.062053Z",
     "iopub.status.idle": "2022-01-26T12:23:45.068628Z",
     "shell.execute_reply": "2022-01-26T12:23:45.067786Z",
     "shell.execute_reply.started": "2022-01-26T12:23:45.062261Z"
    }
   },
   "outputs": [],
   "source": [
    "Decimal(\"1.200\")==Decimal(\"1.2\") #Both are the same but representation was different."
   ]
  },
  {
   "attachments": {},
   "cell_type": "markdown",
   "metadata": {},
   "source": [
    "Q3. What happens if the equality of Decimal(&#39;1.200&#39;) and Decimal(&#39;1.2&#39;) is checked?"
   ]
  },
  {
   "cell_type": "code",
   "execution_count": 7,
   "metadata": {
    "execution": {
     "iopub.execute_input": "2022-01-26T12:23:45.070609Z",
     "iopub.status.busy": "2022-01-26T12:23:45.070110Z",
     "iopub.status.idle": "2022-01-26T12:23:45.077548Z",
     "shell.execute_reply": "2022-01-26T12:23:45.076820Z",
     "shell.execute_reply.started": "2022-01-26T12:23:45.070573Z"
    }
   },
   "outputs": [],
   "source": [
    "from decimal import Decimal\n",
    "Decimal(\"1.200\") == Decimal('1.2')"
   ]
  },
  {
   "attachments": {},
   "cell_type": "markdown",
   "metadata": {},
   "source": [
    "Q4. Why is it preferable to start a Decimal object with a string rather than a floating-point value?"
   ]
  },
  {
   "cell_type": "markdown",
   "metadata": {},
   "source": [
    "- The main reason to transfer numeric values in JSON as strings is to eliminate any loss of precision or ambiguity in transfer. It's true that the JSON spec does not specify a precision for numeric values. This does not mean that JSON numbers have infinite precision.\n",
    "- Float stores an approximate value and decimal stores an exact value. In summary, exact values like money should use decimal, and approximate values like scientific measurements should use float. \n",
    "- Floating point data type represent number values with fractional parts. Decimal accurately represent any number within the precision of the decimal format,"
   ]
  },
  {
   "attachments": {},
   "cell_type": "markdown",
   "metadata": {},
   "source": [
    "Q5. In an arithmetic phrase, how simple is it to combine Decimal objects with integers?"
   ]
  },
  {
   "cell_type": "markdown",
   "metadata": {},
   "source": [
    "- \n",
    "We can add, subtract, multiply, and divide decimal numbers. Addition and subtraction of decimal numbers works the same way as whole number addition and subtraction; we just need to make sure that we line up the decimal points."
   ]
  },
  {
   "cell_type": "code",
   "execution_count": 8,
   "metadata": {
    "execution": {
     "iopub.execute_input": "2022-01-26T12:23:45.079282Z",
     "iopub.status.busy": "2022-01-26T12:23:45.079041Z",
     "iopub.status.idle": "2022-01-26T12:23:45.086478Z",
     "shell.execute_reply": "2022-01-26T12:23:45.085750Z",
     "shell.execute_reply.started": "2022-01-26T12:23:45.079250Z"
    }
   },
   "outputs": [],
   "source": [
    "Decimal('9')+Decimal(\"1\")"
   ]
  },
  {
   "attachments": {},
   "cell_type": "markdown",
   "metadata": {},
   "source": [
    "Q6. Can Decimal objects and floating-point values be combined easily?"
   ]
  },
  {
   "cell_type": "code",
   "execution_count": 9,
   "metadata": {
    "execution": {
     "iopub.execute_input": "2022-01-26T12:23:45.088103Z",
     "iopub.status.busy": "2022-01-26T12:23:45.087853Z",
     "iopub.status.idle": "2022-01-26T12:23:45.157786Z",
     "shell.execute_reply": "2022-01-26T12:23:45.156224Z",
     "shell.execute_reply.started": "2022-01-26T12:23:45.088069Z"
    }
   },
   "outputs": [],
   "source": [
    "Decimal('9.00')+9.1675  #No its not"
   ]
  },
  {
   "attachments": {},
   "cell_type": "markdown",
   "metadata": {},
   "source": [
    "Q7. Using the Fraction class but not the Decimal class, give an example of a quantity that can be\n",
    "expressed with absolute precision."
   ]
  },
  {
   "cell_type": "markdown",
   "metadata": {},
   "source": [
    "- Decimal have their own hidden rounding that cause precision issues, and to eliminate the hidden routing, you need to use Python’s fractions module."
   ]
  },
  {
   "cell_type": "code",
   "execution_count": 11,
   "metadata": {
    "execution": {
     "iopub.execute_input": "2022-01-26T12:24:27.647675Z",
     "iopub.status.busy": "2022-01-26T12:24:27.647420Z",
     "iopub.status.idle": "2022-01-26T12:24:27.656467Z",
     "shell.execute_reply": "2022-01-26T12:24:27.655768Z",
     "shell.execute_reply.started": "2022-01-26T12:24:27.647645Z"
    }
   },
   "outputs": [],
   "source": [
    "from fractions import Fraction\n",
    "Fraction('1') / Fraction('3') * Fraction('3') == Fraction('1')"
   ]
  },
  {
   "attachments": {},
   "cell_type": "markdown",
   "metadata": {},
   "source": [
    "Q8. Describe a quantity that can be accurately expressed by the Decimal or Fraction classes but not by\n",
    "a floating-point value."
   ]
  },
  {
   "cell_type": "markdown",
   "metadata": {},
   "source": [
    "Float is a single precision (32 bit) floating point data type and decimal is a 128-bit floating point data type. ... Decimal accurately represent any number within the precision of the decimal format, whereas Float cannot accurately represent all numbers"
   ]
  },
  {
   "cell_type": "code",
   "execution_count": 12,
   "metadata": {
    "execution": {
     "iopub.execute_input": "2022-01-26T12:24:45.997221Z",
     "iopub.status.busy": "2022-01-26T12:24:45.996758Z",
     "iopub.status.idle": "2022-01-26T12:24:46.001951Z",
     "shell.execute_reply": "2022-01-26T12:24:46.000820Z",
     "shell.execute_reply.started": "2022-01-26T12:24:45.997186Z"
    }
   },
   "outputs": [],
   "source": [
    "from fractions import Fraction as frac\n",
    "print(frac('5/6'))"
   ]
  },
  {
   "cell_type": "code",
   "execution_count": 13,
   "metadata": {
    "execution": {
     "iopub.execute_input": "2022-01-26T12:24:49.536821Z",
     "iopub.status.busy": "2022-01-26T12:24:49.536288Z",
     "iopub.status.idle": "2022-01-26T12:24:49.542056Z",
     "shell.execute_reply": "2022-01-26T12:24:49.541293Z",
     "shell.execute_reply.started": "2022-01-26T12:24:49.536787Z"
    }
   },
   "outputs": [],
   "source": [
    "from decimal import Decimal\n",
    "Decimal('0.8333333333333334')"
   ]
  },
  {
   "attachments": {},
   "cell_type": "markdown",
   "metadata": {},
   "source": [
    "Q9.Consider the following two fraction objects: Fraction(1, 2) and Fraction(1, 2). (5, 10). Is the internal\n",
    "state of these two objects the same? Why do you think that is?"
   ]
  },
  {
   "cell_type": "code",
   "execution_count": 14,
   "metadata": {
    "execution": {
     "iopub.execute_input": "2022-01-26T12:24:54.004577Z",
     "iopub.status.busy": "2022-01-26T12:24:54.004324Z",
     "iopub.status.idle": "2022-01-26T12:24:54.010956Z",
     "shell.execute_reply": "2022-01-26T12:24:54.009292Z",
     "shell.execute_reply.started": "2022-01-26T12:24:54.004547Z"
    }
   },
   "outputs": [],
   "source": [
    "from fractions import Fraction\n",
    "Fraction(1,2)"
   ]
  },
  {
   "cell_type": "code",
   "execution_count": 15,
   "metadata": {
    "execution": {
     "iopub.execute_input": "2022-01-26T12:24:56.366638Z",
     "iopub.status.busy": "2022-01-26T12:24:56.366383Z",
     "iopub.status.idle": "2022-01-26T12:24:56.372513Z",
     "shell.execute_reply": "2022-01-26T12:24:56.371585Z",
     "shell.execute_reply.started": "2022-01-26T12:24:56.366607Z"
    }
   },
   "outputs": [],
   "source": [
    "Fraction(5,10)"
   ]
  },
  {
   "cell_type": "code",
   "execution_count": 16,
   "metadata": {
    "execution": {
     "iopub.execute_input": "2022-01-26T12:24:58.426864Z",
     "iopub.status.busy": "2022-01-26T12:24:58.426493Z",
     "iopub.status.idle": "2022-01-26T12:24:58.432855Z",
     "shell.execute_reply": "2022-01-26T12:24:58.432108Z",
     "shell.execute_reply.started": "2022-01-26T12:24:58.426824Z"
    }
   },
   "outputs": [],
   "source": [
    "Fraction(1,2)==Fraction(5,10) #yes their internal state of these two objects are same"
   ]
  },
  {
   "attachments": {},
   "cell_type": "markdown",
   "metadata": {},
   "source": [
    "Q10. How do the Fraction class and the integer type (int) relate to each other? Containment or\n",
    "inheritance?"
   ]
  },
  {
   "cell_type": "markdown",
   "metadata": {},
   "source": [
    "- From the below,we can say that Fraction is the class and inside that class we have an attribute"
   ]
  },
  {
   "cell_type": "code",
   "execution_count": 17,
   "metadata": {
    "execution": {
     "iopub.execute_input": "2022-01-26T12:25:00.953237Z",
     "iopub.status.busy": "2022-01-26T12:25:00.952669Z",
     "iopub.status.idle": "2022-01-26T12:25:00.958769Z",
     "shell.execute_reply": "2022-01-26T12:25:00.957893Z",
     "shell.execute_reply.started": "2022-01-26T12:25:00.953203Z"
    }
   },
   "outputs": [],
   "source": [
    "Fraction(5,10)"
   ]
  }
 ],
 "metadata": {
  "kernelspec": {
   "display_name": "Python 3 (ipykernel)",
   "language": "python",
   "name": "python3"
  },
  "language_info": {
   "codemirror_mode": {
    "name": "ipython",
    "version": 3
   },
   "file_extension": ".py",
   "mimetype": "text/x-python",
   "name": "python",
   "nbconvert_exporter": "python",
   "pygments_lexer": "ipython3",
   "version": "3.9.12"
  }
 },
 "nbformat": 4,
 "nbformat_minor": 4
}
