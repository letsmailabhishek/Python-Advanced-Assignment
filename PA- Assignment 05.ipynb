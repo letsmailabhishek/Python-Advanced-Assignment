{
 "cells": [
  {
   "attachments": {},
   "cell_type": "markdown",
   "metadata": {},
   "source": [
    "Q1. What is the meaning of multiple inheritance?"
   ]
  },
  {
   "cell_type": "markdown",
   "metadata": {},
   "source": [
    "- Inheritance is the mechanism to achieve the re-usability of code as one class(child class) can derive the properties of another class(parent class). It also provides transitivity.\n",
    "- If we have some methods in class A,Class B and Class C.\n",
    "- If C class has inherited the class A and Class B\n",
    "- Class B inherited the class A\n",
    "- So here in this case Class C is getting mutiple inheritance for class A and Class B.\n",
    "- In the Class C we can take the advantges all the methods inside class A and Class B."
   ]
  },
  {
   "cell_type": "code",
   "execution_count": 1,
   "metadata": {
    "execution": {
     "iopub.execute_input": "2022-01-14T11:15:48.690252Z",
     "iopub.status.busy": "2022-01-14T11:15:48.689988Z",
     "iopub.status.idle": "2022-01-14T11:15:48.720051Z",
     "shell.execute_reply": "2022-01-14T11:15:48.719220Z",
     "shell.execute_reply.started": "2022-01-14T11:15:48.690164Z"
    }
   },
   "outputs": [],
   "source": [
    "class A:\n",
    "    print(\"Hello\")\n",
    "class B(A):\n",
    "    print('Hi')\n",
    "class C(B,A):   #This is the multiple for the Class A and B\n",
    "    print(\"Bye\")\n",
    "\n",
    "obj = C()\n",
    "print(obj)"
   ]
  },
  {
   "attachments": {},
   "cell_type": "markdown",
   "metadata": {},
   "source": [
    "Q2. What is the concept of delegation?"
   ]
  },
  {
   "cell_type": "markdown",
   "metadata": {},
   "source": [
    "Delegation is an object oriented technique (also called a design pattern). Let's say you have an object x and want to change the behaviour of just one of its methods. You can create a new class that provides a new implementation of the method you're interested in changing and delegates all other methods to the corresponding method of x.\n",
    "\n",
    "Python programmers can easily implement delegation. For example, the following class implements a class that behaves like a file but converts all written data to uppercase:"
   ]
  },
  {
   "cell_type": "code",
   "execution_count": 2,
   "metadata": {
    "execution": {
     "iopub.execute_input": "2022-01-14T11:15:48.722093Z",
     "iopub.status.busy": "2022-01-14T11:15:48.721836Z",
     "iopub.status.idle": "2022-01-14T11:15:48.727717Z",
     "shell.execute_reply": "2022-01-14T11:15:48.726578Z",
     "shell.execute_reply.started": "2022-01-14T11:15:48.722058Z"
    }
   },
   "outputs": [],
   "source": [
    "class UpperOut:\n",
    "    def __init__(self, outfile):\n",
    "        self.__outfile = outfile\n",
    "    def write(self, s):\n",
    "        self.__outfile.write(s.upper())\n",
    "    def __getattr__(self, name):\n",
    "        return getattr(self.__outfile, name)"
   ]
  },
  {
   "cell_type": "markdown",
   "metadata": {},
   "source": [
    "- Here the UpperOut class redefines the `write()` method to convert the argument string to uppercase before calling the underlying `self.__outfile.write()` method. All other methods are delegated to the underlying `self.__outfile` object. \n",
    "- The delegation is accomplished via the `__getattr__` method; consult the language reference for more information about controlling attribute access.\n",
    "- Note that for more general cases delegation can get trickier. \n",
    "- When attributes must be set as well as retrieved, the class must define a `__settattr__` method too, and it must do so carefully. The basic implementation of `__setattr__` is roughly equivalent to the following."
   ]
  },
  {
   "cell_type": "code",
   "execution_count": 3,
   "metadata": {
    "execution": {
     "iopub.execute_input": "2022-01-14T11:15:48.729860Z",
     "iopub.status.busy": "2022-01-14T11:15:48.729255Z",
     "iopub.status.idle": "2022-01-14T11:15:48.741654Z",
     "shell.execute_reply": "2022-01-14T11:15:48.740859Z",
     "shell.execute_reply.started": "2022-01-14T11:15:48.729822Z"
    }
   },
   "outputs": [],
   "source": [
    "'''class X:\n",
    "...\n",
    "def __setattr__(self, name, value):\n",
    "self.__dict__[name] = value\n",
    "...\n",
    "\n",
    "Most __setattr__ implementations must modify self.__dict__ to store local state for self without causing an infinite recursion.'''\n"
   ]
  },
  {
   "attachments": {},
   "cell_type": "markdown",
   "metadata": {},
   "source": [
    "Q3. What is the concept of composition?"
   ]
  },
  {
   "cell_type": "markdown",
   "metadata": {},
   "source": [
    "Composite is a structural design pattern that allows composing objects into a tree-like structure and work with the it as if it was a singular object.\n",
    "Composite Method is a Structural Design Pattern which describes a group of objects that is treated the same way as a single instance of the same type of the objects. The purpose of the Composite Method is to Compose objects into Tree type structures to represent the whole-partial hierarchies.\n",
    "\n",
    "One of the main advantages of using the Composite Method is that first, it allows you to compose the objects into the Tree Structure and then work with these structures as an individual object or an entity.\n",
    "\n",
    "The operations you can perform on all the composite objects often have the least common denominator relationship."
   ]
  },
  {
   "attachments": {},
   "cell_type": "markdown",
   "metadata": {},
   "source": [
    "Q4. What are bound methods and how do we use them?"
   ]
  },
  {
   "cell_type": "markdown",
   "metadata": {},
   "source": [
    "A bound method is the one which is dependent on the instance of the class as the first argument. It passes the instance as the first argument which is used to access the variables and functions. In Python 3 and newer versions of python, all functions in the class are by default bound methods."
   ]
  },
  {
   "cell_type": "code",
   "execution_count": 4,
   "metadata": {
    "execution": {
     "iopub.execute_input": "2022-01-14T11:15:48.744074Z",
     "iopub.status.busy": "2022-01-14T11:15:48.743583Z",
     "iopub.status.idle": "2022-01-14T11:15:48.751877Z",
     "shell.execute_reply": "2022-01-14T11:15:48.751074Z",
     "shell.execute_reply.started": "2022-01-14T11:15:48.744037Z"
    }
   },
   "outputs": [],
   "source": [
    "# Python code to demonstrate\n",
    "# use of bound methods\n",
    "  \n",
    "class A:\n",
    "  \n",
    "    def func(self, arg):\n",
    "        self.arg = arg\n",
    "        print(\"Value of arg = \", arg)\n",
    "  \n",
    "  \n",
    "# Creating an instance.\n",
    "obj = A()  \n",
    "  \n",
    "# bound method\n",
    "print(obj.func) #Basically, that method is bound to the class."
   ]
  },
  {
   "attachments": {},
   "cell_type": "markdown",
   "metadata": {},
   "source": [
    "Q5. What is the purpose of pseudoprivate attributes?"
   ]
  },
  {
   "cell_type": "markdown",
   "metadata": {},
   "source": [
    "Pseudoprivate attributes are also useful in larger frameworks or tools, both to avoid introducing new method names that might accidentally hide definitions elsewhere in the class tree and to reduce the chance of internal methods being replaced by names defined lower in the tree."
   ]
  },
  {
   "cell_type": "code",
   "execution_count": 5,
   "metadata": {
    "execution": {
     "iopub.execute_input": "2022-01-14T11:15:48.754277Z",
     "iopub.status.busy": "2022-01-14T11:15:48.753388Z",
     "iopub.status.idle": "2022-01-14T11:15:48.761550Z",
     "shell.execute_reply": "2022-01-14T11:15:48.760769Z",
     "shell.execute_reply.started": "2022-01-14T11:15:48.754205Z"
    }
   },
   "outputs": [],
   "source": [
    "class Info:\n",
    "    def __init__(self):\n",
    "        self.__name = 'jay'\n",
    "    def __say(self):\n",
    "        print(self.__name)\n",
    "\n",
    "#interview method:\n",
    "a = Info()\n",
    "\n",
    "print(a._Info__name)  # 'jay'\n",
    "print(a._Info__say()) # 'jay'"
   ]
  },
  {
   "cell_type": "code",
   "execution_count": 6,
   "metadata": {
    "execution": {
     "iopub.execute_input": "2022-01-14T11:15:48.763755Z",
     "iopub.status.busy": "2022-01-14T11:15:48.763105Z",
     "iopub.status.idle": "2022-01-14T11:15:48.770672Z",
     "shell.execute_reply": "2022-01-14T11:15:48.769856Z",
     "shell.execute_reply.started": "2022-01-14T11:15:48.763692Z"
    }
   },
   "outputs": [],
   "source": [
    "### Get the attributes and methods of the class\n",
    "#  Get all attributes of the class\n",
    "print(a.__dict__)\n",
    "\n",
    "#  Get all the attributes and methods of the class\n",
    "print(dir(a))"
   ]
  },
  {
   "cell_type": "markdown",
   "metadata": {},
   "source": [
    "Other languages, such as JAVA and C++'s oop syntax are relatively standardized, with public, private and protected data types. In the case of python, from my current observations, python classes have no permission control, and all variables are It can be called externally, then you would say: \"Python clearly has a private definition method that is to add a double underscore __ in front of the variable or method, but I tell you, this is actually python's pseudo-private. Just It is a kind of stipulation that programmers agree with the common name. If you add it, it means a private variable, but if you want to call it externally, you can still call it.\n",
    "\n",
    "- Private variable: instance._class name__variable name\n",
    "- Private method: instance._class name__method name()"
   ]
  }
 ],
 "metadata": {
  "kernelspec": {
   "display_name": "Python 3 (ipykernel)",
   "language": "python",
   "name": "python3"
  },
  "language_info": {
   "codemirror_mode": {
    "name": "ipython",
    "version": 3
   },
   "file_extension": ".py",
   "mimetype": "text/x-python",
   "name": "python",
   "nbconvert_exporter": "python",
   "pygments_lexer": "ipython3",
   "version": "3.9.12"
  }
 },
 "nbformat": 4,
 "nbformat_minor": 4
}
