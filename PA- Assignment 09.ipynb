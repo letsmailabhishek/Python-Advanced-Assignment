{
 "cells": [
  {
   "attachments": {},
   "cell_type": "markdown",
   "metadata": {},
   "source": [
    "Q1. In Python 3.X, what are the names and functions of string object types?"
   ]
  },
  {
   "cell_type": "code",
   "execution_count": null,
   "metadata": {
    "execution": {
     "iopub.execute_input": "2022-01-15T06:59:05.686790Z",
     "iopub.status.busy": "2022-01-15T06:59:05.686466Z",
     "iopub.status.idle": "2022-01-15T06:59:05.717520Z",
     "shell.execute_reply": "2022-01-15T06:59:05.715921Z",
     "shell.execute_reply.started": "2022-01-15T06:59:05.686753Z"
    }
   },
   "outputs": [],
   "source": [
    "help(str)"
   ]
  },
  {
   "attachments": {},
   "cell_type": "markdown",
   "metadata": {},
   "source": [
    "Q2. How do the string forms in Python 3.X vary in terms of operations?"
   ]
  },
  {
   "cell_type": "markdown",
   "metadata": {},
   "source": [
    "There are two form of string form\n",
    "- str()\n",
    "- \"This is also the string.\" `&` 'This is also.'"
   ]
  },
  {
   "cell_type": "code",
   "execution_count": 3,
   "metadata": {
    "execution": {
     "iopub.execute_input": "2022-01-15T06:59:05.720385Z",
     "iopub.status.busy": "2022-01-15T06:59:05.719797Z",
     "iopub.status.idle": "2022-01-15T06:59:05.727047Z",
     "shell.execute_reply": "2022-01-15T06:59:05.726350Z",
     "shell.execute_reply.started": "2022-01-15T06:59:05.720335Z"
    }
   },
   "outputs": [
    {
     "data": {
      "text/plain": [
       "'1234'"
      ]
     },
     "execution_count": 3,
     "metadata": {},
     "output_type": "execute_result"
    }
   ],
   "source": [
    "str(1234) #string form"
   ]
  },
  {
   "cell_type": "code",
   "execution_count": 2,
   "metadata": {
    "execution": {
     "iopub.execute_input": "2022-01-15T06:59:05.729672Z",
     "iopub.status.busy": "2022-01-15T06:59:05.729414Z",
     "iopub.status.idle": "2022-01-15T06:59:05.740662Z",
     "shell.execute_reply": "2022-01-15T06:59:05.740062Z",
     "shell.execute_reply.started": "2022-01-15T06:59:05.729640Z"
    }
   },
   "outputs": [
    {
     "data": {
      "text/plain": [
       "'tOSHJJHS'"
      ]
     },
     "execution_count": 2,
     "metadata": {},
     "output_type": "execute_result"
    }
   ],
   "source": [
    "\"tOSHJJ\"+'HS' #STRING FORM"
   ]
  },
  {
   "attachments": {},
   "cell_type": "markdown",
   "metadata": {},
   "source": [
    "Q3. In 3.X, how do you put non-ASCII Unicode characters in a string?"
   ]
  },
  {
   "cell_type": "code",
   "execution_count": 1,
   "metadata": {
    "execution": {
     "iopub.execute_input": "2022-01-15T06:59:05.744322Z",
     "iopub.status.busy": "2022-01-15T06:59:05.743770Z",
     "iopub.status.idle": "2022-01-15T06:59:05.754410Z",
     "shell.execute_reply": "2022-01-15T06:59:05.753650Z",
     "shell.execute_reply.started": "2022-01-15T06:59:05.744288Z"
    }
   },
   "outputs": [
    {
     "data": {
      "text/plain": [
       "'hello aåbäcö'"
      ]
     },
     "execution_count": 1,
     "metadata": {},
     "output_type": "execute_result"
    }
   ],
   "source": [
    "unicode_string = u\"hello aåbäcö\"\n",
    "unicode_string.encode(\"ascii\", \"ignore\")\n",
    "unicode_string"
   ]
  },
  {
   "cell_type": "code",
   "execution_count": 5,
   "metadata": {
    "execution": {
     "iopub.execute_input": "2022-01-15T06:59:05.757148Z",
     "iopub.status.busy": "2022-01-15T06:59:05.756180Z",
     "iopub.status.idle": "2022-01-15T06:59:05.764851Z",
     "shell.execute_reply": "2022-01-15T06:59:05.764179Z",
     "shell.execute_reply.started": "2022-01-15T06:59:05.757106Z"
    }
   },
   "outputs": [
    {
     "name": "stdout",
     "output_type": "stream",
     "text": [
      "hello abc\n"
     ]
    }
   ],
   "source": [
    "#using the regex\n",
    "import re\n",
    "strip_unicode = re.compile(\"([^-_a-zA-Z0-9!@#%&=,/'\\\";:~`\\$\\^\\*\\(\\)\\+\\[\\]\\.\\{\\}\\|\\?\\<\\>\\\\]+|[^\\s]+)\")\n",
    "print(strip_unicode.sub('', unicode_string))"
   ]
  },
  {
   "cell_type": "code",
   "execution_count": 6,
   "metadata": {
    "execution": {
     "iopub.execute_input": "2022-01-15T07:02:43.166647Z",
     "iopub.status.busy": "2022-01-15T07:02:43.166371Z",
     "iopub.status.idle": "2022-01-15T07:02:43.171757Z",
     "shell.execute_reply": "2022-01-15T07:02:43.171212Z",
     "shell.execute_reply.started": "2022-01-15T07:02:43.166618Z"
    }
   },
   "outputs": [
    {
     "name": "stdout",
     "output_type": "stream",
     "text": [
      "6 918 417 712\n"
     ]
    }
   ],
   "source": [
    "s = u\"6Â 918Â 417Â 712\"\n",
    "s = s.replace(u\"Â\", \"\") \n",
    "print(s)"
   ]
  },
  {
   "attachments": {},
   "cell_type": "markdown",
   "metadata": {},
   "source": [
    "Q4. In Python 3.X, what are the key differences between text-mode and binary-mode files?"
   ]
  },
  {
   "cell_type": "markdown",
   "metadata": {},
   "source": [
    "- We have already operated on a lot of text files and a few binary files. The major difference between these two is that a text file contains textual information in the form of alphabets, digits and special characters or symbols. On the other hand, a binary file contains bytes or a compiled version of a text file.\n",
    "- A text file stores data in the form of alphabets, digits and other special symbols by storing their ASCII values and are in a human readable format. For example, any file with a .txt, .c, etc extension. Whereas, a binary file contains a sequence or a collection of bytes which are not in a human readable format. For example, files with .exe, .mp3, etc extension. It represents custom data.\n",
    "- A small error in a textual file can be recognized and eliminated when seen. Whereas, a small error in a binary file corrupts the file and is not easy to detect.\n",
    "- Since the data is not human readable it also adds to the security of the content as one might not be able to get data if the structure is not known.\n",
    "- Now, when it comes to programming there are three major differences between the two, i.e., Handling of newlines, storage of numbers and representation of EOF(End of File). Let’s look into these differences in detail:\n",
    "\n",
    "- Newline is the end of the line or line ending or line break. It is usually a special character which signifies the end of the line. A newline character in a text file is first converted into a carriage return-linefeed combination and then written to the disk. Similarly, when read by a text file the carriage return-linefeed combination is converted into a newline. However, in a binary file, no such conversions take place.\n",
    "\n",
    "- if we have a lot of numerical data then using a text file will not be very memory efficient( but still the syntax used depends on our usage i.e. if we have uses in which a human has to read the file then we can never choose the binary type).\n",
    "\n",
    "- This problem can be solved by using binary files. We should open the file in binary mode(using “wb” or “rb” for write and read mode respectively). The, using the function fread() or fwrite() we can easily store the data in the binary form which shall use only 4 bytes for storing the integer data.\n",
    "\n",
    "- Another way the text mode and the binary mode can be distinguished is on the basis of the representation of the end-of-file(EOF). In the text mode, a special character with the ASCII code 26 is inserted at the end of the file. This character when encountered returns the EOF signal to the program.\n",
    "\n",
    "- This is not the case in binary mode. In the binary mode, we do not have any special character to signify the EOF. It keeps track with the help of the number of characters present in the directory entry of the file."
   ]
  },
  {
   "attachments": {},
   "cell_type": "markdown",
   "metadata": {},
   "source": [
    "Q5. How can you interpret a Unicode text file containing text encoded in a different encoding than\n",
    "your platform&#39;s default?"
   ]
  },
  {
   "cell_type": "markdown",
   "metadata": {},
   "source": [
    "- There are tens if not hundreds of character encodings. The best way to start understanding what they are is to cover one of the simplest character encodings, ASCII.\n",
    "- At a very high level, it’s a way of translating characters (such as letters, punctuation, symbols, whitespace, and control characters) to integers and ultimately to bits. Each character can be encoded to a unique sequence of bits. \n",
    "- Code Point Range   Class\n",
    "- 0 through 31  :- Control/non-printable characters\n",
    "- 32 through 64  :- Punctuation, symbols, numbers, and space\n",
    "- 65 through 90 :- Uppercase English alphabet letters\n",
    "- 91 through 96 :- Additional graphemes, such as [ and \\\n",
    "- 97 through 122 :- Lowercase English alphabet letters\n",
    "- 123 through 126 :- Additional graphemes, such as { and |\n",
    "- 127 :- Control/non-printable character (DEL)"
   ]
  },
  {
   "cell_type": "code",
   "execution_count": 7,
   "metadata": {
    "execution": {
     "iopub.execute_input": "2022-01-15T07:24:42.060870Z",
     "iopub.status.busy": "2022-01-15T07:24:42.060323Z",
     "iopub.status.idle": "2022-01-15T07:24:42.065727Z",
     "shell.execute_reply": "2022-01-15T07:24:42.065199Z",
     "shell.execute_reply.started": "2022-01-15T07:24:42.060837Z"
    }
   },
   "outputs": [
    {
     "data": {
      "text/plain": [
       "b'Abhishek'"
      ]
     },
     "execution_count": 7,
     "metadata": {},
     "output_type": "execute_result"
    }
   ],
   "source": [
    "\"Abhishek\".encode(\"utf-8\")"
   ]
  },
  {
   "cell_type": "code",
   "execution_count": 8,
   "metadata": {
    "execution": {
     "iopub.execute_input": "2022-01-15T07:31:36.259734Z",
     "iopub.status.busy": "2022-01-15T07:31:36.259445Z",
     "iopub.status.idle": "2022-01-15T07:31:36.265507Z",
     "shell.execute_reply": "2022-01-15T07:31:36.264676Z",
     "shell.execute_reply.started": "2022-01-15T07:31:36.259703Z"
    }
   },
   "outputs": [
    {
     "data": {
      "text/plain": [
       "b'\\xff\\xfeA\\x00b\\x00h\\x00i\\x00s\\x00h\\x00e\\x00k\\x00'"
      ]
     },
     "execution_count": 8,
     "metadata": {},
     "output_type": "execute_result"
    }
   ],
   "source": [
    "file=\"Abhishek\".encode(\"utf-16\")#convert into unseen format\n",
    "file"
   ]
  },
  {
   "cell_type": "code",
   "execution_count": 9,
   "metadata": {
    "execution": {
     "iopub.execute_input": "2022-01-15T07:32:41.785107Z",
     "iopub.status.busy": "2022-01-15T07:32:41.784662Z",
     "iopub.status.idle": "2022-01-15T07:32:41.790298Z",
     "shell.execute_reply": "2022-01-15T07:32:41.789732Z",
     "shell.execute_reply.started": "2022-01-15T07:32:41.785061Z"
    }
   },
   "outputs": [
    {
     "data": {
      "text/plain": [
       "'Abhishek'"
      ]
     },
     "execution_count": 9,
     "metadata": {},
     "output_type": "execute_result"
    }
   ],
   "source": [
    "file.decode(encoding='utf-16')#then convert into seen format."
   ]
  },
  {
   "attachments": {},
   "cell_type": "markdown",
   "metadata": {},
   "source": [
    "Q6. What is the best way to make a Unicode text file in a particular encoding format?"
   ]
  },
  {
   "cell_type": "code",
   "execution_count": 10,
   "metadata": {
    "execution": {
     "iopub.execute_input": "2022-01-15T08:34:35.670176Z",
     "iopub.status.busy": "2022-01-15T08:34:35.669884Z",
     "iopub.status.idle": "2022-01-15T08:34:35.677489Z",
     "shell.execute_reply": "2022-01-15T08:34:35.676855Z",
     "shell.execute_reply.started": "2022-01-15T08:34:35.670144Z"
    }
   },
   "outputs": [
    {
     "data": {
      "text/plain": [
       "29"
      ]
     },
     "execution_count": 10,
     "metadata": {},
     "output_type": "execute_result"
    }
   ],
   "source": [
    "inf = open(\"infile.txt\",mode='w')\n",
    "inf.write('Please give me some sunshine.')"
   ]
  },
  {
   "cell_type": "code",
   "execution_count": 13,
   "metadata": {
    "execution": {
     "iopub.execute_input": "2022-01-15T08:37:23.600585Z",
     "iopub.status.busy": "2022-01-15T08:37:23.600312Z",
     "iopub.status.idle": "2022-01-15T08:37:23.605155Z",
     "shell.execute_reply": "2022-01-15T08:37:23.604328Z",
     "shell.execute_reply.started": "2022-01-15T08:37:23.600554Z"
    }
   },
   "outputs": [],
   "source": [
    "inf = open(\"infile.txt\",mode='r')\n",
    "data = inf.read().encode(\"latin1\")\n",
    "inf.close()"
   ]
  },
  {
   "attachments": {},
   "cell_type": "markdown",
   "metadata": {},
   "source": [
    "Q7. What qualifies ASCII text as a form of Unicode text?"
   ]
  },
  {
   "cell_type": "markdown",
   "metadata": {},
   "source": [
    "- For backward compatibility, the first 128 Unicode characters point to ASCII characters. And since UTF-8 encodes each of those characters using 1-byte. \n",
    "- ASCII is essentially just UTF-8, or we can say that ASCII is a subset of Unicode.\n",
    "-  Both Unicode and ASCII are the standards for text encoding, and they hold the utmost significance in modern communications. Both have their advantages and disadvantages, but a more universal solution for encoding will always facilitate and create ease in communication in the future.\n",
    "\n",
    "- Unicode provides a unique way to define every character in every spoken language of the world by assigning it a unique number. The Unicode standard is maintained by the Unicode Consortium and defines more than 1,40,000 characters from more than 150 modern and historic scripts along with emoji.\n",
    "\n",
    "- \n",
    "Unicode can be defined with different character encoding like UTF-8, UTF-16, UTF-32, etc. Among these UTF-8 is the most popular as it used in over 90% of websites on the World Wide Web as well as on most modern Operating systems like Windows."
   ]
  },
  {
   "attachments": {},
   "cell_type": "markdown",
   "metadata": {},
   "source": [
    "Q8. How much of an effect does the change in string types in Python 3.X have on your code?"
   ]
  },
  {
   "cell_type": "markdown",
   "metadata": {},
   "source": [
    "In Python, Strings are arrays of bytes representing Unicode characters. A string is a collection of one or more characters put in a single quote, double-quote or triple quote. In python there is no character data type, a character is a string of length one. It is represented by str class."
   ]
  },
  {
   "cell_type": "code",
   "execution_count": 12,
   "metadata": {
    "execution": {
     "iopub.execute_input": "2022-01-15T08:51:50.611770Z",
     "iopub.status.busy": "2022-01-15T08:51:50.611400Z",
     "iopub.status.idle": "2022-01-15T08:51:50.621570Z",
     "shell.execute_reply": "2022-01-15T08:51:50.620635Z",
     "shell.execute_reply.started": "2022-01-15T08:51:50.611740Z"
    }
   },
   "outputs": [
    {
     "name": "stdout",
     "output_type": "stream",
     "text": [
      "String with the use of Single Quotes: \n",
      "Welcome to the Geeks World\n",
      "\n",
      "String with the use of Double Quotes: \n",
      "I'm a Geek\n",
      "<class 'str'>\n",
      "\n",
      "String with the use of Triple Quotes: \n",
      "I'm a Geek and I live in a world of \"Geeks\"\n",
      "<class 'str'>\n",
      "\n",
      "Creating a multiline String: \n",
      "Geeks\n",
      "\t\t\tFor\n",
      "\t\t\tLife\n"
     ]
    }
   ],
   "source": [
    "# Python Program for\n",
    "# Creation of String\n",
    "\t\n",
    "# Creating a String\n",
    "# with single Quotes\n",
    "String1 = 'Welcome to the Geeks World'\n",
    "print(\"String with the use of Single Quotes: \")\n",
    "print(String1)\n",
    "\t\n",
    "# Creating a String\n",
    "# with double Quotes\n",
    "String1 = \"I'm a Geek\"\n",
    "print(\"\\nString with the use of Double Quotes: \")\n",
    "print(String1)\n",
    "print(type(String1))\n",
    "\t\n",
    "# Creating a String\n",
    "# with triple Quotes\n",
    "String1 = '''I'm a Geek and I live in a world of \"Geeks\"'''\n",
    "print(\"\\nString with the use of Triple Quotes: \")\n",
    "print(String1)\n",
    "print(type(String1))\n",
    "\n",
    "# Creating String with triple\n",
    "# Quotes allows multiple lines\n",
    "String1 = '''Geeks\n",
    "\t\t\tFor\n",
    "\t\t\tLife'''\n",
    "print(\"\\nCreating a multiline String: \")\n",
    "print(String1)\n"
   ]
  },
  {
   "cell_type": "code",
   "execution_count": null,
   "metadata": {},
   "outputs": [],
   "source": []
  }
 ],
 "metadata": {
  "kernelspec": {
   "display_name": "Python 3 (ipykernel)",
   "language": "python",
   "name": "python3"
  },
  "language_info": {
   "codemirror_mode": {
    "name": "ipython",
    "version": 3
   },
   "file_extension": ".py",
   "mimetype": "text/x-python",
   "name": "python",
   "nbconvert_exporter": "python",
   "pygments_lexer": "ipython3",
   "version": "3.9.12"
  }
 },
 "nbformat": 4,
 "nbformat_minor": 4
}
