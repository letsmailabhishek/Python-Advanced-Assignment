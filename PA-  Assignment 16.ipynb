{
 "cells": [
  {
   "attachments": {},
   "cell_type": "markdown",
   "metadata": {},
   "source": [
    "Q1. What is the benefit of regular expressions?"
   ]
  },
  {
   "cell_type": "code",
   "execution_count": null,
   "metadata": {},
   "outputs": [],
   "source": [
    "- The regular Expression is going help us to extract sub set of string or defined pattern of the string.\n",
    "- It will save our time\n",
    "- Making structured kind information we can get the unstructure data."
   ]
  },
  {
   "attachments": {},
   "cell_type": "markdown",
   "metadata": {},
   "source": [
    "Q2. Describe the difference between the effects of &quot;(ab)c+&quot; and &quot;a(bc)+.&quot; Which of these, if any, is the\n",
    "unqualified pattern &quot;abc+&quot;?"
   ]
  },
  {
   "cell_type": "markdown",
   "metadata": {},
   "source": [
    "- In the regular expression,`+` is used to consider repeated sub-string.\n",
    "- first expample that is `(ab)c+` is going to give us repetation is c where ab will constant.\n",
    "- But in the second the a is constant bc will get repeate.\n",
    "- In first case or example `abc+` is qualified pattern."
   ]
  },
  {
   "cell_type": "code",
   "execution_count": 7,
   "metadata": {
    "execution": {
     "iopub.execute_input": "2022-01-16T12:36:44.658145Z",
     "iopub.status.busy": "2022-01-16T12:36:44.657184Z",
     "iopub.status.idle": "2022-01-16T12:36:44.664503Z",
     "shell.execute_reply": "2022-01-16T12:36:44.663549Z",
     "shell.execute_reply.started": "2022-01-16T12:36:44.658084Z"
    }
   },
   "outputs": [],
   "source": [
    "string = 'abccabcchssjabcccabcccddaaakkcccdddklmmmnnaacccdddeel'\n",
    "import re\n",
    "pattern = re.compile(r\"(ab)c+\")\n",
    "obj=re.match(pattern,string)\n",
    "print(obj.group())"
   ]
  },
  {
   "cell_type": "code",
   "execution_count": 8,
   "metadata": {
    "execution": {
     "iopub.execute_input": "2022-01-16T12:37:13.138316Z",
     "iopub.status.busy": "2022-01-16T12:37:13.137339Z",
     "iopub.status.idle": "2022-01-16T12:37:13.144255Z",
     "shell.execute_reply": "2022-01-16T12:37:13.143264Z",
     "shell.execute_reply.started": "2022-01-16T12:37:13.138234Z"
    }
   },
   "outputs": [],
   "source": [
    "string = 'abccabcchssjabcccab'\n",
    "import re\n",
    "pattern = re.compile(r\"a(bc)+\")\n",
    "obj=re.match(pattern,string)\n",
    "print(obj.group())"
   ]
  },
  {
   "attachments": {},
   "cell_type": "markdown",
   "metadata": {},
   "source": [
    "Q3. How much do you need to use the following sentence while using regular expressions?\n",
    "\n",
    "import re"
   ]
  },
  {
   "cell_type": "code",
   "execution_count": 9,
   "metadata": {
    "execution": {
     "iopub.execute_input": "2022-01-16T12:43:18.132292Z",
     "iopub.status.busy": "2022-01-16T12:43:18.132050Z",
     "iopub.status.idle": "2022-01-16T12:43:18.138312Z",
     "shell.execute_reply": "2022-01-16T12:43:18.137347Z",
     "shell.execute_reply.started": "2022-01-16T12:43:18.132267Z"
    }
   },
   "outputs": [],
   "source": [
    "string = 'abccabcchssjabcccab'\n",
    "import re\n",
    "pattern = re.compile(r\"a(bc)+\")\n",
    "obj=re.match(pattern,string)\n",
    "print(obj.group())"
   ]
  },
  {
   "attachments": {},
   "cell_type": "markdown",
   "metadata": {},
   "source": [
    "Q4. Which characters have special significance in square brackets when expressing a range, and\n",
    "under what circumstances?"
   ]
  },
  {
   "cell_type": "markdown",
   "metadata": {},
   "source": [
    "- Square Brackets `([])` represents a character class consisting of a set of characters that we wish to match. For example, the character class `[abc]` will match any single `a, b, or c`. \n",
    "- We cal also specify a range of characters using – inside the square brackets. For example, "
   ]
  },
  {
   "cell_type": "markdown",
   "metadata": {},
   "source": [
    "- `[0, 3]` is sample as `[0123]`\n",
    "- `[a-c]` is same as `[abc]`"
   ]
  },
  {
   "cell_type": "markdown",
   "metadata": {},
   "source": [
    "**^ – Caret**\n",
    "\n",
    "- `Caret (^)` symbol matches the beginning of the string i.e. checks whether the string starts with the given character(s) or not. For example –  \n",
    "\n",
    "- `^g` will check if the string starts with `g` such as geeks, globe, girl, g, etc.\n",
    "- `^ge` will check if the string starts with `ge` such as geeks, geeksforgeeks, etc."
   ]
  },
  {
   "cell_type": "markdown",
   "metadata": {},
   "source": [
    "**$ – Dollar**\n",
    "\n",
    "- `Dollar($)` symbol matches the end of the string i.e checks whether the string ends with the given character(s) or not. For example – \n",
    "\n",
    "- `s$` will check for the string that ends with `s` a such as geeks, ends, s, etc.\n",
    "- `ks$` will check for the string that ends with `ks` such as geeks, geeksforgeeks, ks, etc"
   ]
  },
  {
   "cell_type": "markdown",
   "metadata": {},
   "source": [
    "**. – Dot**\n",
    "\n",
    "- Dot(.) symbol matches only a single character except for the newline character (\\n). For example –  \n",
    "\n",
    "- a.b will check for the string that contains any character at the place of the dot such as acb, acbd, abbb, etc\n",
    ".. will check if the string contains at least 2 characters"
   ]
  },
  {
   "cell_type": "markdown",
   "metadata": {},
   "source": [
    "**| – Or**\n",
    "\n",
    "- Or symbol works as the or operator meaning it checks whether the pattern before or after the or symbol is present in the string or not. For example –  \n",
    "\n",
    "- a|b will match any string that contains a or b such as acd, bcd, abcd, etc."
   ]
  },
  {
   "cell_type": "markdown",
   "metadata": {},
   "source": [
    "**`* – Star`**\n",
    "- Star (*) symbol matches zero or more occurrences of the regex preceding the * symbol. For example –  \n",
    "\n",
    "- ab*c will be matched for the string ac, abc, abbbc, dabc, etc. but will not be matched for abdc because b is not followed by c."
   ]
  },
  {
   "cell_type": "markdown",
   "metadata": {},
   "source": [
    "**+ – Plus**\n",
    "\n",
    "- Plus (+) symbol matches one or more occurrences of the regex preceding the + symbol. For example –  \n",
    "\n",
    "- ab+c will be matched for the string abc, abbc, dabc, but will not be matched for ac, abdc because there is no b in ac and b is not followed by c in abdc."
   ]
  },
  {
   "attachments": {},
   "cell_type": "markdown",
   "metadata": {},
   "source": [
    "Q5. How does compiling a regular-expression object benefit you?"
   ]
  },
  {
   "cell_type": "markdown",
   "metadata": {},
   "source": [
    "We can combine a regular expression pattern into pattern objects, which can be used for pattern matching. It also helps to search a pattern again without rewriting it."
   ]
  },
  {
   "cell_type": "code",
   "execution_count": 10,
   "metadata": {
    "execution": {
     "iopub.execute_input": "2022-01-16T13:02:12.067880Z",
     "iopub.status.busy": "2022-01-16T13:02:12.067608Z",
     "iopub.status.idle": "2022-01-16T13:02:12.074081Z",
     "shell.execute_reply": "2022-01-16T13:02:12.072991Z",
     "shell.execute_reply.started": "2022-01-16T13:02:12.067855Z"
    }
   },
   "outputs": [],
   "source": [
    "string = 'abccabcchssjabcccab'\n",
    "import re\n",
    "pattern = re.compile(r\"a(bc)+\")\n",
    "obj=re.match(pattern,string)\n",
    "print(obj.group())"
   ]
  },
  {
   "attachments": {},
   "cell_type": "markdown",
   "metadata": {},
   "source": [
    "Q6. What are some examples of how to use the match object returned by re.match and re.search?"
   ]
  },
  {
   "cell_type": "markdown",
   "metadata": {},
   "source": [
    "- `re.match()` searches only from the beginning of the string and return match object if found.\n",
    "- While `re.search()` searches for the whole string even if the string contains multi-lines and tries to find a match of the substring in all the lines of string"
   ]
  },
  {
   "cell_type": "code",
   "execution_count": 33,
   "metadata": {
    "execution": {
     "iopub.execute_input": "2022-01-16T13:14:37.302541Z",
     "iopub.status.busy": "2022-01-16T13:14:37.302162Z",
     "iopub.status.idle": "2022-01-16T13:14:37.307720Z",
     "shell.execute_reply": "2022-01-16T13:14:37.306973Z",
     "shell.execute_reply.started": "2022-01-16T13:14:37.302512Z"
    }
   },
   "outputs": [],
   "source": [
    "string1 = 'abccabcchssjabc7781929AABBHAccab'\n",
    "import re\n",
    "pattern = re.match(r\"abc+\",string1)\n",
    "pattern"
   ]
  },
  {
   "cell_type": "code",
   "execution_count": 36,
   "metadata": {
    "execution": {
     "iopub.execute_input": "2022-01-16T13:24:54.244096Z",
     "iopub.status.busy": "2022-01-16T13:24:54.243245Z",
     "iopub.status.idle": "2022-01-16T13:24:54.250051Z",
     "shell.execute_reply": "2022-01-16T13:24:54.249166Z",
     "shell.execute_reply.started": "2022-01-16T13:24:54.244019Z"
    }
   },
   "outputs": [],
   "source": [
    "string1 = 'abccabcchssjabc7781929AABBHAccab'\n",
    "import re\n",
    "pattern = re.search(r\"ABBHA+\",string1)\n",
    "pattern"
   ]
  },
  {
   "attachments": {},
   "cell_type": "markdown",
   "metadata": {},
   "source": [
    "Q7. What is the difference between using a vertical bar (|) as an alteration and using square brackets\n",
    "as a character set?"
   ]
  },
  {
   "cell_type": "markdown",
   "metadata": {},
   "source": [
    "Or symbol works as the or operator meaning it checks whether the pattern before or after the or symbol is present in the string or not. For example –  \n",
    "\n",
    "- a|b will match any string that contains a or b such as acd, bcd, abcd, etc."
   ]
  },
  {
   "cell_type": "code",
   "execution_count": 37,
   "metadata": {
    "execution": {
     "iopub.execute_input": "2022-01-16T13:26:33.299111Z",
     "iopub.status.busy": "2022-01-16T13:26:33.298826Z",
     "iopub.status.idle": "2022-01-16T13:26:33.306009Z",
     "shell.execute_reply": "2022-01-16T13:26:33.305285Z",
     "shell.execute_reply.started": "2022-01-16T13:26:33.299082Z"
    }
   },
   "outputs": [],
   "source": [
    "string1 = 'abccabcchssjabc7781929AABBHAccab'\n",
    "import re\n",
    "pattern = re.search(r\"[A|B]+\",string1)\n",
    "pattern"
   ]
  },
  {
   "attachments": {},
   "cell_type": "markdown",
   "metadata": {},
   "source": [
    "Q8. In regular-expression search patterns, why is it necessary to use the raw-string indicator (r)? In  \n",
    "replacement strings?"
   ]
  },
  {
   "cell_type": "markdown",
   "metadata": {},
   "source": [
    "- because raw string does not help to execute `\\t ,\\n and backslash` in the pattern string "
   ]
  }
 ],
 "metadata": {
  "kernelspec": {
   "display_name": "Python 3 (ipykernel)",
   "language": "python",
   "name": "python3"
  },
  "language_info": {
   "codemirror_mode": {
    "name": "ipython",
    "version": 3
   },
   "file_extension": ".py",
   "mimetype": "text/x-python",
   "name": "python",
   "nbconvert_exporter": "python",
   "pygments_lexer": "ipython3",
   "version": "3.9.12"
  }
 },
 "nbformat": 4,
 "nbformat_minor": 4
}
