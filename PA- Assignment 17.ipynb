{
 "cells": [
  {
   "attachments": {},
   "cell_type": "markdown",
   "metadata": {},
   "source": [
    "Q1. Explain the difference between greedy and non-greedy syntax with visual terms in as few words\n",
    "as possible. What is the bare minimum effort required to transform a greedy pattern into a non-greedy\n",
    "one? What characters or characters can you introduce or change?"
   ]
  },
  {
   "cell_type": "markdown",
   "metadata": {},
   "source": [
    "- The greedy match will try to match as many repetitions of the quantified pattern as possible. The non-greedy match will try to match as few repetitions of the quantified pattern as possible.\n",
    "- A greedy match means that the regex engine (the one which tries to find your pattern in the string) matches as many characters as possible.\n",
    "- In other words, the greedy quantifiers give you the longest match from a given position in the string.\n",
    "- As it turns out, all default quantifiers `?, *, +, {m}, and {m,n}` you’ve learned above are greedy: they “consume” or match as many characters as possible so that the regex pattern is still satisfied."
   ]
  },
  {
   "cell_type": "code",
   "execution_count": null,
   "metadata": {
    "execution": {
     "iopub.execute_input": "2022-01-16T16:30:56.759432Z",
     "iopub.status.busy": "2022-01-16T16:30:56.759098Z",
     "iopub.status.idle": "2022-01-16T16:30:56.785135Z",
     "shell.execute_reply": "2022-01-16T16:30:56.784363Z",
     "shell.execute_reply.started": "2022-01-16T16:30:56.759342Z"
    }
   },
   "outputs": [],
   "source": [
    "import re\n",
    "re.findall('a?', 'aaaa')"
   ]
  },
  {
   "cell_type": "code",
   "execution_count": null,
   "metadata": {
    "execution": {
     "iopub.execute_input": "2022-01-16T16:31:10.219557Z",
     "iopub.status.busy": "2022-01-16T16:31:10.219251Z",
     "iopub.status.idle": "2022-01-16T16:31:10.225656Z",
     "shell.execute_reply": "2022-01-16T16:31:10.224891Z",
     "shell.execute_reply.started": "2022-01-16T16:31:10.219527Z"
    }
   },
   "outputs": [],
   "source": [
    "re.findall('a*', 'aaaa')"
   ]
  },
  {
   "cell_type": "code",
   "execution_count": null,
   "metadata": {
    "execution": {
     "iopub.execute_input": "2022-01-16T16:31:37.938827Z",
     "iopub.status.busy": "2022-01-16T16:31:37.938541Z",
     "iopub.status.idle": "2022-01-16T16:31:37.944606Z",
     "shell.execute_reply": "2022-01-16T16:31:37.943888Z",
     "shell.execute_reply.started": "2022-01-16T16:31:37.938794Z"
    }
   },
   "outputs": [],
   "source": [
    "re.findall('a+', 'aaaa')"
   ]
  },
  {
   "cell_type": "code",
   "execution_count": null,
   "metadata": {
    "execution": {
     "iopub.execute_input": "2022-01-16T16:32:06.531491Z",
     "iopub.status.busy": "2022-01-16T16:32:06.531019Z",
     "iopub.status.idle": "2022-01-16T16:32:06.538005Z",
     "shell.execute_reply": "2022-01-16T16:32:06.537435Z",
     "shell.execute_reply.started": "2022-01-16T16:32:06.53144Z"
    }
   },
   "outputs": [],
   "source": [
    "re.findall('a{3}', 'aaaa')"
   ]
  },
  {
   "cell_type": "code",
   "execution_count": null,
   "metadata": {
    "execution": {
     "iopub.execute_input": "2022-01-16T16:32:15.551857Z",
     "iopub.status.busy": "2022-01-16T16:32:15.551138Z",
     "iopub.status.idle": "2022-01-16T16:32:15.55741Z",
     "shell.execute_reply": "2022-01-16T16:32:15.556467Z",
     "shell.execute_reply.started": "2022-01-16T16:32:15.551819Z"
    }
   },
   "outputs": [],
   "source": [
    "re.findall('a{1,2}', 'aaaa')"
   ]
  },
  {
   "cell_type": "markdown",
   "metadata": {},
   "source": [
    "A non-greedy match means that the regex engine matches as few characters as possible—so that it still can match the pattern in the given string."
   ]
  },
  {
   "cell_type": "markdown",
   "metadata": {},
   "source": [
    "You can make the default quantifiers `?, *, +, {m}, and {m,n}` non-greedy by appending a question mark symbol `'?' to them: ??, *?, +?, and {m,n}?`. they “consume” or match as few characters as possible so that the regex pattern is still satisfied"
   ]
  },
  {
   "cell_type": "code",
   "execution_count": null,
   "metadata": {
    "execution": {
     "iopub.execute_input": "2022-01-16T16:34:15.231465Z",
     "iopub.status.busy": "2022-01-16T16:34:15.231193Z",
     "iopub.status.idle": "2022-01-16T16:34:15.23699Z",
     "shell.execute_reply": "2022-01-16T16:34:15.236462Z",
     "shell.execute_reply.started": "2022-01-16T16:34:15.231437Z"
    }
   },
   "outputs": [],
   "source": [
    "import re\n",
    "re.findall('a?', 'aaaa')"
   ]
  },
  {
   "cell_type": "code",
   "execution_count": null,
   "metadata": {
    "execution": {
     "iopub.execute_input": "2022-01-16T16:34:32.719375Z",
     "iopub.status.busy": "2022-01-16T16:34:32.718932Z",
     "iopub.status.idle": "2022-01-16T16:34:32.725792Z",
     "shell.execute_reply": "2022-01-16T16:34:32.725125Z",
     "shell.execute_reply.started": "2022-01-16T16:34:32.719329Z"
    }
   },
   "outputs": [],
   "source": [
    "re.findall('a??', 'aaaa')"
   ]
  },
  {
   "cell_type": "markdown",
   "metadata": {},
   "source": [
    "**Non-Greedy Asterisk Operator (*?)**"
   ]
  },
  {
   "cell_type": "code",
   "execution_count": null,
   "metadata": {
    "execution": {
     "iopub.execute_input": "2022-01-16T16:36:37.532021Z",
     "iopub.status.busy": "2022-01-16T16:36:37.531204Z",
     "iopub.status.idle": "2022-01-16T16:36:37.537069Z",
     "shell.execute_reply": "2022-01-16T16:36:37.536364Z",
     "shell.execute_reply.started": "2022-01-16T16:36:37.53198Z"
    }
   },
   "outputs": [],
   "source": [
    "re.findall('a*', 'aaaa')"
   ]
  },
  {
   "cell_type": "code",
   "execution_count": null,
   "metadata": {
    "execution": {
     "iopub.execute_input": "2022-01-16T16:36:43.471524Z",
     "iopub.status.busy": "2022-01-16T16:36:43.470905Z",
     "iopub.status.idle": "2022-01-16T16:36:43.477288Z",
     "shell.execute_reply": "2022-01-16T16:36:43.4763Z",
     "shell.execute_reply.started": "2022-01-16T16:36:43.471483Z"
    }
   },
   "outputs": [],
   "source": [
    "re.findall('a*?', 'aaaa')"
   ]
  },
  {
   "cell_type": "code",
   "execution_count": null,
   "metadata": {
    "execution": {
     "iopub.execute_input": "2022-01-16T16:37:25.679803Z",
     "iopub.status.busy": "2022-01-16T16:37:25.679164Z",
     "iopub.status.idle": "2022-01-16T16:37:25.686016Z",
     "shell.execute_reply": "2022-01-16T16:37:25.685228Z",
     "shell.execute_reply.started": "2022-01-16T16:37:25.679761Z"
    }
   },
   "outputs": [],
   "source": [
    "re.findall('a+', 'aaaa')"
   ]
  },
  {
   "cell_type": "code",
   "execution_count": null,
   "metadata": {},
   "outputs": [],
   "source": [
    "re.findall('a+?', 'aaaa')"
   ]
  },
  {
   "cell_type": "code",
   "execution_count": null,
   "metadata": {
    "execution": {
     "iopub.execute_input": "2022-01-16T16:41:02.539631Z",
     "iopub.status.busy": "2022-01-16T16:41:02.538924Z",
     "iopub.status.idle": "2022-01-16T16:41:03.829873Z",
     "shell.execute_reply": "2022-01-16T16:41:03.829031Z",
     "shell.execute_reply.started": "2022-01-16T16:41:02.539593Z"
    }
   },
   "outputs": [],
   "source": [
    "##Difference between greedy and non-greedy\n",
    "import timeit\n",
    "timeit.timeit('import re;re.findall(\"a*\", \"aaaaaaaaaaaa\")') #greedy approch"
   ]
  },
  {
   "cell_type": "code",
   "execution_count": null,
   "metadata": {
    "execution": {
     "iopub.execute_input": "2022-01-16T16:41:06.070383Z",
     "iopub.status.busy": "2022-01-16T16:41:06.070085Z",
     "iopub.status.idle": "2022-01-16T16:41:10.535314Z",
     "shell.execute_reply": "2022-01-16T16:41:10.53347Z",
     "shell.execute_reply.started": "2022-01-16T16:41:06.07035Z"
    }
   },
   "outputs": [],
   "source": [
    "import timeit\n",
    "timeit.timeit('import re;re.findall(\"a*?\", \"aaaaaaaaaaaa\")') #non-greedy approach"
   ]
  },
  {
   "attachments": {},
   "cell_type": "markdown",
   "metadata": {},
   "source": [
    "Q2. When exactly does greedy versus non-greedy make a difference?  What if you&#39;re looking for a\n",
    "non-greedy match but the only one available is greedy?"
   ]
  },
  {
   "cell_type": "markdown",
   "metadata": {},
   "source": [
    "- So the difference between the greedy and the non-greedy match is the following: The greedy match will try to match as many repetitions of the quantified pattern as possible. \n",
    "- The non-greedy match will try to match as few repetitions of the quantified pattern as possible."
   ]
  },
  {
   "cell_type": "markdown",
   "metadata": {},
   "source": [
    "- If I would have greedy match that I will use time and check the run time in compiler."
   ]
  },
  {
   "cell_type": "code",
   "execution_count": null,
   "metadata": {
    "execution": {
     "iopub.execute_input": "2022-01-17T05:08:40.334301Z",
     "iopub.status.busy": "2022-01-17T05:08:40.333731Z",
     "iopub.status.idle": "2022-01-17T05:08:41.696612Z",
     "shell.execute_reply": "2022-01-17T05:08:41.695751Z",
     "shell.execute_reply.started": "2022-01-17T05:08:40.334257Z"
    }
   },
   "outputs": [],
   "source": [
    "import timeit\n",
    "timeit.timeit('import re;re.search(\"a*\", \"aaaaaaaaaaaa\")')"
   ]
  },
  {
   "attachments": {},
   "cell_type": "markdown",
   "metadata": {},
   "source": [
    "Q3. In a simple match of a string, which looks only for one match and does not do any replacement, is\n",
    "the use of a nontagged group likely to make any practical difference?"
   ]
  },
  {
   "cell_type": "markdown",
   "metadata": {},
   "source": [
    "- It is going to extract the substring from main string according to our desired pattern.\n",
    "- But I always look for the starting string matching from the main string."
   ]
  },
  {
   "cell_type": "code",
   "execution_count": null,
   "metadata": {
    "execution": {
     "iopub.execute_input": "2022-01-17T05:15:43.164061Z",
     "iopub.status.busy": "2022-01-17T05:15:43.163752Z",
     "iopub.status.idle": "2022-01-17T05:15:43.17049Z",
     "shell.execute_reply": "2022-01-17T05:15:43.169479Z",
     "shell.execute_reply.started": "2022-01-17T05:15:43.164025Z"
    }
   },
   "outputs": [],
   "source": [
    "string = '12333chssjabcccabcccdd1273273838'\n",
    "import re\n",
    "pattern = re.compile(r\"[0-9]+\")\n",
    "obj=re.match(pattern,string)\n",
    "print(obj.group())"
   ]
  },
  {
   "attachments": {},
   "cell_type": "markdown",
   "metadata": {},
   "source": [
    "Q5. Unlike a normal regex pattern, a look-ahead condition does not consume the characters it\n",
    "examines. Describe a situation in which this could make a difference in the results of your\n",
    "programme."
   ]
  },
  {
   "cell_type": "markdown",
   "metadata": {},
   "source": [
    "- It is that at the end of a lookahead or a lookbehind, the regex engine hasn't moved on the string. You can chain three more lookaheads after the first, and the regex engine still won't move. In fact, that's a useful technique."
   ]
  },
  {
   "attachments": {
    "40d4a3a8-a4b5-4ade-a242-5b92c2f89124.png": {
     "image/png": "[encoded data removed]"
    }
   },
   "cell_type": "markdown",
   "metadata": {},
   "source": [
    "![image.png](attachment:40d4a3a8-a4b5-4ade-a242-5b92c2f89124.png)"
   ]
  },
  {
   "cell_type": "markdown",
   "metadata": {},
   "source": [
    "Let's get our feet wet right away with an expression that validates a password. The technique shown here will be useful for all kinds of other data you might want to validate (such as email addresses or phone numbers).\n",
    "Our password must meet four conditions:\n",
    "\n",
    "- 1. The password must have between six and ten word characters `\\w`\n",
    "- 2. It must include at least one lowercase character `[a-z]`\n",
    "- 3. It must include at least three uppercase characters `[A-Z]`\n",
    "- 4. It must include at least one digit `\\d`\n"
   ]
  },
  {
   "cell_type": "markdown",
   "metadata": {},
   "source": [
    "Our initial strategy (which we'll later tweak) will be to stand at the beginning of the string and look ahead four times—once for each condition. We'll look to check we have the right number of characters, then we'll look for a lowercase letter, and so on. If all the lookaheads are successful, we'll know the string is a valid password… And we'll simply gobble it all up with a plain `.*`"
   ]
  },
  {
   "cell_type": "markdown",
   "metadata": {},
   "source": [
    "**Condition No.1**\n",
    "- A string that is made of six-to-ten word characters can be written like this: `\\A\\w{6,10}\\z`\n",
    "- The `\\A` anchor asserts that the current position is the beginning of the string. After matching the six to ten word characters, the `\\z` anchor asserts that the current position is the end of the string.\n",
    "\n",
    "- Within a lookahead, this pattern becomes `(?=\\A\\w{6,10}\\z)`. This lookahead asserts: at the current position in the string, what follows is the beginning of the string, six to ten word characters, and the very end of the string.\n",
    "\n",
    "- We want to make this assertion at the very beginning of the string. Therefore, to continue building our pattern, we want to anchor the lookahead with an `\\A`. There is no need to duplicate the `\\A`, so we can take it out of the lookahead. Our pattern becomes:\n",
    "- Final :- `\\A(?=\\w{6,10}\\z)`\n",
    "\n",
    "**Condition No.2**\n",
    "\n",
    "- For our second condition, we need to check that the password contains one lowercase letter. To find one lowercase letter, the simplest idea is to use `.*[a-z]`. That works, but the dot-star first shoots down to the end of the string, so we will always need to backtrack. Just for the sport, can we think of something more efficient? You might think of making the star quantifier reluctant by adding a ?, giving us `.*?[a-z]`, but that too requires backtracking as a lazy quantifier requires backtracking at each step.\n",
    "\n",
    "- For this type of situation, I recommend you use something like `[^a-z]*[a-z]` (or even better, depending on your engine, the atomic `(?>[^a-z]*)[a-z]` or possessive version `[^a-z]*+[a-z]—`but we'll discuss that in the footnotes). The negated character class `[^a-z]` is the counterclass of the lowercase letter `[a-z]` we are looking for: it matches one character that is not a lowercase letter, and the `*` quantifier makes us match zero or more such characters. The pattern `[^a-z]*[a-z]` is a good example of the principle of contrast recommended by the regex style guide.\n",
    "\n",
    "- Let's use this pattern inside a lookahead: `(?=[^a-z]*[a-z])`\n",
    "- The lookahead asserts: at this position in the string (i.e., the beginning of the string), we can match zero or more characters that are not lowercase letters, then we can match one lowercase letter: `[a-z]`\n",
    "- Final :- `\\A(?=\\w{6,10}\\z)(?=[^a-z]*[a-z])`\n",
    "\n",
    "**Condition No.3**\n",
    "\n",
    "- For our third condition, we need to check that the password contains at least three uppercase letters. The logic is similar to condition 2: we look for an optional number of non-uppercase letters, then one uppercase letter… But we need to repeat that three times, for which we'll use the `quantifier {3}.`\n",
    "- We'll use this lookahead: `(?=(?:[^A-Z]*[A-Z]){3})`\n",
    "\n",
    "- The lookahead asserts: at this position in the string (i.e., the beginning of the string), we can do the following three times: match zero or more characters that are not uppercase letters (the job of the negated character class `[^A-Z] with the quantifier *)`, then match one uppercase letter: `[A-Z]`\n",
    "- Our pattern becomes:\n",
    "- Final :- `\\A(?=\\w{6,10}\\z)(?=[^a-z]*[a-z])(?=(?:[^A-Z]*[A-Z]){3})`\n",
    "\n",
    "- **Condition No.4**\n",
    "\n",
    "- To check that the string contains at least one digit, we use this lookahead: `(?=\\D*\\d)`. Opposing `\\d` to its counterclass `\\D` makes good use of the regex principle of contrast.\n",
    "\n",
    "- The lookahead asserts: at this position in the string (i.e., the beginning of the string), we can match zero or more characters that are not digits (the job of the `\"not-a-digit\"` character class `\\D` and the `* quantifier)`, then we can match one digit:`\\d`\n",
    "- Our pattern becomes:\n",
    "- `\\A(?=\\w{6,10}\\z)(?=[^a-z]*[a-z])(?=(?:[^A-Z]*[A-Z]){3})(?=\\D*\\d)`"
   ]
  },
  {
   "attachments": {},
   "cell_type": "markdown",
   "metadata": {},
   "source": [
    "Q6. In standard expressions, what is the difference between positive look-ahead and negative look-\n",
    "ahead?"
   ]
  },
  {
   "cell_type": "markdown",
   "metadata": {},
   "source": [
    "**Positive Look Ahead**\n",
    "\n",
    "- The positive lookahead construct is a pair of parentheses, with the opening parenthesis followed by a question mark and an equals sign. You can use any regular expression inside the lookahead (but not lookbehind, as explained below). Any valid regular expression can be used inside the lookahead.\n",
    "\n",
    "**Positive Look Ahead**\n",
    "\n",
    "- In this type of lookahead the regex engine searches for a particular element which may be a character or characters or a group after the item matched. If that particular element is not present then the regex declares the match as a match otherwise it simply rejects that match."
   ]
  },
  {
   "attachments": {
    "b08c83ef-5aa0-4d87-b227-e0e919296637.png": {
     "image/png": "[encoded data removed]"
    }
   },
   "cell_type": "markdown",
   "metadata": {},
   "source": [
    "![image.png](attachment:b08c83ef-5aa0-4d87-b227-e0e919296637.png)"
   ]
  },
  {
   "cell_type": "markdown",
   "metadata": {},
   "source": [
    "**Positive Look Ahead**"
   ]
  },
  {
   "cell_type": "markdown",
   "metadata": {},
   "source": [
    "- Positive lookahead\n",
    "- `(?=<lookahead_regex>)`"
   ]
  },
  {
   "cell_type": "code",
   "execution_count": 7,
   "metadata": {
    "execution": {
     "iopub.execute_input": "2022-01-17T12:16:24.269274Z",
     "iopub.status.busy": "2022-01-17T12:16:24.268619Z",
     "iopub.status.idle": "2022-01-17T12:16:24.278626Z",
     "shell.execute_reply": "2022-01-17T12:16:24.277235Z",
     "shell.execute_reply.started": "2022-01-17T12:16:24.269231Z"
    }
   },
   "outputs": [],
   "source": [
    "\n",
    "# importing regex\n",
    "import re\n",
    "  \n",
    "# lookahead example\n",
    "example = re.search(r'geeks(?=[a-z])', \"geeksforgeeks\")\n",
    "  \n",
    "# display output\n",
    "print(\"Pattern:\", example.group())\n",
    "print(\"Pattern found from index:\",\n",
    "      example.start(), \"to\",\n",
    "      example.end())"
   ]
  },
  {
   "cell_type": "markdown",
   "metadata": {},
   "source": [
    "- Negative lookahead is opposite of lookahead. It is to assure that the search string is not followed by `<lookahead_regex>.`\n",
    "- Negative Lookahead `(?!<lookahead_regex>)`."
   ]
  },
  {
   "cell_type": "code",
   "execution_count": 8,
   "metadata": {
    "execution": {
     "iopub.execute_input": "2022-01-17T12:18:17.447685Z",
     "iopub.status.busy": "2022-01-17T12:18:17.447357Z",
     "iopub.status.idle": "2022-01-17T12:18:17.455938Z",
     "shell.execute_reply": "2022-01-17T12:18:17.455124Z",
     "shell.execute_reply.started": "2022-01-17T12:18:17.447652Z"
    }
   },
   "outputs": [],
   "source": [
    "# import required module\n",
    "import re\n",
    "  \n",
    "# positive lookahead\n",
    "example1 = re.search('geeks(?=[a-z])',\n",
    "                     'geeksforgeeks')\n",
    "print('Positive Lookahead:', example1.group())\n",
    "  \n",
    "# negative lookahead\n",
    "example2 = re.search('geeks(?![a-z])',\n",
    "                     'geeks123')\n",
    "print('Negative Lookahead:', example2.group())"
   ]
  },
  {
   "attachments": {},
   "cell_type": "markdown",
   "metadata": {},
   "source": [
    "Q7. What is the benefit of referring to groups by name rather than by number in a standard\n",
    "expression?"
   ]
  },
  {
   "cell_type": "markdown",
   "metadata": {},
   "source": [
    "- This metacharacter sequence is similar to grouping parentheses in that it creates a group matching `<regex>` that is accessible through the match object or a subsequent backreference. The difference in this case is that you reference the matched group by its given symbolic `<name>` instead of by its number."
   ]
  },
  {
   "cell_type": "code",
   "execution_count": 9,
   "metadata": {
    "execution": {
     "iopub.execute_input": "2022-01-17T12:38:30.980459Z",
     "iopub.status.busy": "2022-01-17T12:38:30.980111Z",
     "iopub.status.idle": "2022-01-17T12:38:30.990033Z",
     "shell.execute_reply": "2022-01-17T12:38:30.989379Z",
     "shell.execute_reply.started": "2022-01-17T12:38:30.980415Z"
    }
   },
   "outputs": [],
   "source": [
    "m = re.search('(\\w+),(\\w+),(\\w+)', 'foo,quux,baz')\n",
    "m.groups()"
   ]
  },
  {
   "cell_type": "code",
   "execution_count": 14,
   "metadata": {
    "execution": {
     "iopub.execute_input": "2022-01-17T12:43:12.872458Z",
     "iopub.status.busy": "2022-01-17T12:43:12.871899Z",
     "iopub.status.idle": "2022-01-17T12:43:12.878969Z",
     "shell.execute_reply": "2022-01-17T12:43:12.877867Z",
     "shell.execute_reply.started": "2022-01-17T12:43:12.872419Z"
    }
   },
   "outputs": [],
   "source": [
    "m.group(1, 2, 3) #by number "
   ]
  },
  {
   "cell_type": "code",
   "execution_count": 17,
   "metadata": {
    "execution": {
     "iopub.execute_input": "2022-01-17T12:44:34.113174Z",
     "iopub.status.busy": "2022-01-17T12:44:34.112708Z",
     "iopub.status.idle": "2022-01-17T12:44:34.119886Z",
     "shell.execute_reply": "2022-01-17T12:44:34.118969Z",
     "shell.execute_reply.started": "2022-01-17T12:44:34.113140Z"
    }
   },
   "outputs": [],
   "source": [
    "#by name\n",
    "m = re.search('(?P<w1>\\w+),(?P<w2>\\w+),(?P<w3>\\w+)', 'foo,quux,baz')\n",
    "\n",
    "m.group('w1')"
   ]
  },
  {
   "cell_type": "code",
   "execution_count": 18,
   "metadata": {
    "execution": {
     "iopub.execute_input": "2022-01-17T12:44:47.460800Z",
     "iopub.status.busy": "2022-01-17T12:44:47.460329Z",
     "iopub.status.idle": "2022-01-17T12:44:47.466094Z",
     "shell.execute_reply": "2022-01-17T12:44:47.465538Z",
     "shell.execute_reply.started": "2022-01-17T12:44:47.460748Z"
    }
   },
   "outputs": [],
   "source": [
    "m.group('w2') "
   ]
  },
  {
   "cell_type": "code",
   "execution_count": 19,
   "metadata": {
    "execution": {
     "iopub.execute_input": "2022-01-17T12:44:52.758692Z",
     "iopub.status.busy": "2022-01-17T12:44:52.758058Z",
     "iopub.status.idle": "2022-01-17T12:44:52.763555Z",
     "shell.execute_reply": "2022-01-17T12:44:52.762932Z",
     "shell.execute_reply.started": "2022-01-17T12:44:52.758655Z"
    }
   },
   "outputs": [],
   "source": [
    "m.group('w3')"
   ]
  },
  {
   "cell_type": "markdown",
   "metadata": {},
   "source": [
    "`(?P=<name>)`\n",
    "\n",
    "- Matches the contents of a previously captured named group.\n",
    "\n",
    "- The `(?P=<name>)` metacharacter sequence is a backreference, similar to `\\<n>`, except that it refers to a named group rather than a numbered group."
   ]
  },
  {
   "attachments": {},
   "cell_type": "markdown",
   "metadata": {},
   "source": [
    "Q8. Can you identify repeated items within a target string using named groups, as in &quot;The cow\n",
    "jumped over the moon&quot;?"
   ]
  },
  {
   "cell_type": "code",
   "execution_count": 50,
   "metadata": {
    "execution": {
     "iopub.execute_input": "2022-01-17T14:17:11.071983Z",
     "iopub.status.busy": "2022-01-17T14:17:11.071717Z",
     "iopub.status.idle": "2022-01-17T14:17:11.078614Z",
     "shell.execute_reply": "2022-01-17T14:17:11.077756Z",
     "shell.execute_reply.started": "2022-01-17T14:17:11.071954Z"
    }
   },
   "outputs": [],
   "source": [
    "import re\n",
    "string = 'The cow jumped over the moon'\n",
    "pattern = re.findall(r'[eom]+?',string)\n",
    "pattern"
   ]
  },
  {
   "attachments": {},
   "cell_type": "markdown",
   "metadata": {},
   "source": [
    "Q9. When parsing a string, what is at least one thing that the Scanner interface does for you that the\n",
    "re.findall feature does not?"
   ]
  },
  {
   "cell_type": "markdown",
   "metadata": {},
   "source": [
    "- `re.findall()`\n",
    "- Return all non-overlapping matches of pattern in string, as a list of strings. The string is scanned left-to-right, and matches are returned in the order found."
   ]
  }
 ],
 "metadata": {
  "kernelspec": {
   "display_name": "Python 3 (ipykernel)",
   "language": "python",
   "name": "python3"
  },
  "language_info": {
   "codemirror_mode": {
    "name": "ipython",
    "version": 3
   },
   "file_extension": ".py",
   "mimetype": "text/x-python",
   "name": "python",
   "nbconvert_exporter": "python",
   "pygments_lexer": "ipython3",
   "version": "3.9.12"
  }
 },
 "nbformat": 4,
 "nbformat_minor": 4
}
