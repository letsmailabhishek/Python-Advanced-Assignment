{
 "cells": [
  {
   "attachments": {},
   "cell_type": "markdown",
   "metadata": {},
   "source": [
    "Q1. What is the distinction between a numpy array and a pandas data frame? Is there a way to\n",
    "convert between the two if there is?"
   ]
  },
  {
   "cell_type": "markdown",
   "metadata": {},
   "source": [
    "- Numpy is useful to do the numrical operation and store data inside multi-dimensional array.\n",
    "- Pandas store the data in the form of dataframe and series.\n",
    "- Pandas perform data manupulation with help of Statistics concept along with visualization."
   ]
  },
  {
   "cell_type": "code",
   "execution_count": 4,
   "metadata": {
    "execution": {
     "iopub.execute_input": "2022-01-29T13:57:11.299561Z",
     "iopub.status.busy": "2022-01-29T13:57:11.299269Z",
     "iopub.status.idle": "2022-01-29T13:57:11.305257Z",
     "shell.execute_reply": "2022-01-29T13:57:11.304557Z",
     "shell.execute_reply.started": "2022-01-29T13:57:11.299538Z"
    }
   },
   "outputs": [],
   "source": [
    "import numpy as np\n",
    "import pandas as pd\n",
    "arr = np.array([[34,445,66],[747,747,993],[33,4,2]])\n",
    "arr"
   ]
  },
  {
   "cell_type": "code",
   "execution_count": 5,
   "metadata": {
    "execution": {
     "iopub.execute_input": "2022-01-29T13:57:36.790614Z",
     "iopub.status.busy": "2022-01-29T13:57:36.790394Z",
     "iopub.status.idle": "2022-01-29T13:57:36.801695Z",
     "shell.execute_reply": "2022-01-29T13:57:36.800828Z",
     "shell.execute_reply.started": "2022-01-29T13:57:36.790591Z"
    }
   },
   "outputs": [],
   "source": [
    "data = pd.DataFrame(arr)\n",
    "data"
   ]
  },
  {
   "cell_type": "code",
   "execution_count": 6,
   "metadata": {
    "execution": {
     "iopub.execute_input": "2022-01-29T13:57:55.199044Z",
     "iopub.status.busy": "2022-01-29T13:57:55.198768Z",
     "iopub.status.idle": "2022-01-29T13:57:55.204677Z",
     "shell.execute_reply": "2022-01-29T13:57:55.204047Z",
     "shell.execute_reply.started": "2022-01-29T13:57:55.199017Z"
    }
   },
   "outputs": [],
   "source": [
    "data.to_numpy()"
   ]
  },
  {
   "attachments": {},
   "cell_type": "markdown",
   "metadata": {},
   "source": [
    "Q2. What can go wrong when an user enters in a stock-ticker symbol, and how do you handle it?"
   ]
  },
  {
   "cell_type": "markdown",
   "metadata": {},
   "source": [
    "- A ticker symbol is a short code used to spot a company that issues stocks or securities. These codes are produced by the exchanges and kept short to help investors and traders easily find them. Knowing a firm's ticker symbol allows you to access financial and investment data about it quickly."
   ]
  },
  {
   "attachments": {},
   "cell_type": "markdown",
   "metadata": {},
   "source": [
    "Q3. Identify some of the plotting techniques that are used to produce a stock-market chart."
   ]
  },
  {
   "cell_type": "markdown",
   "metadata": {},
   "source": [
    "- Line Plot\n",
    "- ScatterPlot\n",
    "- Bar Chart\n",
    "- Candlestick Chart\n",
    "- Renko Chart\n",
    "- Heikin Ashi Chart\n",
    "- Point and Figure Chart\n",
    "- Histogram\n",
    "- KDE Plot"
   ]
  },
  {
   "attachments": {},
   "cell_type": "markdown",
   "metadata": {},
   "source": [
    "Q4. Why is it essential to print a legend on a stock market chart?"
   ]
  },
  {
   "cell_type": "markdown",
   "metadata": {},
   "source": [
    "- For understanding which stock is high and which is low we used legend.\n",
    "- It give us clarity to identification and stocks manupulation in terms of differnt aspects like high,low,volume and open."
   ]
  },
  {
   "attachments": {},
   "cell_type": "markdown",
   "metadata": {},
   "source": [
    "Q4. Why is it essential to print a legend on a stock market chart?"
   ]
  },
  {
   "cell_type": "markdown",
   "metadata": {},
   "source": [
    "- Inside the pandas dataframe we have slicing operation throgh that we can limit to dataframe less than a year.\n",
    "- For that we need to make indexing of dataframe with the help of date column.\n",
    "- Or we can do the resampling technique."
   ]
  },
  {
   "attachments": {},
   "cell_type": "markdown",
   "metadata": {},
   "source": [
    "Q6. What is the definition of a 180-day moving average?"
   ]
  },
  {
   "cell_type": "markdown",
   "metadata": {},
   "source": [
    "- In statistics, a moving average is a calculation used to analyze data points by creating a series of averages of different subsets of the full data set. In finance, a moving average (MA) is a stock indicator that is commonly used in technical analysis. The reason for calculating the moving average of a stock is to help smooth out the price data by creating a constantly updated average price.\n",
    "- By calculating the moving average, the impacts of random, short-term fluctuations on the price of a stock over a specified time frame are mitigated.\n",
    "- Moving average is a simple, technical analysis tool. Moving averages are usually calculated to identify the trend direction of a stock or to determine its support and resistance levels. It is a trend-following—or lagging—indicator because it is based on past prices."
   ]
  }
 ],
 "metadata": {
  "kernelspec": {
   "display_name": "Python 3 (ipykernel)",
   "language": "python",
   "name": "python3"
  },
  "language_info": {
   "codemirror_mode": {
    "name": "ipython",
    "version": 3
   },
   "file_extension": ".py",
   "mimetype": "text/x-python",
   "name": "python",
   "nbconvert_exporter": "python",
   "pygments_lexer": "ipython3",
   "version": "3.9.12"
  }
 },
 "nbformat": 4,
 "nbformat_minor": 4
}
