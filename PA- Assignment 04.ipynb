{
 "cells": [
  {
   "attachments": {},
   "cell_type": "markdown",
   "metadata": {},
   "source": [
    "Q1. Which two operator overloading methods can you use in your classes to support iteration?"
   ]
  },
  {
   "cell_type": "markdown",
   "metadata": {},
   "source": [
    "For getting the support for the interation inside the class we have two methods these are below way :-\n",
    "- `__iter__()`\n",
    "- `__next__()`"
   ]
  },
  {
   "attachments": {},
   "cell_type": "markdown",
   "metadata": {},
   "source": [
    "Q2. In what contexts do the two operator overloading methods manage printing?"
   ]
  },
  {
   "cell_type": "markdown",
   "metadata": {},
   "source": [
    "- Operator overloading in Python is the ability of a single operator to perform more than one operation based on the class (type) of operands. For example, the + operator can be used to add two numbers, concatenate two strings or merge two lists.\n",
    "- Consider that we have two objects which are a physical representation of a class (user-defined data type) and we have to add two objects with binary ‘+’ operator it throws an error, because compiler don’t know how to add two objects. So we define a method for an operator and that process is called operator overloading."
   ]
  },
  {
   "cell_type": "code",
   "execution_count": 2,
   "metadata": {
    "execution": {
     "iopub.execute_input": "2022-01-14T08:27:41.675554Z",
     "iopub.status.busy": "2022-01-14T08:27:41.675273Z",
     "iopub.status.idle": "2022-01-14T08:27:41.683096Z",
     "shell.execute_reply": "2022-01-14T08:27:41.681820Z",
     "shell.execute_reply.started": "2022-01-14T08:27:41.675526Z"
    }
   },
   "outputs": [],
   "source": [
    "# Python Program illustrate how\n",
    "# to overload an binary + operator\n",
    " \n",
    "class A:\n",
    "    def __init__(self, a):\n",
    "        self.a = a\n",
    " \n",
    "    # adding two objects\n",
    "    def __add__(self, o):\n",
    "        return self.a + o.a\n",
    "ob1 = A(1)\n",
    "ob2 = A(2)\n",
    "ob3 = A(\"Roshan\")\n",
    "ob4 = A(\"Appa\")\n",
    " \n",
    "print(ob1 + ob2)\n",
    "print(ob3 + ob4)"
   ]
  },
  {
   "attachments": {},
   "cell_type": "markdown",
   "metadata": {},
   "source": [
    "Q3. In a class, how do you intercept slice operations?\n"
   ]
  },
  {
   "cell_type": "code",
   "execution_count": 14,
   "metadata": {
    "execution": {
     "iopub.execute_input": "2022-01-14T08:42:54.675065Z",
     "iopub.status.busy": "2022-01-14T08:42:54.674223Z",
     "iopub.status.idle": "2022-01-14T08:42:54.684146Z",
     "shell.execute_reply": "2022-01-14T08:42:54.682896Z",
     "shell.execute_reply.started": "2022-01-14T08:42:54.675015Z"
    }
   },
   "outputs": [],
   "source": [
    "from collections import Sequence\n",
    "class MyStructure(Sequence):\n",
    "    def __init__(self):\n",
    "        self.data = []\n",
    "    def __len__(self):\n",
    "        return len(self.data)\n",
    "\n",
    " \n",
    "    def append(self, item):\n",
    "        self.data.append(item)\n",
    " \n",
    "    def remove(self, item):\n",
    "        self.data.remove(item)\n",
    " \n",
    "    def __repr__(self):\n",
    "        return str(self.data)\n",
    " \n",
    "    def __getitem__(self, sliced):\n",
    "        return self.data[sliced]"
   ]
  },
  {
   "cell_type": "code",
   "execution_count": 25,
   "metadata": {
    "execution": {
     "iopub.execute_input": "2022-01-14T08:47:02.414926Z",
     "iopub.status.busy": "2022-01-14T08:47:02.414586Z",
     "iopub.status.idle": "2022-01-14T08:47:02.420534Z",
     "shell.execute_reply": "2022-01-14T08:47:02.419903Z",
     "shell.execute_reply.started": "2022-01-14T08:47:02.414890Z"
    }
   },
   "outputs": [],
   "source": [
    "m = MyStructure()\n",
    "m.append(10)\n",
    "m.append(20)\n",
    "m.append(60)\n",
    "m.append(90)\n",
    "m.append(23)\n",
    "print(m[0:2])"
   ]
  },
  {
   "attachments": {},
   "cell_type": "markdown",
   "metadata": {},
   "source": [
    "Q4. In a class, how do you capture in-place addition?"
   ]
  },
  {
   "cell_type": "markdown",
   "metadata": {},
   "source": [
    "- Python in its definition provides methods to perform inplace operations, i.e doing assignment and computation in a single statement using “operator” module. For example,\n",
    "\n",
    "- `x += y is equivalent to x = operator.iadd(x, y)` \n",
    "- **iadd() :-** This function is used to assign and add the current value. This operation does “a+=b” operation. Assigning is not performed in case of immutable containers, such as strings, numbers and tuples."
   ]
  },
  {
   "cell_type": "code",
   "execution_count": 27,
   "metadata": {
    "execution": {
     "iopub.execute_input": "2022-01-14T08:54:13.654105Z",
     "iopub.status.busy": "2022-01-14T08:54:13.653284Z",
     "iopub.status.idle": "2022-01-14T08:54:13.659167Z",
     "shell.execute_reply": "2022-01-14T08:54:13.658236Z",
     "shell.execute_reply.started": "2022-01-14T08:54:13.654062Z"
    }
   },
   "outputs": [],
   "source": [
    "import operator\n",
    "x = operator.iadd(2, 3);\n",
    "print(x)"
   ]
  },
  {
   "attachments": {},
   "cell_type": "markdown",
   "metadata": {},
   "source": [
    "Q5. When is it appropriate to use operator overloading?"
   ]
  },
  {
   "cell_type": "markdown",
   "metadata": {},
   "source": [
    "- The operator overloading in Python means provide extended meaning beyond their predefined operational meaning. Such as, we use the \"+\" operator for adding two integers as well as joining two strings or merging two lists. We can achieve this as the \"+\" operator is overloaded by the \"int\" class and \"str\" class.\n",
    "- You can change the meaning of an operator in Python depending upon the operands used.\n",
    "- Python operators work for built-in classes. But the same operator behaves differently with different types. For example, the + operator will perform arithmetic addition on two numbers, merge two lists, or concatenate two strings.\n",
    "- This feature in Python that allows the same operator to have different meaning according to the context is called operator overloading.\n",
    "\n",
    "- So what happens when we use them with objects of a user-defined class? Let us consider the following class, which tries to simulate a point in 2-D coordinate system.\n",
    "\n"
   ]
  },
  {
   "cell_type": "code",
   "execution_count": 28,
   "metadata": {
    "execution": {
     "iopub.execute_input": "2022-01-14T09:00:29.758704Z",
     "iopub.status.busy": "2022-01-14T09:00:29.758335Z",
     "iopub.status.idle": "2022-01-14T09:00:29.778470Z",
     "shell.execute_reply": "2022-01-14T09:00:29.776947Z",
     "shell.execute_reply.started": "2022-01-14T09:00:29.758673Z"
    }
   },
   "outputs": [],
   "source": [
    "class Point:\n",
    "    def __init__(self, x=0, y=0):\n",
    "        self.x = x\n",
    "        self.y = y\n",
    "\n",
    "\n",
    "p1 = Point(1, 2)\n",
    "p2 = Point(2, 3)\n",
    "print(p1+p2)"
   ]
  },
  {
   "cell_type": "markdown",
   "metadata": {},
   "source": [
    "- Here, we can see that a TypeError was raised, since Python didn't know how to add two Point objects together.\n",
    "\n",
    "- However, we can achieve this task in Python through operator overloading. But first, let's get a notion about special functions.\n",
    "- Class functions that begin with double underscore __ are called special functions in Python.\n",
    "- These called as magic methods.\n",
    "- These help to get advantages of all operations."
   ]
  },
  {
   "cell_type": "code",
   "execution_count": 29,
   "metadata": {
    "execution": {
     "iopub.execute_input": "2022-01-14T09:04:10.384025Z",
     "iopub.status.busy": "2022-01-14T09:04:10.383700Z",
     "iopub.status.idle": "2022-01-14T09:04:10.392619Z",
     "shell.execute_reply": "2022-01-14T09:04:10.391851Z",
     "shell.execute_reply.started": "2022-01-14T09:04:10.383982Z"
    }
   },
   "outputs": [],
   "source": [
    "class Point:\n",
    "    def __init__(self, x=0, y=0):\n",
    "        self.x = x\n",
    "        self.y = y\n",
    "\n",
    "    def __str__(self):\n",
    "        return \"({0},{1})\".format(self.x, self.y)\n",
    "\n",
    "    def __add__(self, other):\n",
    "        x = self.x + other.x\n",
    "        y = self.y + other.y\n",
    "        return Point(x, y)\n",
    "\n",
    "\n",
    "p1 = Point(1, 2)\n",
    "p2 = Point(2, 3)\n",
    "\n",
    "print(p1+p2)"
   ]
  }
 ],
 "metadata": {
  "kernelspec": {
   "display_name": "Python 3 (ipykernel)",
   "language": "python",
   "name": "python3"
  },
  "language_info": {
   "codemirror_mode": {
    "name": "ipython",
    "version": 3
   },
   "file_extension": ".py",
   "mimetype": "text/x-python",
   "name": "python",
   "nbconvert_exporter": "python",
   "pygments_lexer": "ipython3",
   "version": "3.9.12"
  }
 },
 "nbformat": 4,
 "nbformat_minor": 4
}
