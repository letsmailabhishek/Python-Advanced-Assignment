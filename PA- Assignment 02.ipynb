{
 "cells": [
  {
   "cell_type": "markdown",
   "id": "aa3289fe",
   "metadata": {},
   "source": [
    "Q1. What is the relationship between classes and modules?"
   ]
  },
  {
   "cell_type": "markdown",
   "id": "e6d44281",
   "metadata": {},
   "source": [
    "* Inside the OOP we have so many files out of which we have main file and that excute first when we run the code.\n",
    "* But for our convenience we have made many files based on the speciality and work and start importing that files inside the main file called as module.\n",
    "* Whereas,Class in nothing but Story telling object that define what kind of behaviour or function it will gonna contain.\n",
    "* Basically, a class can be instantiated but a module cannot. A module will never be anything other than a library of methods. A class can be so much more it can hold its state (by keeping track of instance variables) and be duplicated as many times as you want. It's all about objects.\n",
    "* If you need to instantiate something or otherwise have it exist over time, that's when you need to use a class instead of a module."
   ]
  },
  {
   "cell_type": "markdown",
   "id": "d4c2d9fe",
   "metadata": {},
   "source": [
    "Q2. How do you make instances and classes?"
   ]
  },
  {
   "cell_type": "code",
   "execution_count": 1,
   "id": "e3414dad",
   "metadata": {},
   "outputs": [],
   "source": [
    "#Inside the python we need to first upon create the class that is gonna created with the help of class keyword.\n",
    "#Inside the class that we can use class varible or global variable or class intsnaces.\n",
    "#Inside the method we can get the local variable for that  class like below way.\n",
    "\n",
    "class Student: #class \n",
    "    Age = 18   #instances \n",
    "    def __init__(self,name,sirname):\n",
    "        self.name=name\n",
    "        self.age = age"
   ]
  },
  {
   "cell_type": "markdown",
   "id": "bd0e3ca4",
   "metadata": {},
   "source": [
    "Q3. Where and how should be class attributes created?"
   ]
  },
  {
   "cell_type": "markdown",
   "id": "cb06bb6d",
   "metadata": {},
   "source": [
    "* Inside the any python file we can create the class with the help of class keyword.`\n",
    "* After that we can create the Class attribute these default attribute for  all methods which are available inside that particular class."
   ]
  },
  {
   "cell_type": "code",
   "execution_count": 2,
   "id": "c76607b9",
   "metadata": {},
   "outputs": [],
   "source": [
    "class MyClass:\n",
    "    attr1 = 10        #class attributes\n",
    "    attr2 = \"hello\"\n",
    "\n",
    "    def method1(self):\n",
    "        print(MyClass.attr1)   #reference the class attribute\n",
    "\n",
    "    def method2(self):\n",
    "        print(MyClass.attr2)   #reference the class attribute\n",
    "\n",
    "    def method3(self, text):\n",
    "        self.text = text        #instance attribute\n",
    "        print(text, self.text)   #print my argument and my attribute\n",
    "\n",
    "    method4 = method3   #make an alias for method3"
   ]
  },
  {
   "cell_type": "markdown",
   "id": "cbc1a015",
   "metadata": {},
   "source": [
    "Q4. Where and how are instance attributes created?"
   ]
  },
  {
   "cell_type": "markdown",
   "id": "5fba1405",
   "metadata": {},
   "source": [
    "* Inside the Python after creating the class,we have to create the methods inside that class.If any method contain there own attribute that is called as instance attribute.\n"
   ]
  },
  {
   "cell_type": "code",
   "execution_count": 3,
   "id": "b433127d",
   "metadata": {},
   "outputs": [],
   "source": [
    "class car:\n",
    "    engine = \"64KW\"  #Class attributes\n",
    "    Fuel   = \"Petrol\"\n",
    "    def Average(self,distance_travelled,Fuel_Consumed):  #There are the instances attributes.\n",
    "        return round(self.distance/self.Fuel_Consumed,1)"
   ]
  },
  {
   "cell_type": "markdown",
   "id": "4c5dff5b",
   "metadata": {},
   "source": [
    "Q5. What does the term &quot;self&quot; in a Python class mean?"
   ]
  },
  {
   "cell_type": "markdown",
   "id": "83e3e8a3",
   "metadata": {},
   "source": [
    "* Inside the Python,whenever we have the class and inside the class we have methods that are containing the instances attributes.\n",
    "* But we have multiple objects and out of whcih some objects are going to execute,In that case the self is going to be refer these particular object so that code will run accordingly and gives us relevant output."
   ]
  },
  {
   "cell_type": "code",
   "execution_count": 5,
   "id": "4fb91c20",
   "metadata": {},
   "outputs": [
    {
     "name": "stdout",
     "output_type": "stream",
     "text": [
      "Here is my computer :-  I5 HP 8GB\n",
      "Here is my computer :-  Rayzen Dell 16GB\n"
     ]
    }
   ],
   "source": [
    "class Computer:\n",
    "    def __init__(self,Config,Brand,Ram):\n",
    "        self.Config = Config\n",
    "        self.Brand  = Brand\n",
    "        self.Ram    = Ram\n",
    "        \n",
    "    def my_computer(self):\n",
    "        return print(\"Here is my computer :- \",self.Config,self.Brand,self.Ram)\n",
    "    \n",
    "obj = Computer('I5',\"HP\",'8GB')\n",
    "obj2 = Computer(\"Rayzen\",\"Dell\",\"16GB\")\n",
    "\n",
    "obj.my_computer()#obj is refer at the position of self inside my_computer method\n",
    "obj2.my_computer()#obj2 is refer at the position of self inside my_computer method\n"
   ]
  },
  {
   "cell_type": "markdown",
   "id": "ed4715a6",
   "metadata": {},
   "source": [
    "Q6. How does a Python class handle operator overloading?"
   ]
  },
  {
   "cell_type": "markdown",
   "id": "2f8ae806",
   "metadata": {},
   "source": [
    "* Inside the python we have magic method in order to perform any operation.\n",
    "* When we use an operator on user defined data types then automatically a special function or magic function associated with that operator is invoked. Changing the behavior of operator is as simple as changing the behavior of method or function.\n",
    "* You define methods in your class and operators work according to that behavior defined in methods.\n",
    "* When we use + operator, the magic method add is automatically invoked in which the operation for + operator is defined. There by changing this magic method’s code, we can give extra meaning to the + operator.\n",
    "* This how Operator Overloading work."
   ]
  },
  {
   "cell_type": "code",
   "execution_count": 6,
   "id": "c66e827d",
   "metadata": {},
   "outputs": [
    {
     "data": {
      "text/plain": [
       "22"
      ]
     },
     "execution_count": 6,
     "metadata": {},
     "output_type": "execute_result"
    }
   ],
   "source": [
    "class Overloading:\n",
    "    def __init__(self,a):\n",
    "        self.a = a\n",
    "    \n",
    "    def __add__(self,val):\n",
    "        result = self.a + val.a\n",
    "        return result\n",
    "    \n",
    "obj = Overloading(2)\n",
    "obj2 = Overloading(20)\n",
    "obj+obj2"
   ]
  },
  {
   "cell_type": "markdown",
   "id": "a9b8f7ea",
   "metadata": {},
   "source": [
    "Q7. When do you consider allowing operator overloading of your classes?"
   ]
  },
  {
   "cell_type": "markdown",
   "id": "7a761d77",
   "metadata": {},
   "source": [
    "* This is because the compiler does not know how to add two objects. So, the user has to define the function for using the operator, and that process is known as \"operator overloading\". The user can overload all the existing operators by they cannot create any new operator."
   ]
  },
  {
   "cell_type": "code",
   "execution_count": 8,
   "id": "6ede2ea7",
   "metadata": {},
   "outputs": [
    {
     "data": {
      "text/plain": [
       "'Abhishek yadav'"
      ]
     },
     "execution_count": 8,
     "metadata": {},
     "output_type": "execute_result"
    }
   ],
   "source": [
    "class overload:\n",
    "    def __init__(self,name):\n",
    "        self.name = name\n",
    "    def __add__(self,lastname):\n",
    "        full_name = self.name +\" \"+ lastname.name\n",
    "        return full_name\n",
    "    \n",
    "obj = overload('Abhishek')\n",
    "obj1 = overload('yadav')\n",
    "\n",
    "obj+obj1"
   ]
  },
  {
   "cell_type": "markdown",
   "id": "4f13a0a8",
   "metadata": {},
   "source": [
    "Q8. What is the most popular form of operator overloading?"
   ]
  },
  {
   "cell_type": "markdown",
   "id": "3b809899",
   "metadata": {},
   "source": [
    "* There are some operator Overloading in below way."
   ]
  },
  {
   "cell_type": "code",
   "execution_count": null,
   "id": "96ddcf58",
   "metadata": {},
   "outputs": [],
   "source": [
    "def __add__()\n",
    "def __str__()\n",
    "def __mul__()\n",
    "def __sub__()\n",
    "def __lt__()\n",
    "def __gt__()\n",
    "def __le__()\n",
    "def __ge__()\n",
    "def __ne__()"
   ]
  },
  {
   "cell_type": "markdown",
   "id": "69711a01",
   "metadata": {},
   "source": [
    "Q9. What are the two most important concepts to grasp in order to comprehend Python OOP code?"
   ]
  },
  {
   "cell_type": "markdown",
   "id": "a2a0c8c3",
   "metadata": {},
   "source": [
    "* In order to develop robust and well-designed software products with Python, it is essential to obtain a comprehensive understanding of OOP.There are two key concepts of OOP which are inheritance and polymorphism.\n",
    "\n",
    "* Both inheritance and polymorphism are key ingredients for designing robust, flexible, and easy-to-maintain software."
   ]
  }
 ],
 "metadata": {
  "kernelspec": {
   "display_name": "Python 3 (ipykernel)",
   "language": "python",
   "name": "python3"
  },
  "language_info": {
   "codemirror_mode": {
    "name": "ipython",
    "version": 3
   },
   "file_extension": ".py",
   "mimetype": "text/x-python",
   "name": "python",
   "nbconvert_exporter": "python",
   "pygments_lexer": "ipython3",
   "version": "3.9.12"
  }
 },
 "nbformat": 4,
 "nbformat_minor": 5
}
