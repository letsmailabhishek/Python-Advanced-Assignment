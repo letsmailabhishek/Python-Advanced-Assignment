{
 "cells": [
  {
   "attachments": {},
   "cell_type": "markdown",
   "metadata": {},
   "source": [
    "Q1. Can you create a programme or function that employs both positive and negative indexing? Is\n",
    "there any repercussion if you do so?"
   ]
  },
  {
   "cell_type": "code",
   "execution_count": 69,
   "metadata": {
    "execution": {
     "iopub.execute_input": "2022-01-16T06:52:11.630279Z",
     "iopub.status.busy": "2022-01-16T06:52:11.629801Z",
     "iopub.status.idle": "2022-01-16T06:52:11.638064Z",
     "shell.execute_reply": "2022-01-16T06:52:11.637149Z",
     "shell.execute_reply.started": "2022-01-16T06:52:11.630228Z"
    }
   },
   "outputs": [],
   "source": [
    "def indexing(lst):\n",
    "    def Reverse(lst):\n",
    "        lg= [ele if ele > 0 else ele for ele in reversed(lst)]\n",
    "        return lg[:-1]\n",
    "    ls =[]\n",
    "    lt=[]\n",
    "    for i,j in enumerate(lst):\n",
    "        if i>=0:\n",
    "            ls.append(i)\n",
    "            lt.append((-1*i))\n",
    "            \n",
    "    return ls,Reverse(lt)"
   ]
  },
  {
   "cell_type": "code",
   "execution_count": 70,
   "metadata": {
    "execution": {
     "iopub.execute_input": "2022-01-16T06:52:15.099519Z",
     "iopub.status.busy": "2022-01-16T06:52:15.099236Z",
     "iopub.status.idle": "2022-01-16T06:52:15.107427Z",
     "shell.execute_reply": "2022-01-16T06:52:15.106452Z",
     "shell.execute_reply.started": "2022-01-16T06:52:15.099486Z"
    }
   },
   "outputs": [],
   "source": [
    "indexing([2,3,4,4,5,5,5,656,6])"
   ]
  },
  {
   "attachments": {},
   "cell_type": "markdown",
   "metadata": {},
   "source": [
    "Q2. What is the most effective way of starting with 1,000 elements in a Python list? Assume that all\n",
    "elements should be set to the same value."
   ]
  },
  {
   "cell_type": "code",
   "execution_count": 82,
   "metadata": {
    "execution": {
     "iopub.execute_input": "2022-01-16T07:06:07.270256Z",
     "iopub.status.busy": "2022-01-16T07:06:07.269495Z",
     "iopub.status.idle": "2022-01-16T07:06:07.276037Z",
     "shell.execute_reply": "2022-01-16T07:06:07.275174Z",
     "shell.execute_reply.started": "2022-01-16T07:06:07.270214Z"
    }
   },
   "outputs": [],
   "source": [
    "def make_list(number):\n",
    "    lst =[]\n",
    "    for i in range(number):\n",
    "        lst.append(number)\n",
    "    return lst\n",
    "    "
   ]
  },
  {
   "cell_type": "code",
   "execution_count": 84,
   "metadata": {
    "execution": {
     "iopub.execute_input": "2022-01-16T07:06:30.230119Z",
     "iopub.status.busy": "2022-01-16T07:06:30.229690Z",
     "iopub.status.idle": "2022-01-16T07:06:30.234592Z",
     "shell.execute_reply": "2022-01-16T07:06:30.234036Z",
     "shell.execute_reply.started": "2022-01-16T07:06:30.230087Z"
    }
   },
   "outputs": [],
   "source": [
    "len(make_list(1000))"
   ]
  },
  {
   "attachments": {},
   "cell_type": "markdown",
   "metadata": {},
   "source": [
    "Q3. How do you slice a list to get any other part while missing the rest? (For example, suppose you\n",
    "want to make a new list with the elements first, third, fifth, seventh, and so on.)"
   ]
  },
  {
   "cell_type": "code",
   "execution_count": 89,
   "metadata": {
    "execution": {
     "iopub.execute_input": "2022-01-16T07:11:08.120126Z",
     "iopub.status.busy": "2022-01-16T07:11:08.119433Z",
     "iopub.status.idle": "2022-01-16T07:11:08.127110Z",
     "shell.execute_reply": "2022-01-16T07:11:08.126311Z",
     "shell.execute_reply.started": "2022-01-16T07:11:08.120088Z"
    }
   },
   "outputs": [],
   "source": [
    "lst = [12,34,55,66,7,8,8,8,34,56,77,899,6,2,4,5,90,35]\n",
    "lst[:-1:2]"
   ]
  },
  {
   "attachments": {},
   "cell_type": "markdown",
   "metadata": {},
   "source": [
    "Q4. Explain the distinctions between indexing and slicing."
   ]
  },
  {
   "cell_type": "markdown",
   "metadata": {},
   "source": [
    "- Inside the indexing we will provide the reference number to each element of the list.That could be positive and negetive order.\n",
    "- Inside the Slicing,we will get the subset or full selt of the data which is avaliable inside iterable object by using the reference of indexing for each attribute."
   ]
  },
  {
   "attachments": {},
   "cell_type": "markdown",
   "metadata": {},
   "source": [
    "Q5. What happens if one of the slicing expression&#39;s indexes is out of range?"
   ]
  },
  {
   "cell_type": "code",
   "execution_count": 90,
   "metadata": {
    "execution": {
     "iopub.execute_input": "2022-01-16T07:15:24.281272Z",
     "iopub.status.busy": "2022-01-16T07:15:24.280973Z",
     "iopub.status.idle": "2022-01-16T07:15:24.288402Z",
     "shell.execute_reply": "2022-01-16T07:15:24.287550Z",
     "shell.execute_reply.started": "2022-01-16T07:15:24.281238Z"
    }
   },
   "outputs": [],
   "source": [
    "lst =[12,4,55,66,666,8,3,6,345,5]\n",
    "lst[-1:-20] #return the blank list"
   ]
  },
  {
   "cell_type": "code",
   "execution_count": 92,
   "metadata": {
    "execution": {
     "iopub.execute_input": "2022-01-16T07:16:21.379190Z",
     "iopub.status.busy": "2022-01-16T07:16:21.378352Z",
     "iopub.status.idle": "2022-01-16T07:16:21.386450Z",
     "shell.execute_reply": "2022-01-16T07:16:21.385500Z",
     "shell.execute_reply.started": "2022-01-16T07:16:21.379148Z"
    }
   },
   "outputs": [],
   "source": [
    "lst =[12,4,55,66,666,8,3,6,345,5]\n",
    "lst[1:59] #return the all list attribute till the indexing are avaliable."
   ]
  },
  {
   "attachments": {},
   "cell_type": "markdown",
   "metadata": {},
   "source": [
    "Q6. If you pass a list to a function, and if you want the function to be able to change the values of the\n",
    "list—so that the list is different after the function returns—what action should you avoid?"
   ]
  },
  {
   "cell_type": "markdown",
   "metadata": {},
   "source": [
    "- While removing the any element from the list there may be a chances of getting delete all elements.So there we should have to give the particular input in such manner so that at the end we will get desirable object.\n",
    "- In have use OOP methods in order to avalid loss of data from the list."
   ]
  },
  {
   "cell_type": "code",
   "execution_count": 152,
   "metadata": {
    "execution": {
     "iopub.execute_input": "2022-01-16T08:36:44.037977Z",
     "iopub.status.busy": "2022-01-16T08:36:44.037627Z",
     "iopub.status.idle": "2022-01-16T08:36:44.053048Z",
     "shell.execute_reply": "2022-01-16T08:36:44.052136Z",
     "shell.execute_reply.started": "2022-01-16T08:36:44.037938Z"
    }
   },
   "outputs": [],
   "source": [
    "class Removing_element:\n",
    "\n",
    "    \n",
    "    def __init__(self,lst,element=0,position=0,start=0,end=0,interval=0):\n",
    "        self.lst = lst\n",
    "        self.element = element\n",
    "        self.position=position\n",
    "        self.start = start\n",
    "        self.end = end\n",
    "        self.interval = interval\n",
    "\n",
    "\n",
    "    \n",
    "    def elementwise(self,lst,element):\n",
    "        self.lst.remove(element)\n",
    "        return self.lst\n",
    "    def last_element_wise(self,lst):\n",
    "        self.lst.pop()\n",
    "        return self.lst\n",
    "    def all_element_remove(self,lst):\n",
    "        self.lst.clear()\n",
    "        return self.lst\n",
    "    def range_del(self,lst,start,end,interval):\n",
    "        del self.lst[start:end:interval]\n",
    "        return self.lst\n",
    "    def insertion(self,lst,position,element):\n",
    "        self.lst.insert(position,element)\n",
    "        return self.lst\n",
    "\n",
    "\n",
    "obj2 = Removing_element([23,44,55,55])\n",
    "obj2.insertion(lst=[23,44,55,55],position=1,element=20)\n"
   ]
  },
  {
   "attachments": {},
   "cell_type": "markdown",
   "metadata": {},
   "source": [
    "Q7. What is the concept of an unbalanced matrix?"
   ]
  },
  {
   "cell_type": "markdown",
   "metadata": {},
   "source": [
    "- A matrix is balanced if all cells in the matrix are balanced and a cell of the matrix is balanced if the number of cells in that matrix that are adjacent to that cell is strictly greater than the value written in this cell. \n",
    "- Adjacent cell means cells in the top, down, left, and right cell of each cell if it exists. "
   ]
  },
  {
   "cell_type": "code",
   "execution_count": 164,
   "metadata": {
    "execution": {
     "iopub.execute_input": "2022-01-16T08:50:28.358997Z",
     "iopub.status.busy": "2022-01-16T08:50:28.358558Z",
     "iopub.status.idle": "2022-01-16T08:50:28.367501Z",
     "shell.execute_reply": "2022-01-16T08:50:28.366780Z",
     "shell.execute_reply.started": "2022-01-16T08:50:28.358965Z"
    }
   },
   "outputs": [],
   "source": [
    "N = 3\n",
    "M = 3 \n",
    "import numpy as np\n",
    "mat=np.array([[1,2,3],[4,5,6],[7,8,9]])\n",
    "mat"
   ]
  },
  {
   "cell_type": "markdown",
   "metadata": {},
   "source": [
    "- Unbalanced \n",
    "- Explanation: Each cell of the given grid is not stable, so the overall grid is unbalanced."
   ]
  },
  {
   "cell_type": "code",
   "execution_count": 165,
   "metadata": {
    "execution": {
     "iopub.execute_input": "2022-01-16T08:51:59.769398Z",
     "iopub.status.busy": "2022-01-16T08:51:59.769097Z",
     "iopub.status.idle": "2022-01-16T08:51:59.777525Z",
     "shell.execute_reply": "2022-01-16T08:51:59.776602Z",
     "shell.execute_reply.started": "2022-01-16T08:51:59.769365Z"
    }
   },
   "outputs": [],
   "source": [
    "import numpy as np\n",
    "mat=np.array([[1,2,1],[2,3,2],[1,2,1]])\n",
    "mat"
   ]
  },
  {
   "cell_type": "markdown",
   "metadata": {},
   "source": [
    "- Balanced \n",
    "- Explanation: Each cell of the given grid is stable, so the overall grid is Balanced. "
   ]
  },
  {
   "attachments": {},
   "cell_type": "markdown",
   "metadata": {},
   "source": [
    "Q8. Why is it necessary to use either list comprehension or a loop to create arbitrarily large matrices?"
   ]
  },
  {
   "cell_type": "markdown",
   "metadata": {},
   "source": [
    "Sometimes in the world of competitive programming, we need to initialize the matrix, but we don’t wish to do it in a longer way using a loop. We need a shorthand for this. This type of problem is quite common in dynamic programming domain. Let’s discuss certain ways in which this can be done.\n",
    "\n",
    "- Method: Using List comprehension \n",
    "List comprehension can be treated as a shorthand for performing this particular operation. In list comprehension, we can initialize the inner list and then extend this logic to each row again using the list comprehension."
   ]
  },
  {
   "cell_type": "markdown",
   "metadata": {},
   "source": [
    "### List Comprehension."
   ]
  },
  {
   "cell_type": "code",
   "execution_count": 166,
   "metadata": {
    "execution": {
     "iopub.execute_input": "2022-01-16T08:56:37.916473Z",
     "iopub.status.busy": "2022-01-16T08:56:37.916164Z",
     "iopub.status.idle": "2022-01-16T08:56:37.922503Z",
     "shell.execute_reply": "2022-01-16T08:56:37.921645Z",
     "shell.execute_reply.started": "2022-01-16T08:56:37.916438Z"
    }
   },
   "outputs": [],
   "source": [
    "\n",
    "# Python3 code to demonstrate \n",
    "# initializing matrix\n",
    "# using list comprehension\n",
    "  \n",
    "# Declaring rows\n",
    "N = 5\n",
    "  \n",
    "# Declaring columns\n",
    "M = 4\n",
    "  \n",
    "# using list comprehension \n",
    "# to initializing matrix\n",
    "res = [ [ 0 for i in range(M) ] for j in range(N) ]\n",
    "  \n",
    "# printing result \n",
    "print(\"The matrix after initializing : \" + str(res))"
   ]
  }
 ],
 "metadata": {
  "kernelspec": {
   "display_name": "Python 3 (ipykernel)",
   "language": "python",
   "name": "python3"
  },
  "language_info": {
   "codemirror_mode": {
    "name": "ipython",
    "version": 3
   },
   "file_extension": ".py",
   "mimetype": "text/x-python",
   "name": "python",
   "nbconvert_exporter": "python",
   "pygments_lexer": "ipython3",
   "version": "3.9.12"
  }
 },
 "nbformat": 4,
 "nbformat_minor": 4
}
